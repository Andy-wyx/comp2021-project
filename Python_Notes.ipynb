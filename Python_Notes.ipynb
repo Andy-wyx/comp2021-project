{
  "nbformat": 4,
  "nbformat_minor": 0,
  "metadata": {
    "colab": {
      "name": "Python Notes.ipynb",
      "provenance": [],
      "collapsed_sections": [],
      "toc_visible": true,
      "authorship_tag": "ABX9TyOfWytOQ9wSFiz7Lt1VrDXn",
      "include_colab_link": true
    },
    "kernelspec": {
      "name": "python3",
      "display_name": "Python 3"
    }
  },
  "cells": [
    {
      "cell_type": "markdown",
      "metadata": {
        "id": "view-in-github",
        "colab_type": "text"
      },
      "source": [
        "<a href=\"https://colab.research.google.com/github/Andy-wyx/comp2021-project/blob/main/Python_Notes.ipynb\" target=\"_parent\"><img src=\"https://colab.research.google.com/assets/colab-badge.svg\" alt=\"Open In Colab\"/></a>"
      ]
    },
    {
      "cell_type": "markdown",
      "metadata": {
        "id": "ON0FWpTQ9xrK"
      },
      "source": [
        "#PartA: Python advanced course lecture1 "
      ]
    },
    {
      "cell_type": "markdown",
      "metadata": {
        "id": "x_hqivib-N9J"
      },
      "source": [
        "1.example(LeetCode49-字母异位词分组)"
      ]
    },
    {
      "cell_type": "markdown",
      "metadata": {
        "id": "Mxh_B9gx-_pZ"
      },
      "source": [
        "correct answer"
      ]
    },
    {
      "cell_type": "code",
      "metadata": {
        "id": "DpURh6ZC-591"
      },
      "source": [
        "lst=[\"eat\",\"tea\",\"nat\"]\n",
        "dct={}\n",
        "for i in lst:\n",
        "    key=str(sorted(i))\n",
        "    if key not in dct.keys():\n",
        "        dct[key]=[i]\n",
        "    else:\n",
        "        dct[key].append(i)\n",
        "res=[val for val in dct.values()]\n",
        "print(res)"
      ],
      "execution_count": null,
      "outputs": []
    },
    {
      "cell_type": "markdown",
      "metadata": {
        "id": "RMPZyn4b_GDe"
      },
      "source": [
        "wrong answer"
      ]
    },
    {
      "cell_type": "code",
      "metadata": {
        "id": "CnFi638v_KLS",
        "colab": {
          "base_uri": "https://localhost:8080/",
          "height": 34
        },
        "outputId": "71d3ac05-7898-4dd9-ac9a-ad5356498ea3"
      },
      "source": [
        "lst=[\"eat\",\"tea\",\"nat\"]\n",
        "dct={}\n",
        "for i in lst:\n",
        "    key=sorted(i)\n",
        "    if key not in dct.keys():\n",
        "        dct[key]=[i]\n",
        "    else:\n",
        "        dct[key].append(i)\n",
        "res=[val for val in dct.values()]\n",
        "print(res)"
      ],
      "execution_count": null,
      "outputs": [
        {
          "output_type": "stream",
          "text": [
            "[['eat', 'tea'], ['nat']]\n"
          ],
          "name": "stdout"
        }
      ]
    },
    {
      "cell_type": "markdown",
      "metadata": {
        "id": "QSuCFAmJAgHS"
      },
      "source": [
        "cuz in line 5,key is a list,list is unhashable and mutable which cannot be used as a key in dictionary,so we need to cast it into string type(or tuple...) otherwise,there will be the error:\"unhashable type:list\""
      ]
    },
    {
      "cell_type": "markdown",
      "metadata": {
        "id": "_TiB7Rln_XK0"
      },
      "source": [
        "Supplementary Knowledge:\n",
        "\n",
        "1.more about hashable or unhashable type,pls refer to\n",
        "http://net-informations.com/python/iq/unhashable.htm\n",
        "\n",
        "2.more about python comments in multiple lines:\n",
        "https://dbader.org/blog/python-multiline-comment\n",
        "\n",
        "3.command of openning url link in python(directly open,not clickable):\n",
        "step1:import webbrowser |\n",
        "step2:webbrowser.open(\"url\")"
      ]
    },
    {
      "cell_type": "code",
      "metadata": {
        "id": "jzFHXD9uE4uN"
      },
      "source": [
        "import webbrowser"
      ],
      "execution_count": null,
      "outputs": []
    },
    {
      "cell_type": "code",
      "metadata": {
        "id": "KXcp9mM6CGEB",
        "colab": {
          "base_uri": "https://localhost:8080/",
          "height": 34
        },
        "outputId": "c9eefb0f-fb5e-43ae-e089-cc5cba59a5df"
      },
      "source": [
        "webbrowser.open(\"https://www.google.com/search?q=maksim+mrvica&oq=Marksim+m&aqs=chrome.1.69i57j0l5.27698j0j7&sourceid=chrome&ie=UTF-8\")"
      ],
      "execution_count": null,
      "outputs": [
        {
          "output_type": "execute_result",
          "data": {
            "text/plain": [
              "False"
            ]
          },
          "metadata": {
            "tags": []
          },
          "execution_count": 15
        }
      ]
    },
    {
      "cell_type": "markdown",
      "metadata": {
        "id": "pbZ-LLDtDjx4"
      },
      "source": [
        "TBSolved：webbrowser.open false问题&default browser setting问题"
      ]
    },
    {
      "cell_type": "markdown",
      "metadata": {
        "id": "4AhKIIWAEAno"
      },
      "source": [
        "memory overflow:内存溢出"
      ]
    },
    {
      "cell_type": "markdown",
      "metadata": {
        "id": "WX1rJCTnEI26"
      },
      "source": [
        "2.File processing"
      ]
    },
    {
      "cell_type": "code",
      "metadata": {
        "id": "qOnNnmPIFDVg"
      },
      "source": [
        "f=open('./helloworld.txt','r')\n",
        "for line in f.readlines():\n",
        "  print(line)\n",
        "f.close()"
      ],
      "execution_count": null,
      "outputs": []
    },
    {
      "cell_type": "code",
      "metadata": {
        "id": "Tv7uOQFvGu72"
      },
      "source": [
        "f=open('./helloworld.txt','r')\n",
        "for line in f.read():\n",
        "  print(line)\n",
        "f.close()"
      ],
      "execution_count": null,
      "outputs": []
    },
    {
      "cell_type": "markdown",
      "metadata": {
        "id": "8HEB87--dliy"
      },
      "source": [
        "# PartB: Notes on 《Python编程 从入门到实践》-Eric Matthes"
      ]
    },
    {
      "cell_type": "markdown",
      "metadata": {
        "id": "dFtC9M8p97-d"
      },
      "source": [
        "## Some skills"
      ]
    },
    {
      "cell_type": "markdown",
      "metadata": {
        "id": "8jSCeTVj-JYS"
      },
      "source": [
        "(1)array in python\n"
      ]
    },
    {
      "cell_type": "markdown",
      "metadata": {
        "id": "Ks_0jgerKhGW"
      },
      "source": [
        "input two-dimensional array"
      ]
    },
    {
      "cell_type": "code",
      "metadata": {
        "id": "MHkwIptabBJr",
        "colab": {
          "base_uri": "https://localhost:8080/",
          "height": 50
        },
        "outputId": "c9edbb51-9d93-402f-f7c9-4b5deac87dc0"
      },
      "source": [
        "lists=[[]]*3\n",
        "print(lists)\n",
        "lists[0].append(3)\n",
        "print(lists)"
      ],
      "execution_count": null,
      "outputs": [
        {
          "output_type": "stream",
          "text": [
            "[[], [], []]\n",
            "[[3], [3], [3]]\n"
          ],
          "name": "stdout"
        }
      ]
    },
    {
      "cell_type": "markdown",
      "metadata": {
        "id": "Ps54tyKMbuM6"
      },
      "source": [
        "what has happened is that [[]] is a one-element list containing an empty list,so all three elements of [[]]*3 are (pointers to) this single empty list.Modifying any of elements of lists modifies this single list.You can create a list of different lists this way:"
      ]
    },
    {
      "cell_type": "code",
      "metadata": {
        "id": "S9EDiKyacQvU",
        "colab": {
          "base_uri": "https://localhost:8080/",
          "height": 34
        },
        "outputId": "9e4d0baa-ea26-496d-e9ac-759ec02ea845"
      },
      "source": [
        "lists=[[]for i in range(3)]\n",
        "num=[3,5,7]\n",
        "for i in range(3):\n",
        "  lists[i].append(num[i])\n",
        "lists"
      ],
      "execution_count": null,
      "outputs": [
        {
          "output_type": "execute_result",
          "data": {
            "text/plain": [
              "[[3], [5], [7]]"
            ]
          },
          "metadata": {
            "tags": []
          },
          "execution_count": 7
        }
      ]
    },
    {
      "cell_type": "code",
      "metadata": {
        "id": "w90rhHMw-QON",
        "colab": {
          "base_uri": "https://localhost:8080/",
          "height": 50
        },
        "outputId": "519a8c8e-8271-460d-c606-1c14f2bdd3ba"
      },
      "source": [
        "#定义\n",
        "array1=[[0,0,0],[0,0,0],[0,0,0]]       #直接定义\n",
        "n=3\n",
        "m=4\n",
        "array2=[[0 for x in range(n)] for y in range(m)] #间接定义\n",
        "print(array1)\n",
        "print(array2)"
      ],
      "execution_count": null,
      "outputs": [
        {
          "output_type": "stream",
          "text": [
            "[[0, 0, 0], [0, 0, 0], [0, 0, 0]]\n",
            "[[0, 0, 0], [0, 0, 0], [0, 0, 0], [0, 0, 0]]\n"
          ],
          "name": "stdout"
        }
      ]
    },
    {
      "cell_type": "code",
      "metadata": {
        "id": "xnzR6ISxXwpm",
        "colab": {
          "base_uri": "https://localhost:8080/",
          "height": 84
        },
        "outputId": "aacd282a-a607-4dd3-a133-081281d665b3"
      },
      "source": [
        "#输入\n",
        "a,t=[],3\n",
        "for i in range(t):\n",
        "  line=list(input().split())\n",
        "  a.append(line)\n",
        "a"
      ],
      "execution_count": null,
      "outputs": [
        {
          "output_type": "stream",
          "text": [
            "who are you\n",
            "I am czy\n",
            "nice to mit u\n"
          ],
          "name": "stdout"
        },
        {
          "output_type": "execute_result",
          "data": {
            "text/plain": [
              "[['who', 'are', 'you'], ['I', 'am', 'czy'], ['nice', 'to', 'mit', 'u']]"
            ]
          },
          "metadata": {
            "tags": []
          },
          "execution_count": 8
        }
      ]
    },
    {
      "cell_type": "markdown",
      "metadata": {
        "id": "TsytmZZBhrd4"
      },
      "source": [
        "dimensions;interation(while/for);modify(using index/using slice)\n",
        "delete;\"in\"operation;commands(append,clear,copy,count,extend,index,insert,pop,remove,reverse,sort..)"
      ]
    },
    {
      "cell_type": "code",
      "metadata": {
        "id": "191iIPoFZL6W",
        "colab": {
          "base_uri": "https://localhost:8080/",
          "height": 101
        },
        "outputId": "b0b7eb1d-c6b2-4bdc-c40c-98ed83c6b852"
      },
      "source": [
        "b=[1,2,3,4,5]\n",
        "print(b[2:])\n",
        "print(b[:2])\n",
        "print(b[-1])\n",
        "print(b[0:4])\n",
        "b[1:4]=0,0        #b[1:4]=0就不行。。。\n",
        "print(b)"
      ],
      "execution_count": null,
      "outputs": [
        {
          "output_type": "stream",
          "text": [
            "[3, 4, 5]\n",
            "[1, 2]\n",
            "5\n",
            "[1, 2, 3, 4]\n",
            "[1, 0, 0, 5]\n"
          ],
          "name": "stdout"
        }
      ]
    },
    {
      "cell_type": "markdown",
      "metadata": {
        "id": "EiQupQgvK7Co"
      },
      "source": [
        "# PartC: LeetCode problems and data structure\n",
        "this is my LC 1st Round with py3 in 2021, for improving my programming skills and knowledge about algorithm along with preparations for internship.\n",
        "Note that here i record my codes or solution I learnt in order of Problem number but an appendix attached classify problems in sense of algorithm or concepts."
      ]
    },
    {
      "cell_type": "markdown",
      "metadata": {
        "id": "DIpoJa3u2OWg"
      },
      "source": [
        "algorithm resources\n",
        "\n",
        "1.sorting algorithm comparision and analysis:\n",
        "\n",
        "https://en.wikipedia.org/wiki/Sorting_algorithm\n",
        "\n",
        "https://www.geeksforgeeks.org/analysis-of-different-sorting-techniques/\n",
        "\n",
        "https://afteracademy.com/blog/comparison-of-sorting-algorithms\n",
        "\n",
        "https://www.javatpoint.com/data-structure-tutorial\n",
        "\n",
        "https://adrianmejia.com/most-popular-algorithms-time-complexity-every-programmer-should-know-free-online-tutorial-course/\n",
        "\n",
        "http://staff.ustc.edu.cn/~csli/graduate/algorithms/book6/chap09.htm\n",
        "\n",
        "https://realpython.com/sorting-algorithms-python/#the-timsort-algorithm-in-python\n",
        "\n",
        "2.animation:\n",
        "\n",
        "https://www.cs.usfca.edu/~galles/visualization/ComparisonSort.html\n",
        "\n",
        "3.+my comp2011 data structure coursematerial\n",
        "\n",
        "+books recommended by articles in my bookmark of zhihu\n",
        "\n",
        "+learnings from websites like leetcode\n",
        "\n",
        "\n",
        "\n",
        "\n"
      ]
    },
    {
      "cell_type": "markdown",
      "metadata": {
        "id": "NEuuUB3qLh6c"
      },
      "source": [
        "Appendix:\n",
        "\n",
        "I. foundamental algorithm(初级算法)\n",
        "   1.数组array\n",
        "   2.字符串\n",
        "   3.链表\n",
        "   4.树   \n",
        "\n",
        "II."
      ]
    },
    {
      "cell_type": "markdown",
      "metadata": {
        "id": "-siycL2ER5-e"
      },
      "source": [
        "## LC 1 Two Sum"
      ]
    },
    {
      "cell_type": "markdown",
      "metadata": {
        "id": "XETx-QovR_rm"
      },
      "source": [
        "s1 mine"
      ]
    },
    {
      "cell_type": "markdown",
      "metadata": {
        "id": "l1EL-qndSCek"
      },
      "source": [
        "class Solution:\n",
        "    \n",
        "    def twoSum(self, nums: List[int], target: int) -> List[int]:\n",
        "        n=len(nums)\n",
        "        for i in range(n):\n",
        "            for j in range(i+1,n):\n",
        "                if nums[i]+nums[j]==target:\n",
        "                    return [i,j]\n",
        "        return null"
      ]
    },
    {
      "cell_type": "markdown",
      "metadata": {
        "id": "SHxdvlxYSX3Z"
      },
      "source": [
        "## LC 7 Reverse integer"
      ]
    },
    {
      "cell_type": "markdown",
      "metadata": {
        "id": "evcU0rIySpSq"
      },
      "source": [
        "s1 mine"
      ]
    },
    {
      "cell_type": "markdown",
      "metadata": {
        "id": "RxIv04wkStzf"
      },
      "source": [
        "class Solution:\n",
        "    \n",
        "    def reverse(self, x: int) -> int:\n",
        "        s=str(x)\n",
        "        m=list(s)\n",
        "        symbol=\"\"\n",
        "        if m[0]==\"-\":\n",
        "            del m[0]\n",
        "            symbol=\"-\"\n",
        "        if x==0:\n",
        "            return 0\n",
        "        else:\n",
        "            m=list(reversed(m))\n",
        "            firstNonzeroIndex=0\n",
        "            i=0\n",
        "            found=False\n",
        "            while found!=True:\n",
        "                k=int(m[i])\n",
        "                if k!=0:\n",
        "                    firstNonzeroIndex=i\n",
        "                    found=True\n",
        "                i+=1\n",
        "            m=m[firstNonzeroIndex:]\n",
        "            result=symbol+\"\".join(m)\n",
        "            if int(result)<-pow(2,31) or int(result)>pow(2,31)-1:\n",
        "                return 0\n",
        "            else:\n",
        "                return int(result)\n"
      ]
    },
    {
      "cell_type": "markdown",
      "metadata": {
        "id": "QbKmGUBfS43C"
      },
      "source": [
        "## LC 9 Palindrome number"
      ]
    },
    {
      "cell_type": "markdown",
      "metadata": {
        "id": "Zhhj_SgJS8me"
      },
      "source": [
        "s1 mine"
      ]
    },
    {
      "cell_type": "markdown",
      "metadata": {
        "id": "mweD39pyS9_s"
      },
      "source": [
        "class Solution:\n",
        "    \n",
        "    def isPalindrome(self, x: int) -> bool:\n",
        "        m=list(str(x))\n",
        "        n=list(reversed(m))\n",
        "        if m==n:\n",
        "            return True\n",
        "        else:\n",
        "            return False"
      ]
    },
    {
      "cell_type": "markdown",
      "metadata": {
        "id": "DOWW8hi7TNH-"
      },
      "source": [
        "## LC 13 Roman to integer"
      ]
    },
    {
      "cell_type": "markdown",
      "metadata": {
        "id": "nIXWvS02TPzR"
      },
      "source": [
        "s1 mine"
      ]
    },
    {
      "cell_type": "markdown",
      "metadata": {
        "id": "tOISmYKGTRj-"
      },
      "source": [
        "class Solution:\n",
        "    \n",
        "    def romanToInt(self, s: str) -> int:\n",
        "        value=0\n",
        "        mapping={\"I\":1,\"V\":5,\"X\":10,\"L\":50,\"C\":100,\"D\":500,\"M\":1000}\n",
        "        mix_mapping={\"IV\":4,\"IX\":9,\"XL\":40,\"XC\":90,\"CD\":400,\"CM\":900}\n",
        "        for i in range(len(mix_mapping)):\n",
        "            keys=list(mix_mapping.keys())\n",
        "            if keys[i] in s:\n",
        "                index=s.index(keys[i])\n",
        "                s=s[0:index]+s[index+2:]\n",
        "                values=list(mix_mapping.values())\n",
        "                value+=values[i]\n",
        "        m=list(s)\n",
        "        for i in range(len(m)):\n",
        "            value+=mapping[m[0]]\n",
        "            del m[0]\n",
        "        return value\n",
        "\n",
        "        "
      ]
    },
    {
      "cell_type": "markdown",
      "metadata": {
        "id": "gVoLfVpbN0eg"
      },
      "source": [
        "## LC 26 Remove duplicates from sorted array"
      ]
    },
    {
      "cell_type": "markdown",
      "metadata": {
        "id": "6cjjTys9POIV"
      },
      "source": [
        "S1 mine"
      ]
    },
    {
      "cell_type": "markdown",
      "metadata": {
        "id": "KYFFQfNxOf1E"
      },
      "source": [
        "class Solution:\n",
        "    \n",
        "    def removeDuplicates(self, nums: List[int]) -> int:\n",
        "        i=1\n",
        "        if len(nums)==0:\n",
        "            return 0        \n",
        "        while i!=len(nums):\n",
        "            if nums[i]==nums[i-1]:\n",
        "                del nums[i]\n",
        "            else:\n",
        "                i+=1\n",
        "        return len(nums)\n"
      ]
    },
    {
      "cell_type": "markdown",
      "metadata": {
        "id": "rnHVYGFaPX_N"
      },
      "source": [
        "note: \n",
        "\n",
        "1.记得看special cases:[]，[有重复]，[无重复]，还有len,i有无index out of range\n",
        "\n",
        "2.此题系统会自动追踪原nums, 不允许创建新list以占用extra memory（nums=list(set(nums))这种操作是不是会有extra memory?）\n",
        "\n",
        "3.下面两个和此法相同，分别使用continue和逆向删除的方法进行了简化\n",
        "\n"
      ]
    },
    {
      "cell_type": "markdown",
      "metadata": {
        "id": "AUCVu5d-WqEq"
      },
      "source": [
        "class Solution:\n",
        "    \n",
        "    def removeDuplicates(self, nums: List[int]) -> int:\n",
        "        i = 0\n",
        "        while i < len(nums)-1:\n",
        "            if nums[i] == nums[i+1]:\n",
        "                del nums[i+1]\n",
        "                continue\n",
        "            i = i+1\n",
        "        return len(nums)\n",
        "\n",
        "作者：Anixceed\n",
        "链接：https://leetcode-cn.com/leetbook/read/top-interview-questions-easy/x2gy9m/?discussion=zN8FBq\n",
        "来源：力扣（LeetCode）\n",
        "著作权归作者所有。商业转载请联系作者获得授权，非商业转载请注明出处。"
      ]
    },
    {
      "cell_type": "markdown",
      "metadata": {
        "id": "JFdxYZjSXWew"
      },
      "source": [
        "class Solution:\n",
        "    \n",
        "    def removeDuplicates(self, nums: List[int]) -> int:\n",
        "        for i in range(len(nums) - 1, 0, -1):\n",
        "            if nums[i] == nums[i - 1]:\n",
        "                del nums[i]\n",
        "        return len(nums)\n",
        "\n",
        "作者：xuanli\n",
        "链接：https://leetcode-cn.com/leetbook/read/top-interview-questions-easy/x2gy9m/?discussion=GI58ZK\n",
        "来源：力扣（LeetCode）\n",
        "著作权归作者所有。商业转载请联系作者获得授权，非商业转载请注明出处。"
      ]
    },
    {
      "cell_type": "markdown",
      "metadata": {
        "id": "9Hy7HhNWP8eD"
      },
      "source": [
        "S2 official solution双指针，快慢指针,快指针用来遍历，慢指针重写"
      ]
    },
    {
      "cell_type": "markdown",
      "metadata": {
        "id": "nkX3SHySQEde"
      },
      "source": [
        "class Solution:\n",
        "    \n",
        "    def removeDuplicates(self, nums: List[int]) -> int:\n",
        "        if not nums:\n",
        "            return 0\n",
        "        \n",
        "        n = len(nums)\n",
        "        fast = slow = 1\n",
        "        while fast < n:\n",
        "            if nums[fast] != nums[fast - 1]:\n",
        "                nums[slow] = nums[fast]\n",
        "                slow += 1\n",
        "            fast += 1\n",
        "        \n",
        "        return slow\n",
        "\n",
        "作者：LeetCode-Solution\n",
        "链接：https://leetcode-cn.com/problems/remove-duplicates-from-sorted-array/solution/shan-chu-pai-xu-shu-zu-zhong-de-zhong-fu-tudo/\n",
        "来源：力扣（LeetCode）\n",
        "著作权归作者所有。商业转载请联系作者获得授权，非商业转载请注明出处。"
      ]
    },
    {
      "cell_type": "markdown",
      "metadata": {
        "id": "c0_2bqlgQn8d"
      },
      "source": [
        "Note:\n",
        "\n",
        "1.\t题解用的双指针，fast, slow，O(n) time complexity, 原数组重写O(1) space complexity."
      ]
    },
    {
      "cell_type": "markdown",
      "metadata": {
        "id": "7OdjsujgDIUm"
      },
      "source": [
        ""
      ]
    },
    {
      "cell_type": "markdown",
      "metadata": {
        "id": "1kp28Gj3DIdp"
      },
      "source": [
        "##LC 36 Valid Sudoku"
      ]
    },
    {
      "cell_type": "markdown",
      "metadata": {
        "id": "ln0kjacFDNzG"
      },
      "source": [
        "s1 mine(woshizz)"
      ]
    },
    {
      "cell_type": "markdown",
      "metadata": {
        "id": "HSQARvpwDR7g"
      },
      "source": [
        "class Solution:\n",
        "    \n",
        "    def isValidSudoku(self, board: List[List[str]]) -> bool:\n",
        "        char=[\"1\",\"2\",\"3\",\"4\",\"5\",\"6\",\"7\",\"8\",\"9\",\"10\",\".\"]\n",
        "        def check(alist):\n",
        "            boolean=True\n",
        "            for i in range(9):\n",
        "                boolean=boolean and (alist[i] in char)\n",
        "            if boolean:\n",
        "                for i in range(9):\n",
        "                    boolean=boolean and alist.count(char[i])<2\n",
        "            return boolean\n",
        "        column=[[a[b] for a in board] for b in range(0,9)]\n",
        "        block=[[(board[k1][a:b]+board[k2][a:b]+board[k3][a:b]) for (a,b) in [(0,3),(3,6),(6,9)]] for (k1,k2,k3) in [(0,1,2),(3,4,5),(6,7,8)]]\n",
        "        result=True\n",
        "        for i in range(9):\n",
        "            result=result and check(board[i]) and check(column[i])\n",
        "        for i in range(3):\n",
        "            for j in range(3):\n",
        "                result=result and check(block[i][j])\n",
        "        return result\n",
        "        \n",
        "        \n"
      ]
    },
    {
      "cell_type": "markdown",
      "metadata": {
        "id": "PK1HJZJGECEQ"
      },
      "source": [
        "看题解与评论（此题应该能学到很多）"
      ]
    },
    {
      "cell_type": "markdown",
      "metadata": {
        "id": "o8W4DA5DTYxU"
      },
      "source": [
        "##LC 48 Rotate Image"
      ]
    },
    {
      "cell_type": "markdown",
      "metadata": {
        "id": "DJyXGToxTcon"
      },
      "source": [
        "s1 mine"
      ]
    },
    {
      "cell_type": "markdown",
      "metadata": {
        "id": "cjamndYQTfY8"
      },
      "source": [
        "class Solution:\n",
        "    \n",
        "    def rotate(self, matrix: List[List[int]]) -> None:\n",
        "        \"\"\"\n",
        "        Do not return anything, modify matrix in-place instead.\n",
        "        \"\"\"\n",
        "        n=len(matrix)\n",
        "        matrix2=list(reversed(matrix))\n",
        "        col=[[a[b] for a in matrix2] for b in range(n)] \n",
        "        for i in range(n):\n",
        "            for j in range(n):\n",
        "                matrix[i][j]=col[i][j]"
      ]
    },
    {
      "cell_type": "markdown",
      "metadata": {
        "id": "k__4pKkzTrdF"
      },
      "source": [
        "看题解与评论\n",
        "\n",
        "此外注意此类题要求的modify directly,看一下我的题解是否符合规范，\n",
        "\n",
        "list或matrix等这样的modify directly貌似不能直接把现成的list或matrix赋值给目标，而是需要对原目标的每一位，如list[i]或matrix[i][j]逐个做操作或赋值。"
      ]
    },
    {
      "cell_type": "markdown",
      "metadata": {
        "id": "3tgeq8UN1QYs"
      },
      "source": [
        "##LC 66 Plus One"
      ]
    },
    {
      "cell_type": "markdown",
      "metadata": {
        "id": "ov99oSKm1n0E"
      },
      "source": [
        "s1 mine"
      ]
    },
    {
      "cell_type": "markdown",
      "metadata": {
        "id": "PYYhy1jo1p9c"
      },
      "source": [
        "class Solution:\n",
        "    \n",
        "    def plusOne(self, digits: List[int]) -> List[int]:\n",
        "        digits_str=[str(i) for i in digits] \n",
        "        num=int(\"\".join(digits_str))+1\n",
        "        num_list=list(str(num))\n",
        "        output=[int(j) for j in num_list]\n",
        "        return output"
      ]
    },
    {
      "cell_type": "markdown",
      "metadata": {
        "id": "0I0QumdDbH5F"
      },
      "source": [
        "## LC 122 Best time to buy and sell stock ii"
      ]
    },
    {
      "cell_type": "markdown",
      "metadata": {
        "id": "FePs6nXZbOI_"
      },
      "source": [
        "s1 mine"
      ]
    },
    {
      "cell_type": "markdown",
      "metadata": {
        "id": "LxbdjCQtbPn2"
      },
      "source": [
        "class Solution:\n",
        "    \n",
        "    def maxProfit(self, prices: List[int]) -> int:\n",
        "        if len(prices)<=1:\n",
        "            return 0\n",
        "        max_profit=0\n",
        "        for i in range(1,len(prices)):\n",
        "            gain=prices[i]-prices[i-1]\n",
        "            if gain>0:\n",
        "                max_profit+=gain\n",
        "        return max_profit\n"
      ]
    },
    {
      "cell_type": "markdown",
      "metadata": {
        "id": "7oueJuOYbR8n"
      },
      "source": [
        "## LC 136 single number"
      ]
    },
    {
      "cell_type": "markdown",
      "metadata": {
        "id": "_lGYH1K2bR8u"
      },
      "source": [
        "s1 mine"
      ]
    },
    {
      "cell_type": "markdown",
      "metadata": {
        "id": "MjByB7d_bR8w"
      },
      "source": [
        "class Solution:\n",
        "    \n",
        "    def singleNumber(self, nums: List[int]) -> int:\n",
        "        nums=sorted(nums)\n",
        "        if len(nums)==1:\n",
        "            return nums[0]\n",
        "        elif nums[0]<nums[1]:\n",
        "            return nums[0]\n",
        "        elif nums[len(nums)-2]<nums[len(nums)-1]:\n",
        "            return nums[len(nums)-1]\n",
        "        else:\n",
        "            for i in range(1,len(nums)-1):\n",
        "                if nums[i-1]<nums[i] and nums[i]<nums[i+1]:\n",
        "                    return nums[i]"
      ]
    },
    {
      "cell_type": "markdown",
      "metadata": {
        "id": "TBCJYKTobR8z"
      },
      "source": [
        "![微信图片_20210425213012.jpg](data:image/jpeg;base64,/9j/4AAQSkZJRgABAQAAAQABAAD/2wBDAAEBAQEBAQEBAQEBAQEBAQEBAQEBAQEBAQEBAQEBAQEBAQEBAQEBAQEBAQEBAQEBAQEBAQEBAQEBAQEBAQEBAQH/2wBDAQEBAQEBAQEBAQEBAQEBAQEBAQEBAQEBAQEBAQEBAQEBAQEBAQEBAQEBAQEBAQEBAQEBAQEBAQEBAQEBAQEBAQH/wAARCACNAokDASIAAhEBAxEB/8QAHwAAAQUBAQEBAQEAAAAAAAAAAAECAwQFBgcICQoL/8QAtRAAAgEDAwIEAwUFBAQAAAF9AQIDAAQRBRIhMUEGE1FhByJxFDKBkaEII0KxwRVS0fAkM2JyggkKFhcYGRolJicoKSo0NTY3ODk6Q0RFRkdISUpTVFVWV1hZWmNkZWZnaGlqc3R1dnd4eXqDhIWGh4iJipKTlJWWl5iZmqKjpKWmp6ipqrKztLW2t7i5usLDxMXGx8jJytLT1NXW19jZ2uHi4+Tl5ufo6erx8vP09fb3+Pn6/8QAHwEAAwEBAQEBAQEBAQAAAAAAAAECAwQFBgcICQoL/8QAtREAAgECBAQDBAcFBAQAAQJ3AAECAxEEBSExBhJBUQdhcRMiMoEIFEKRobHBCSMzUvAVYnLRChYkNOEl8RcYGRomJygpKjU2Nzg5OkNERUZHSElKU1RVVldYWVpjZGVmZ2hpanN0dXZ3eHl6goOEhYaHiImKkpOUlZaXmJmaoqOkpaanqKmqsrO0tba3uLm6wsPExcbHyMnK0tPU1dbX2Nna4uPk5ebn6Onq8vP09fb3+Pn6/9oADAMBAAIRAxEAPwD++HU/9ZZf9fMf/oQrWbofof5Vk6n/AKyy/wCvmP8A9CFazdD9D/KgDOsP+PeX/rtJ/wChmp5Rma2Hqrj/AMdqCw/495f+u0n/AKGaml/11v8A7r/+g0AQHSbQknawyScA8DJpP7ItPRvzq63U/U/zpy7eCSc/iP1/rkUAUP7ItPRvzpDpFoQRhhkEZz0z354rVGOxz+OaOlAFQ2kZGMn7uPupx7j5ePoMDJJABOaU20WcgkDbkgcZIxhsjBA74zjIBxnJq0ffvx+dNKA9fTH+f849qAK4tos5JJG3IB5wTnLZOSR3xnGSTjODSC0jAxk/dx91Ofc/Lz9DkZAJBIzVkIB09Mf5/wA49qcPbtx+VAABgAegxRR1ooAKCMgj1GKKD0PegCkbC2JJ2YJ68k9gPX2qM6ZbE5wc/X3Y/wDs36D3zd388jGMj35x9O4x+vtTwc+vIHY+/wCHb+WeooAzxplsDnBz7n3U/wDsv6n2xILC2BB2ZI6ckdiPX3q4Tj14B7H2/Dv/ADx0NM388DOcD34z9e5x+vtQBJ0opMgdSB+NGR6j8xQAtB6Hvx09aKKAKYsbfcx2k57Z6fj15689TSCwtwrDB5JOc9Pp9PfJ96uDJ6jH45paAKJsLfaFwRgjkY56jpjv1NO+w2+5W2njtnr9T146jFWmPTjPOfy/xp1AAOAB6UUUUAFFFFABRRRQAUUUUAFFFFABRRRQAUUUUAFFFFABRRRQAUUUUAFFFFABRRRQAUUUUAFFFFABRRRQAUUUUAFFFFABRRRQAUUUUAFFFFABRRRQAUUUUAFFFFABRRRQAUUUUAFFFFABRRRQBkan/rLL/r5j/wDQhWs3Q/Q/yrJ1P/WWX/XzH/6EK1m6H6H+VAGdYf8AHvL/ANdpP/QzU8nM1sPZ/wD0GoLD/j3l/wCu0n/oZqeT/X230f8A9BFAFjy1yT0z6Y/wpdi+5+p/wxXM+MfFen+CfD9/4j1RJZLHT0DziEoJArHaCN7KD8xVcDJ+bOMAkcZL8ZPC0Pir4f8AhGQXMepfEjwfrHjLQJpF22MVjo0nh+OeHUroK0do87eI7NbV8yedIksax52FgD1oKB0FLXE+LfiF4T8B6DN4k8XazYaNpNtCJZbiWcyvKxCkR2MEcZnv2wxbbBGZNm1/Lw3y+ZeIfj+NCvvscHwd+NOvxvawXltqOheGdAuNNu4LhDJG8Elz4rtLpgEBLZswR6HBwAfQJAwO2CD+v/16XIGBnqcfjXkkvxj8PWcfg+PV9N1/QtZ8cTywaN4X1mxhtPEUDQyeU8up2Ud1PDZWrPho52uW85C3kJM6Og8U1T9vH9mHSvEFh4ZuPiDcS6jqS+bG1r4O8cXltATJJEYpZ7Xw5LE0itE6nynkUHGTg5oA+xWdVxuONxwM9z6CgAYPfJJ/X/61fJPxC/bH+EngJPDLXNl4v18+K9DbxD4dfTdEisobq1AIjMj+Ib/RLiBmbCuFtZyiMWCvtKHlfBX7e/wm8a6poel2/hzx3pj67qLabb3l9B4Sewtp0wHe9e38XS3kcILqVNvY3UrYf9yu0FgD7iopiOGRX4AZQwIJIwRkHJC9jnkD6cU4EHoQeM8HPGSP5gigBaCcAn0GaKaWXkZ68fnx9P1oAotqEQJABJ9ex4B47nuO3INRHVYxwEOeOvHXPTk88eleXfED4leFfhxL4fTxJPLZjxPrsfhnSrx0KaZHrV4hTSrTUr7DLYLquoPaabaStFIGuLpfkwjKfh/4k/8ABTb4JfCvxD4k8M+K/hf+0JDrHhaCG41C3h8BeH1luoZzL9nm0SwvfG1lrGuQzeWzRvpel3LFGRjGodAfPxuPWDlQi4KftpSjd1FDl5XBdYyv8d91a3noH6YjVYzwUOeenPTHXkc8+lSf2jF0Ktn2x9ecngdvx7V8z+Hv2h/BesWvgm61LTtX8KyeO9Hg1jTbPxDCLO70/wC0qZV03XIipGmarFCIprq0nbNuk8QLsXxVXxd+1h+z34Ik0yHX/ix8PYbnV9dg8PQQW/jjwrcSWt9O7oBq8K6ql1pkXyHDSW0jMQUCblIHZGrBxhJyjHnipJOS6pOy11tdLTuu4H1MZCeRwCW447My+nfGcdunPWgMxI57jsP8KwdD8Q6R4hsLfUdIvra9s7mMTQz280c0UkchLBkkRirA57Y9DyDW4vJBHIyORyOvtWgFheo+o/nU9Y+rapBomlX+r3Ks8FhA08qIQGKKVBwW4HXvxxXz9bftTeCLtZTb+HfGMxhuJraR47fw6IDJA5Vykk3iOGQp0YGSCI4PKjBoA+mAAo68e9GRnGefSvGPB/xw8L+PdF1zWPDmleI74+H9Rl02+0u2tdP1DUluYQhO1tJ1LUdLZWDnaq6m00exxcRQHYHaPi9KSu34R/GB8jhk8O6G2c+inxSJTjB/gBxk4waAPZymSSSf8P8A634U4DHcn615TN8XtB0238M3HiXTNc8IP4s8Qnw3pVl4ms00+/N8QpiaaBJrhEhlLKqSLM6kksCUVmGFrv7Q/wAK9Bj1aW+8VaVbxaNsN59svUs5rkyPIix6TbyIz6nIrRkyxxbDErxMxO8AAHuhIHJphkQAksMDqe3rXmV38YPAVno3h3XptctH0fxMXXTr2JzPE5jjikcMIVkbcqyoCmA4Y7cbsgefzftQfB1fEY8M/wDCRzS3R5xF4Z8QPFvzgJ5ws8EHr5gjK/3SRigD6QoqrbXVtcWdteW7f6Lc28NxbuUaPMM8ayxMY3VXQsjqSrqrKThgCCKnaREIDMFLcLnvjHT8x+dAD6KKKACiiigAooooAKKKKACiiigAooooAKKKKACiiigAooooAKKKKACiiigAooooAKKKKACiiigAooooAKKKKACiiigAooooAKKKKACiiigAooooAKKKKACiiigAooooAKKKKAMDWf8AX2P/AF1H/oa1udj/ALg/k1Yes/6+x/66j/0Na3Ox/wBwfyagClp3+pk/67Sf+hGrcn34/q3t6d6qad/qZP8ArtJ/6Eatyffj+rf0oA+PP25tCvvEP7Ovi6ztPDE3iN7dI7hrYeL9W8JrpxiWQQa3cX2jsZ9QtbKXDzadcSQpcq4d5YnQZ/NmDwF4cHxv+F2l/EXwFrtzYaJ8BbyP+3fAXjr4rXNrpHirx/deFG8OP4nnvfEv2/S026DrpC6aCrykI2LcIr/tB8Svh1afEnwvd+Gr/X/E2g2s00b3Vz4XurC0v722TzpJtLmk1HSdeI07UjPGupRJbJNMLW38po0T5874ffBfwZ8M7LVrXw9DeXU+urBHrV5q9/Ld3d9HbWvkQ27Skfu4ET5ljZJSI3dGLLIxIB+aXiP4hsv7M3w10zw1oyeKPF+laj4d8Oaz4n1y+utSuvhjY+OPiZpnw8fxBBa6il39o8Upp/iS+bw5dyPcvZzQXFw2+Ty2T3X46W/7R3wX+FOp+NfA/wAbND/s7RW8N2mkeHdb+HUupXK2ura3p2kv9p1eTxZB5k+dUidPNt4o440KQKj7VHvWg/svfCzSfDHivwZDDrUukeLPFeg+NL7dfw/aLW+8M+K9P8UaNbWV1HbFBaQa1o8Ek0cqvLPA0kQ2s7snR/FP4C+HPjBDpGn+J/Ffjiz8O2EunS3nhHSNQ0O28P8AiNNLuor21i1611Dw/qGoSpHPEHmXT9Q06SQ7vNLgIFAPgv42eE/H+mfE34Rap478TeJPFoitVfxb4rt/Ffh34J+ArmGP7PMnhmQXI8QeIIJ5Lgs8slhqemMdzMY/mzXK3eneJ/HMN58eNJ039oTWNM8C3njGHTL9fjP8N9LurW28O3Nxputx2+nXfwgu7n7Ijpvt1u9RuHdDI7XMjlmP6j6x8IPht4k12117xJ4T0zxFqllapbWra61xq1jBDblFh26BqE82hxSKqKVuY9PSXILKyOykeAy/sIfs4XkGu2974R8SXLa/Pq93d3C/EPx9piI+smdriO30fRfEOm+HLaGJiFtbWPQzCkYXz1nfG4A+TP2ntAsfGR+G/i3xP4M8VeKFtfhpar4af/hKPhvceNfE015aw3Mgbwz4p+EfjGKXULdp5Eur2CGwsrqVmvMRABD8t/sv/C7TLy98OQ2nwg8TaH4t0fxdf6xpo8VeKPg54V/t22Hii+uAujz6T8HLXxDrb2NpHBa3dpb+KG8meBbqG1hilaMfub4V+D3w78J6sniDStAhbxBHpml6Lb69qFxeajfxaXo2nRaXpsFhJfzXNppskemRR2s02kx2Ut6qPNcO5lYJXk+B/wAMrvwna+DNW8NWur6PY3+ralYy3ks8Wr2F9r2qzavqcthrenyWmq6c15fXkzM+n31u5tzHbP5qR4IB22rw3uo+Dr2CPVJfB17c6Iyrqu+CWfQJzbBjcNJN5cDG0YZd32AqrN+7YjbH4IsbrTfC2i2d/wCJ28Y3cFkGm8TusG7VyzMwuwbZ5ICSpA3RuwbG45ZiatX3hfQtS0CfwtqWnLqGiXGmnTbixuGneOex8vyjbtIZvPyQAA4lSYkBjKSC5m8NeH9F8LaDp3h/w/pqaVo2m25t7DTozIVtoQzHYrTu8uSXZsu5PzYyBgUAbJffEHAI3DIB6jg4rOYsRI5Y5VyoHReowcADkZyD2IB7VpyDCY9Bj9DWYRw8Z4Z3LDv8uQc+nQE4JB4oA+B/20RrFjpnwh13TvGOq6HDF8d/hPomo6FDFpF1oHi/Ste8baJb3th4i07VtL1K7vYYfle1/suWzlt5oY3LP5mE/mt+LH7NvxK8XfHaD4uavo/hU2I+KPxRsvDPj7xd8UvF/hn7FY2D3wIXWR4ysv8AhGrMrhVWxNlhsgEZGf6wPi3+z78NfjRcaK3xD0i812w8MyXt5pmmRavrGl28OsXSJHa60G0e/sJn1TSihk0meSYpZSzTuI2MjMPnO8/YC8Ja7YPpOv8Axt+O914bKNGui6ufgfqunOrHAhmi1L4NalNLGx4KtIGJAIYlTXymZ0KlfEJ2qKNOvUrJxjKV/aUsHS5bXitPqqkmm78/LZct5cVTB+0rSre0tzUcPS5eS9vYe0XNfmS99T2tdW3lfT4q/Zli1m9+Ff7Ai+LPGWoa5L4t8JzeG/EnhPxHe+H/ABf4X8R2o01Y2v4brxNpN/4n1MFVRluB4nzKpSQkgjPaeN/gZ8FfD0ngP4a+Nfh7+y9f/Eex+MmhtoqeHPB3wvs/GPi34bx3MxsLzxF4Zawa7+2LYk/8JBttGsby6UMrEMDX2Sn7CPwYk0rRLTV9U+IfiXxJ4TtRp3grx1f+IdN03XvBkcWJbW78MWfhbQvD/hnTZbYbI7ZYvDDWojjgSWwdYUZcS7/YF8N3PiCHxrc/H79oy48cWp22viaa7+Cr6/bR42/6Prk3wKfVoQVJBCTgEEjODmtq2DrTnQUZ1oqk6d2oTfNyYjDV/etJKK/2fl1btz3taNpL6lq37VvT+X07TXZdvM+3tD8P6b4Y0jT9F0nTNP0fTdNsray0/TNJsbTS9M06ytYkt7Wx07TrCG2srCxtII44LWzs4IbS3gRIbeKOJFQdRYSMWwTwQSSe3bPbHrn2HOBXE+EvDt14a8PaToVxreueJZdMsrWzfXPEs9ld65qTW0EcLXmp3Gn2Gl2Ul7O8fn3D22nWkLTyytFbwx4jj76xg2KHYANjHX1x+v588cHNfQUW3ShdWajFNO7d0l31+87jC8cRyS+EvFEcYBdtJudoKLIMiEkko4KtgDOCDjGRzX5s6Zpdvoui69arP8OvEdp4a8NeHfEkt63wm8OlzJ4n8RtoDBpL+83O+jPk3rlslQCOWYt+m3iLRv7f0e/0UX95pgvYfJN5YGEXMQwMbPPjkQjjkEZI7jk1883f7KfhG9GpC48e/E8Pq8Njb6kYtY8LRfaYNOvxqdnDKB4RLPDFej7QkcjSAOSwwxJrUDyHwZY6d4K+FfxAvj411VrRvFtprltcfD/SNI8N2+qa9rFnDbReGNJjudJ1VJ2EjQ/aBa2cQQKj9FbD77RfiPaeMfhpoSfE34jW914t8EeJ9ZuvDc+peHi6a7pliJNNsW1BPCXmxWysQtwHjOxwwJJ219M6F8HtF0Q6dDqGveJ/E9hot3banomm61/ZH2Ww1S1jMJ1AwaNoelR3VyxIdJLrzY0ZmZU5Lm5afCrSLLx3bfEK91rxV4h1izhvrHSbXXb2zutP8PxasS98dKht9Mt5Y0df3QRprgAHhiy7lAPlfVr9m8H+B/EsXjf4hSyx/E7wX4d8ZeG/Gj+GdQt7KVfE9j/aOk3ok8M2JVgy/wCiPCIy5AKhOi+MfE61XUviL4CvbHwkPsGo+JLhtPB+BvgA9FIA32njHd4nxwDuFkMknOS2P0I8c/BH4e/EGK4i1zR5I1u9UstT1E2NxPYHUJ9PdXha6aNoyQCpxJbMkgIWRZFZnaugf4c+GUufB81vbvbx+CPNPh6ygZltIN6AEODu6AKVZmByCx38igD4J+IPw9bXfEXwgTWYdV8P+G7a4vLGHTBplp4Lii1lNQaWfxBb6NoWuajZWF0yNbqhe6fcBE6nklPlqZC93B41W88SoLa0UDA+JSrg/KqrtChUyRwNY+xDgLxzX7LeOvAUfjW68MXban/ZsvhvUJ79Faxa+FyZ0gVoh/plqIMGBWEg87OeEBGa8G1f9jzwZqHhq00C01rU7CXaf7X1E33iu4TU5EKm2kj0pPGdrptqsG653W80N/bTechaJTCC4B794TcSfDjw1K/n7ZfDmjSNt8zzyr6dbMSftDyS7zn5vOkkkzne7vlj5H+zl/wmv2LxT/bn2j/hAv7d/wCLY/29n+3/APhHvJbb5u7nyfM2+V5nz7fu/wAVfRek6ZFpWkaZpCt50WmafZaesjLsMq2VtFbrIy7nKs4iDkF3IJwWbGToNGjkFlDFeVz2zjp+Q/KgB9FFFABRRRQAUUUUAFFFFABRRRQAUUUUAFFFFABRRRQAUUUUAFFFFABRRRQAUUUUAFFFFABRRRQAUUUUAFFFFABRRRQAUUUUAFFFFABRRRQAUUUUAFFFFABRRRQAUUUUAFFFFAGBrP8Ar7H/AK6j/wBDWtzsf9wfyasPWf8AX2P/AF1H/oa1udj/ALg/k1AFLTv9TJ/12k/9CNXG/wBZH/wP/wBBFU9O/wBTJ/12k/8AQjVxv9ZH/wAD/wDQRQBJTQiLnaqjcSxwAMsQASfUkAAnuAB2p1FADVREG1FCgYAAGAAOgA6DGe1OoooAqhFVmcDDt95ucn8e3vjr3p5JJyfUH8R0P1FGD6Hjr7Ug56c4645xQBYpMD0H5UuRzyOOvt9aMj1HTP4ev0oAMD+X6HI/I80YHp/nj/AfkKKKAICSeTTGRWzkDn/9fTp+Yp1KAT0oAhEMQz8inJzyAf58Y9ulSsAy7GAZePlIBHHTII5xSlSOopBycDkjkgckDJGcfUEfUGpcYvVxi33aX+QDQiABQqhQMAYGAAMYx6Y4xUf2a3zn7PDn18qPP57amopezh/JD/wFf5AMEcY6Io6cAccHI46cHkDseRTxx04+n4f4D8hRRVpJaJWXZAFCgBgcck8/iefzopV6j6j+dAE2Bz79aWiigAox/j+mP5UUmR6j86ADAPUA/hS0UUAFFFJkeo/MUALRRRQAUUUUAFFFGR6igAooooAKKMj19/w9aCQOpA+tABRRRQAUUUEgcmgAooooAKKKKACiimPIiY3sFz0zQA+ikDKwDAgg9D6/SmiWNmKqwLA4IHOD6HFAD6KTI9fr2x9fSloAKKKTIzjv1/XFAC0UUUAFFGRnGRn070UAFFFFABRRRQAUUUUAFFFFABRRRQAUUUUAFFFFABRRRQAUUUUAFFFFAGHq3+ts/wDroP8A0IVs9j/uD+TVjat/rbP/AK6D/wBCFbPY/wC4P5NQBT0//VP/ANdX/nVtv9ZH/wAD/wDQRVTT/wDVP/11f+dW2/1kf/A//QRQBj+IfEWk+F9Kv9Z1q7js7DTbC81G5mkJCrb2SK85GAcsA64UAsckgbVYjFi8eeGJNY8O6IdQhi1TxXpF94h0G2kcq2o2GlQ2Z1W4hJXAjsbfULGSRpCgYXKYAIbHzd+3PcfZv2c/HEy2/j65mlSNIV+HKas+pJlGR31abS3jitdG8pHTUL3UWNhaAxNKkoQK35zacCvx0+BXhvxj4k+Mfwz1mz/Z08VDR7y9+Jr332y+vf8AhAk8N2Oi6h4dvXtXiu20bUFubORmdpbG1SRi5L0P/wCT/wDJKNat+PsuXy5ubW1mH7heIvEWl+FNKuNc1y5jsdFsIml1HUZmIisohtVZZVVWYozMFJXlTjgkgV5H4n/aX+Dfg/VjpHiLxfZabO1la3sMsyyiGaG8i8+Eo5j4zCY5MkYxIoOCCK+BfHfxPF3+zd8Jr7xGda+Ifj7UNZ0/REeW6n1TS9G1PXPG1t4E0rxh47lmW5s7m20e41yC5srXVW+zT3U9pBKonljZPbvi34r/AGnvgn8OpPFun2HwD8WeHvD7eG7G3/tibx7F4iv21K903Q1bUWtYo9JO2W6jaUK5AVCyKpUiha8/9ytVou2t3T5by6b823S27voH074h+Pvwl8MeFtF8Za5400mz8M+IXK6Dqsk0yw6pJGokkjgURI8kqRyJK0IXlXHUc153F+2n+zJctchPivoH+iAfbh5kqizDBG3XOF3W2EcS5mC/J8w+YDPhPxt8U+ONIm+Al/8AFL4ieBfhX4nvvEstyPEngzRJtd8NWP8AoMjuWt/GiSPKV3rEJJUUbnDL94Z+Kj8T9Plj/bBQfteaWf7UlMUSQfDzwBv8ckeDY3DwTpYsunjP7oLbk7c5HKAUmtMV/dSS8lZaeYH7ar8VfhwV0tpfG/heA63b291pkdxremwSXkF1EktsRFLMkqvNHImyNlDOxKxhtprb1rxPoXh4aQ+s6lDZLrerWekaRKxyl5fX2Tb2qMmQwfDAOwVQADwcMfxA+I+jeLtTm12/0fRvhzcWNp8N/gKbvU/Er60vjy2U+EtOxJ4YWxb+zkRwQ4W6GEXAU7RmvZvG/gjxDq0vgLTfGXjj4waV4k8P/H7w7oN5pj+PfFN1or2dyW1Pwt4g0TU1v44JDqugT21zcRRSrNZXj3umSXkUtjJFM1rzf3a1el6+wrTo83lzcnNbXlva7tdh+vIw33cEHkY6EdRgemOgqfIzj6frnH8jxXNXtlq8PhiXTfD2og65Hpf2XTNU1t5dQP2xIlijvdRb5nuGJBllcgl3yfLfJQ1vBdr4psfD2mW3jTU7DW/E0FuYtX1XTLdbGwvLxZ5WR7ez2hrdRE6Kykkk8ncc4AOvr83v2if2rP2i/Bv7RHhf9nj9nn4K+CPif4g1/wADar46ur7xl43bwlBBZ6dcadA8NsfIit2liW8Z5C11IWCDCqz4X9Iecc9cfrX5r/tFfsc/GH4tftH+FPjX8OPjwnwbs9H8Aan4D1mTRdJln8Yy2GqarZalNLpV5dLLptrJNcaTYDz5FDrALmIqUnJoA9F8E/Hj9oDwl8O/iX8Uf2vPhP4I+EPhfwB4W/4SlLjwX43h8Zi+trMXZ1GKVtyG1kWJbVrdZEUyPMI8lhXyzpH/AAUe+K2n2nw/+LPxJ/ZvvvBP7MnxO13R9G8NfEeHxPDqviPSLXWL54dM1rxZ4aW3ik0/SruOJpPOtVuJZY45FigOwBu2/ZC8b/FG5+Lv7Q/7JPx68VH4yWHw8stHn0rxH4ksLZtQ1nw7rS3VvNaavElrbWt9C0DIsxlgZg0Y2hVYofHfj9ql/wDto/HHwx+yD8JIba2+Cfwp17Std+OniG0tI00tJ9CuUuLHwNorxkWX255RPa+bbsi2azXUrW066YIrstpg72vJ4SWlrPCNr63J9W3BLX4nvu0Oy/2m6ei09f8AmGt89rf9va3P2sBDAMOQw3Anng8jsO3t+fWmiRCzLuGU27gSONwyvfuOacFCgKCCFAAwc9Bjr/P3r8PNT+FOsftI/wDBRH9pP4Z+K/id8RNG+GfhTwL4Au/+EV8L+K9Y0CC7u77w1pIGH029tHjhS5aeZhFIimSWQqwZnJIPmrRpbc1KtV5r2s6Ps7R2+1z/ACtonsCtq3ey5Nv79ejR+Vva83/bttL3X7h7lxncuPXIxTVdWAIIwQD1HfOO/HQ9f6HH86P7Mn7PXjz44+JP2n/ht8TP2gvirqfhr9mT4l+I/hn8N/sHjDVdOCNYlLyz1fUBbykXZDkZRsMzMQNwAA9N8NfFf9o74jf8E5tXm8Maz4n1vx94B+LXiT4b+LvEXhrfJ4v1b4f+FNZ+w3WoadAHkurjVTpk0aO4kaed7RpGdnmKhXXu/wB+nQrwtbWjia1OlSm+zalKTVto7bho/aWv7letR1tr7Lk97R7S5vPbRvp+8eR6j8xS1+Ff7HGpfswr8XvBw+H3x9+P/hbxWLK2WX4dfEy98Xf2N8RpRbJvkkTxIRm6Rsu4Y/6wMfmI21+6hYbsYwem3B4/IY98jjvTEWK5Lxb428P+CdOi1bxFeJY6dPfafpUVzJnEmq6vqNlpek2CLjLS313eKiHICiNyc8V1SOrjKnPAJxnHP161+Q/xP8O/AX4y/tIeIbObwH4l8W+HvhBbw+KfGdn4M8N+KfE154r8b6nd/YrQrY6SXF0vhxv9POzcoulymcYIB+vJZdu7I24B3E4GD0OfT3rzXUvjD8MNJ1z/AIR2+8aeH49bVpY59PS/gmu7WSLaDHdRQs727NuYKJQuTHIOqNj85/2b9P8AhF4r8UeJI734JfE21v8Aw98Tb2w8L3tx8MfHWiaNp9pYL/oZ8S3FzYrY2JTdmRb8/KNuRjBPzzd+IfE/gvUPjs9ifE3/AAjPif4i/Hqy1iS/+E9ifDRsEk8Tt/oPxZ+wNgguc2S34JJxkjoLX2n9yhWr+vsnD3fLm5/i6W1TvdD05P79alS9Pac3vefLy7aXvurH7Iad8bvhdrPiKw8K6L448O6vrd+Jfs1lpupQ6jcExeX8ssNmXMbSeYwj3soJjcnGBnuL/wAU6HpetaN4e1DUbe01fxB9s/sWzl3iTUDYLG14IMAruhWWMsGKg7gFYnivze+CNp8afDlvZ/DvVPh18DP+EX/4VNofijxN/wAINZeM/wDhMfE1heYsjp7Y22h8SP8AvGG5myGyjBSgH54ax8KPGmv/ABp+K2qWvhG30Cbwx4h/4RfTdAtvHvwX8jwtpcWi2N8sT23xN1NdTbV79L+3Oqajpc8Fjdy274v3QYtwD+lKuO1vx54P8OajFpWveKfD2i39xGkkNtqesWNjdOkhkEZSC4cMwcxsVJABGSAa/Of/AIJ66HeRa/8AGtfFejrD4o+H/jO38JaTfC48HzkeH9Y8K+GfERXd4AdvDDky3oXfa792S0Z2HNanxfufDz/tXfEfTNa+GHiT4jXN9+zt8PB4fs9B8FX/AIvg0/WLjxd8XbQ6lfXNnaXNl4dWdo7S3W71W4sI5xZgRSuYTsA7+Xs//J8RQofh7bm8+Xl0vzL9LLW6huoI54ZFkjkSN1ZGDqyyAFHR1yHSQEMjj5WU545AsngE+lfm54F+IfxL+Amgat4C+JjLex23wsg8VeAWnKKbPU18TPpU/ha8uD893daY3iXwbFLG0j+ZFcrtI3Sxx53g21+MN38V/ipeeMvine3Yf4B6brN54MHhvwytl5moWfiIpYi8XF8v2KRgTjhm3I5xI1AH6WQ3EVxGJrdxMhOAQcDjrjIHr+J4zxVivyh+BHxF+L3wz8J/s2v4o8Xad4p8G/ErTPGFi3gzT/DlnHfeGj4Y0PxR4ksr608RowvL5QPDzW14t98iA5BGFK+neH/i58bE8KfDP4+at4u0a58FfEzxb4c0G7+GB8NaZGPDmieLfETaDpt9p+u2cVtr95qGlzTRTXi3l1fQzw/LHBE7PKAD9EK5L/hM/DB11/DH/CSaF/wkkUcMkmgLq1oNUCz7zEWs3KXOWVSyKArHB3KFPP5zaZ8cf2g5LO/+Jt/4x8OP4M8PftL6t8Jn8HR+Fra3kv8Aw0nidPDSXh1EW7ail3ZG6GMMQdmCSwIPpXx0sdP0n4l+BNau/hwvg7Q9P8deHtSf452H9m3uoaxf3cqFfDj2GnA+JLJ5LqU2Qu9bX+z22N5OYyQAD7d8QeJ9E8LaRda5r19Dp2m2cfmTTzuuADjaFwW3liQBtJ9TxzXkXjD9pr4L+BfEeo+EPE/jTT9O8TaXYWuo3+juWa5t7a/DNYs+VWMm6VHKAOQNjbiBgnwz/goDYWOpfAC50658I3vi6+udX06bTreOSaysYLqBwqNqmpxOBp0UnnRokkkcwdo2GGKZP5f/ABV8DeMYvEl74m1/4c6hoYsfDPw08F+JbLwz44+CeteGbD/imAPDF4n/AAmd5c+JbI6vYg33+nDqMnHGQD9+/BXjfwz8RPD1p4t8H6vZa54f1BrhbTU7Jmlhke3uXt54jna0ckLQFJ4zwHKDDADcujeOPCHiTWde8P6RrNlqet+GZbWHX9Ljkzc6ZNcid7VZ7eUgIZhazvGyjYfIdi4ZBX5s+CfAl9Zfsu+EvB0PwRvvHvijwzrXiGLwlbyeMPCWp2izalKniXUdd1vVvh/PD4U8NhL25+xW+mqytKLANGpZip86fwn8HLuL4bQfCL4beH/Hnx/8UrK3xR8JxyS2DyeGvCCTxa4fEN3NcI/h9LLUNTtbXwxPmNrw3Me1yqHAB+z1c/oPifRfEp1ZdIvI7ptE1W50bUVU/Nb31rtMkbDrtIYFG6Nhscg4/N/xZJf+HPFnwr8N2GiftF+B/AF38LvEWt3vhL4R2/jTUvEmleJh4h8N2MaeJH8NMxIhR71EdfleNiQqiU18s+FPEc2k+Df2mtX8KXf7bNv4p0XVPGmpaAYdE+KsNnHq1j4aaTRpfFW1QYJ/tkZkvjfkuArNuIQmjrb/AB/+SVq1H8fZc3lzW1tdpO9/LkXznRo1vw9ry+fLfS9l+8jkKpJzxj7uM9RjGcDOfWuX8K+MvDHjTRU8QeFdbtNe0WVnWO/tHLxFoyA4yyRtweTvUHqQSBX5ueLfDPxI+L/izwz4VurL4K+IvElv8LvDPiJm8bJ8UYvEf2OYf6aNQPh3Gh7mvpCv3WDO5wdxxXyh+zl8O/H/AIJ+EXw28eN4Y/Z633njgeHPDl3qs3xfe/TxNLrj/YHVPDrfYtr30bKpYMGKEBTgigZ+wWp/tNfA/RfE194P1T4haDa+ItM1mz8PX+nvOQ1trd9g2+mOeQbpvmXaONyMTgAV6Rofjfw34qs9QudE1K31GHTdT1XRNUNq/nHT9T0e9msNQsrsRgmKaGeFgVfaSCp4GTX4kfHqz8T3vxO8VeFtBuY7Pxdd/EPxTq2kWlzbyCy3y+NHex1WSGJWuxA5DPBKSzNGNvmOwY16B+zX8LvDdt8adA+GNxbS3PxI+Fvi34ma98WNYW8kVfEgfxDe/wDCL+JruIYx/wAJKcaxhV3D7cFIGCaIe/h6Nfb2vP7m/Lycv2tL35uytbqB+it3+1t+z7pc0tpd/EfSVktyd5PmMOoyAwQbtpYDgAAEAdq0PAP7UvwJ+J/jFfh/4I+I3hrXvGX2C+1OTw9Z6lC2qRabZeSJLySzfypSrGZcLEsjIod3ARGIu/tDalqXhP4QeN9e8MyrpmsWmmStBewW9tJLEZCod1NxDOobATDbflYBhyBjjv2dPgR4A+G3hrTfGOmadLq/jvxtpNrrfi3xtrJjvfEWsXerWlveTB7uSPEWmWjKsen2UUQFvH5cZebcTQB9T9Bxzxx7+lfGv7Z/7VUH7LfgPw5qmj+H4PHPxH8e+MNJ8E/DzwNJO1tJ4g1rVZSGSa4hR5bSztECSSzrE5DPENpG5h9jwnMSH1UHkgnkZ5wAPboPoK/nn+OXgv8AaR/bD/bl8TeJvghrXgzQdI/Yzt0h8N2/jezfXdI1bx9q9pOZEt9NkUQHUr6CJBBdXyG0tViAMp2grjOtyVqFLlv7X2kpyvb2VGlye1q2s+fl54e7eN7/ABKwadXa/uU/79eX8KlrZRVS07zd+Xl+F30/WL46/tOWf7N3wC074vfEPwy1z4l1aDw5ptj4D8NTyXk2q+Ndetw9n4W0q5uEiWXZcCa3ivzHGs4gE/2eMSqkXgPwx/bR+M1n8W/Afwz/AGm/gXpHwjX4u/aT8MNf8PeJ18S2d7efYhqC6d4h2OBZX5syF2qBhuNo2kV8AfH/APaO8T/tF/sffBXWfiTodro/xE8L/tpfC/wN4qt7EILSbWNM1K8W4ubZFxsjlHnMqqqqsSxYXJJr6v8A26R5f7Sv/BO1WbCQ/FiOM5GfNDaWFAxznftPBOc8fXS79rh6fK/3+ZUsvUtfdVShSruva3vKCqcrheKdlL2ivZPTlqSUl+7yzF5i9tXha2OpewvfR1Hgm+e3u+0a9nLkvP8AUH4n/Enwx8Ifh14u+JvjK5a18N+CtBvdd1meFZJphYWFvJcSLEqbmluHjQqhHV2BJAzj8x9P/wCCiXxp0qx8EfFj4rfs2jwF+zV8Rb/TLfw548h8VRal4ssNP1S4ijsNV8S+GWS2k0vTrmK5tzcX0kojtomLGItuA/Qv9ov4R/8AC9fgl8R/hOdRGlT+O/C+p6BBqbI8sVld3ttLBb3UscbGQwQyMJJQhBZFZVBJAP8AP54hsv2vvFWufAL/AIJr/F7w58L7HS9AbwjeTeJfDPiGLWtcvvh54NWzWLUNRsor908PySxWIW2iWJfLUpheARfLbmT1tVwl30+qKbWMu+6SWis0rWSehKfNCMtpSji3Z7J8sfqid/717vfXVux+p/xe/bT+JafGDWfgV+yr8FrP42eOvAmiW2ufEe91/wASHwvoHhyy1K1F3p9nHe+U0t9qdyuR5MbFDJLEqEll8zsvhN+2vbfG34RWPivwb4TfS/iVN4+f4Ua34C8UyTWNt4X8f2bmHUtO1XUIFZxYJJHI1peR+YLqMq8RYAqZf2r/AI7eC/2S/h9dar4X0LTZfit8QXi8NeE9It7eAah4q1uKM2dk2oTKyTXbW6A+RLPIAzMxUFA0VeY/sp/sfeN/hb8Cra71jX9Ltv2ifG3xB1L4+eNdR1GznudEtPH/AIq/fz6ZPbWV1IgtdPsxbW8kcDsrz20hQRpMXSY8v+1Ndmk1r/tTUXbuk4Wv52W+7Ppay+PWt+HfA/xJv/iToukaV43+FU9jp+vadomo3eoeHdZl1ixsdR0O+8PX9zZW2rSafdw6taRTPfaVbzmeCdUB2/L794M1XWda8O6Lquu6UNF1LU9HsNSutJ883L6bcXiPI9i83lw+Y8CeXvfy0Jkd02jywW/MLxNFrtv8VdZsfiFeWnjB9Kv9B+JXxes/CMN9aeHpPE0Wl2vhz4Y/DLw+NVWOaKN4NEv9dvba8uZBFca5ZT3DvGJlvfvz4a/Fq98ca34g8K+JvAmufDjxfoWlaR4gbw7rmpaJq733h/XbjVbPTdastU8O3d9YmOS50e9t5rdplurVlhE0aSOyqwPZ2yEdgCGKHggFycHYvGQSMkD73PPPOeZufGHh608UaZ4JutSih8S6tYXmp6Zp5LCe8sNKWFtRuouCqxWxmhSYFs/vlAzlsdMwOOCVzgBgN753YU8gjaVyWz0BOSOTX4gftAWXiSXxx+0Z4v074T614i8QeHPFXgK00f4waV450TS2+Hdpe+K9Nt99v4evZbbULyONHMdzHp0t/M6L5kttEiIJQD9qNP8AEmharqOqaRpeq2OoalokdlJqtna3Mc8tiuom6Fn9p8tmEZnNldbATn9y+RkV5F41/ab+Bfw71XUNC8ZfETQ9C1rS4YptQ0u8ecXdslwcW/mBIWjzPhzGBIeI33bSAD+eHin4U/D3wf4RsZLrSPF9v8cl+JXwE1Wf4h6jLqFsfFQ8U/F3wHpE95ZS2N2+mXGlyWFxe2kulCJWtRJdM0comMa8p8fviBYaN4j/AGxtKHx5T4Z3LeE5Vm8Iy+E/DHiGTxWw8N66Pmv9SsJL+zC5a0C2rHClsZ2mg2o0fa83vcvLb7N73v5q23mfpd4L/ap+A/xD1vTvDfg34haNreuasZF0/Trd5BNcPHsyg3JgMQ+RnqFb2B9q1rxFo/h21jvNcvYdOt5XEayTE7d5IG35QTkbgTgEDnmvx7+GnjWx1/xf+ydpcf7Qdl8Tmtr2wI8IDwn4N0L+zmOhpgi80bRkvZPmwcbkJxyys1aGh/DS5+JWr/GXUvEn7K2ufHDT5vjv8WbbTPFb/F3wD4fsZLXRvH/iLT7LTbbQ9b1fT9QsRptvDDak3C5lURqkcPlsDvXoex5fe5ua/wBnlsla3V731va1upx0qvteb3eXlt1ve9/JdvM/YpJ4pI4pUkVo5kSSJ1O5XRwrIysMghgylSDggjFS1+fXwG8C+J/DvxVubyD9nbU/gh4dj8K34mmuviV4Z8bWWrXlqsUGmWqJ4c1XUWspIzeXEgF1tBV5DEz+UyJ+gtYGwUUUUAFFFFABRRRQAUUUUAFFFFABRRRQAUUUUAYerf62z/66D/0IVs9j/uD+TVjat/rbP/roP/QhWz2P+4P5NQBT0/8A1T/9dX/nVtv9ZH/wP/0EVU0//VP/ANdX/nVtv9ZH/wAD/wDQRQB5d8YPh/qvxO8G33g3T/E0/hi21hoYNZurW0sbq4u9J8xGubCMajZahbxC4CuDJ9nMnIUOq7s8R4G/Z58N+GG8T3Gr6he+ML3xXa6PpGo3XieGK+nGgeHzPJoOk28jW9mbaGwkvbqZDBGjJczBgyvGFH0ZRQB8Z6D+yFofh/wX4y8HWPizXVh8V+PfBfjG31K7jhub3RbfwR440HxrpWhQJ5UUc9iuoaNLEHYtsjvfOaSU24muPQPjV8FNa+MWip4S/wCE8vfCfgWafQ7nVNB0vQtF1C81WXRdctNdQPq+qwT31islzp1nHGbGaykWEypNIRKEg+jKKAPI5/hbpsvxF8N+Pnu5p5fCXht/DmiafOolgtDch4prwSFt4meLbG5VQRuL7iuVrzLxT+zzrGrp8UU8KfEnWfB0nxfuFl8VzwaH4e1STyE019Kkt7GLWdMvYbUeRI6n7xk3sGc4zX1TSABQABgDgAdAPSgD5N1v9jT4K+J9Tttc8SaVq+q65BovhXQpdSOt6jZvcWvhG3sbXSWkt7Jre3eVUsvMeQxZMsjlSgIK9V4w+DGu+OPHHhrV9U+IeoQ+B/CWs6drujeB7bSNKZl1HSrK1t4muPELwLrU8U11FdXNwLqa8adJ1jje38tnuPomqOxTLnBz9T6ZxjOMZ5x689aAM/XdJXW9O1PSLmZ0tNX02902YQM8VzH9rgMKzwXCEGF4UeUr8uWdwxceWqNU8IeG7Xwn4d0fw1ZzX09potnFZ202pXj3988UCLEpmupPmd+quehO4rhCK6gADHHTpRgdcDPPb1OT+Z5PvQAdBx/j7+vP518V/tE/s6/F3x7408KfFT4F/Gyf4VfETwpDqOnC31iyu9e8B69pep2yQNa+IvDEM8Ud/JakCW0Jkh8qWV5w29yB9q0UAfmn4B/Yt+Kngzw7+0B4sk+MNhqX7THx18OX+i3PxKfQpIfDfhtpIbq20+bRtEiKXljDaJfXDRQx3YJlhtZo/Le2GPCf2cv2Iv28P2atAl8J+Af2jPgmmkahqlzqmu32q/Ci6u9b1u5uJGlea71OS7mneZTJIkcsiMyByFIAzX7RUUtWoJ6qFKFJLdWhza/9vOV336hd9/6WxTRZEhG7czqhJOGySAT0OG/Mhj3wa+Pvh3+zV4g8Fftd/HD9o6fxNpN94e+K3hvwjoen+Gre0u49U0uTQdO06ymuLy6lAs545ZLKSSEwHciShHJKstfZhVSCMDkY6f4YpNvuf0/w96f/AA3y7AfCn7OX7LfiL4L+OP2q/Fmq+J9H1m2+P/xS8S/EHR7SxtL2GbQLbW4oo7Sx1JpwqXNzamNvMmtAIXD/ACqRmvKvh5+xZ8XPhn8B9d+HHgn44Dwd431L4t+LPidY+KNB09o7QadruoR3sGiahZ3sd3LPFFtC3br+7kfOwMpQV+n4jUAgZAPXp9fSgxqcA84BUcL0YYYdOhHX1pdYPrChRop9bUU0n97vbZPVJBtz6v361SrbonU5dF6cu/XTsflvpH7GH7Q/xA+OXwm+MX7T/wAcvCXjkfAy91bUPhxo/gLwbL4WjW71yLToNTfxCX8ldTM0ek2JR5XnWKSN2SBFdhX6hLHuk8wluuSGV0AAGBlXOOg6gHnnAyBTvK/2n/75t/8A43S+XhQoLqFz0WEdTnpswPwAz3yaYHB+EfC174c1fxjqV1qMuox+JNVhvbOCSad1062gjmVbZBNlR80zZ8oBSqpkcADyTX/gFqsXj/WfiL8MPHK/DvW/ElnZ22tqvhvTNdhuntXuWMyxamJrdDM1wzyAQBt+7955Yjjj+nNqjsPx5/nSbF9P1P8AjQB8b/D/APZ3+LvgDV/EOp2f7Qep3kHijxBfeI9dtZfh38PvNvdQ1HyhMI7oaDHcQ2qmJTFAsuIt0hDZc12k/wCzdocvwp0L4RzeI9el8O22oRX/AIrvHnjGo+Lma4e91U6nMVKp/a9yzyX2FZXLZKPg5+lcfX8z/jS0Aec2Xw9trP4iap8QRfytcaj4YsfCw0wRBLWCzsbt7qGVHEzZZPMePy/KAYFmMnzbR5XD+yv8LItX+JHiW+8PeHfEHij4i+JG8QPr3iTwn4b1i/0cDRtI0mLTbR7vTXFzZwJpTTxRXCMAJzE0biIyyfTXSigD5x+A37P2lfAt/iLe6drMesX/AMR/FFj4m1U2uhaJ4a06wl07w/o/h22s7LRvDdpp2kDEGkma4vo7C1vr1pUS/lu2topx6hZfDnw9YfETXPifCko8T+IPDPh/wnqExdjAdJ8OajrupWMccRYqjmfXZxI/UiFDyXY131BAPBoA+OvjL8IfEvxs+Lfwpj1nwrpem/Dr4W6/L40uvEja2LrUfGN9Jaqtn4Vi0WCC1a002DU7Sz1zUpdQuL23lvtH0SZIt1t5N17HrHwZ8Nav43vvH32rW7HWtW0BfC2twabrF1p+l6zosVrf29tDqVjEzmU2r3jPbmKSIbly6sGY17FgYx2xjHtSYHJ9ce/TkfkTxQB4tD8CPANlZ/DO2gtb5YvhLNc3PhUNeu/ltd2N7p1z/aGFzeBrXULsYJQbnOCAa47w1+zN4B8K6vpuo6dd+L30PSNdPiDQ/A0/ia6n8EaVfqP9Fu9O8Luv2O1axZg9osRUwyKrKobJr6a2jk45P+f8j04o2jO7HPr+lAHz9J+zj8N5PCF34Layvl0K9+Iq/E+dFu3juF8Tw+IU8Ri5abG54jeRbHjbIkR9xUkBhLcfAHw3f+KH8Qar4n8dazbJ4nk8W2/hO/8AEdzN4RttZF4b2KWLSJkkiQwSufLdHDgbtpUqa98Khhhhkeh6HPqO9CqqjCgAeg6en9KAPIPjD8OLv4qeEV8KweKr7wpA13az6jc2Om6Xqkk8Ns8crWzw6rDcRKGKACRUdl3FikpAUfMni/8AYT8O+MLXUrxviN4vtvF3iDWrHXfE2vXRsdb0vxQmmQy2ekaVrPhXVIX0SWw0XTWtNJ0YCx8uw07T7SJYHlEkr/fO1Tnjr168/X1oCKDkDBHpmgD5e0P4D+MND8Kw+DtJ+L17oekG7upL6Pwj4B8F+CpLi2msbGzhtIbjwzpWmPpj25s3m/tHTvIurgzLBI3lQRk4Hh79jH4d+BdW1Lxp8PdY8V+EvibrCga78QLHXb6TWPFqQktY2njGO8kvbHxBYac7zyWltc2a7JLq5k3lpcr9g4AGMcUYGMdvbj+VAHM+GLHXtN0W3tfEniFvEuqw5jutXfS7DTPtjK21n+w6ZHFbxFsH5Y0UZ6LtxnkPhv8ADHT/AIcXHjB7K+lvf+Eu8SzeJJo50Cm1eRCvlQlBmQrlRvJycdBjDeqhVUYAAHf3+tIUVsbgDjGM+xyPyPNAHz548/Z88PeP/G8HxBHi74i+EfEcOktopn8H+KNS8OLLZ7XixN9j278rnjI3A5JG6vHdN/YW8I6Db+DLDR/ij8Wv7G8E+OdN8cWHh/WPFd3ruh3d1Z6hDf3VpeabfF4SLwwiJbmERPAJJmeO58zaPueigD5buP2Y9EvvFviL4lat4l1u/wDibq2oCbQ/GUTRWF54N0m3LfYND0C3jEsUGl2ommF5FJ5kuo+a5upWyCMnwx+yl4W8GeLf+Fg+FPGPjDTPiFeXPm+MfFVzq76xc+OYg5lhs/ENvdKI7uwtJn2Wdr5ipYLvAL5DH65ZVb7wB4I59D1H0PemGGM/wjoR0HQnJHIPBJJI7kk0AfPfxo+EPi74v2tvoVv8S9Q8I+EnEH9s6Hpfh7RrmfV2hlWYfaNU1K3mvrUOPkC6Zc2A2M4n887Qnt1tYw2WmWGnWaCOHTYbWwgRQVCwWcKQrGCOSoEag4PIXI54rZAAGBwBQFAGMDGc+vP40AIB8gAJHygZ78AV+bPxI/Y9+Nem/F7x/wDFP9l/4zaF8KP+FxafZ2vxQ0nxR4YuPEsF5faWkqWeu+Hvs5gOl63Gbi5kS7cTASzSMwlBRU/SiigD82ZP+Cdvw9vf2Wbr9ny78S65L4guPFMPxJb4nOQniOH4n2lwb6z8TqfLJ3RSHywo3b0kMhBYLEud4A/Yx+NWv/F/4d/FD9qT4x6B8T4vg/BJJ8O9H8NeG5dBRdV+yS2Meq6/5jvFe3aQziVpMSPNOswfCyCVf03oohaNNU3GMrThPma1U4c3LJdE1zOzd7N3VjGFJwnOam05wlTaSsuSXLzReuqaik0raLW9lbyHwloPxg0/x7431Xxl458N6/8AD/VGiPgfwxpnhuXStX8OFZF8wanqz3dyupq1upQBI4/3pMp5Yivmz4Dfsh+IfAXx0+N37QHxV8X6J4+8dfE/VI7Xw9d6bp97Z23hTwRaFjZaDb2d+0yW9ypEQuZ7GZYp1DqwIPP3jRTbv/XlY0jFRvby/Dz63PyG+P8A+xF+1h8Tf2srT9pTwV8dPhVo+n+E9KTRPhp4S8Y+BtW8RReEbaWEx6leJBdTXely6vqV4VnmvBD5Z8mHy4IgGD/ePwK8NftE+H/Dmrw/H/4j+C/iF4nuL6VtI1PwZ4STwzYafYOqKttJbCOKSeZZ03SSszlgFIdSgI+hCGzzhgedrEYwAB/cyefmyTweBxxQAw9FUH7q4IwRjGNmeD83B69eKRR8q6V+zxqlp8N/GGh3+vaZd+O/GvjHUfG2seJI7K4FtPfpcWNt4Y0+ISP9qttO8O+F9I0jw3YRt9o+yW1qHj8wh/O7T4Y/D7x1p/jDxB8QviVrOh6n4n1Xw74f8J2cPhq0uLDRrLRtFuNT1J/LsrqW5lhvLvVdXvbi6mFzMJ4TaQgRLajzfdghy53Z3lSoycDH8s8cDjjPUmkCsZfMDfIV2leeoPX+h6duuBQBLXxV40/Yx0zxrrfj28ufix8SdG0Hx/qeiatrHhzQdU+x2k1zol2t7DDdo7TafqVm86hxbahpVykefl5DGT7VoOMHPTHP0oA+cPFvwR8ReM9S0G0vfijrFv8AD/w/r/gfX7fwOnh3wo5uZfAmoWus6baXWvvo0etC2Ot6fY3mY5YpkW18nzJBL5iWbT4C6JF4J+KnhSfWdRubr4py+Mf+Ek8QXENnPemLxN/aEZiWPy/KkW0hvC6pKjbmJQlVYAfQZ4PBIwwGMcdD2BHXd1JPIHFNT7oDFuFTJbkkZIGWwMk4+Yc4zyeTQB8y6j+z3q2r654Iurz4k6tP4Y+H1gLfwz4ZbQfDkX2XUItOt7G31L+2bLTrLUmjU20Rms5GkEwQBJocF39U+GHw50P4ReAtB8C6F9onstHhla4vriVptQ1bVb+5lvtV1W/uJWee6u7+/uZ7iSa4lmn2ukbyyeWpPpXGO2Bx7YHb8KaUQ8lQc4POT05B6+vOaAIEPGQNu7rwM4BOASPTJ79z61JuYdz+PP8AOm0UAWKKKKACiiigAooooAKKKKACiiigAooooAKKKKAMPVv9bZ/9dB/6EK2ex/3B/JqxtW/1tn/10H/oQrZ7H/cH8moAp6f/AKp/+ur/AM6tt/rI/wDgf/oIqpp/+qf/AK6v/Orbf6yP/gf/AKCKAJKKx9b1zTfD1jNqusX+m6XpNmvm6jqOp3yWNtZQkhVkeWSNosMxIxJJCAcfMc8eO/8ADTXwE/4SJPDv/C1fAC30+n32om4PjDw0tp9n01oElD3Q1XCy4uN8UT7ZCiuyrQB71RXnFz8XfhTaaeuqT/EvwDHp8gPk3r+NPDqWk7KAWWG6k1NIZCAyk7XJwynqQK4jw1+1B8BfFWjDW9M+KfgeKz+03NoV1Lxb4bsboS2rhJAILjV1aUcggRNI4UqXQZFAHv1FeN3fx3+G1tqOi6fDr9trEXiRLmPw7rOhzWmr6DrusW43L4c03V7G5mtLjX7kFPsenIzPcM20OrqwrBg/aY+EVxbWt8viGYafd6Ne61FO1rOJVGnShb7T5tPVTqqalasQrWv2Vlf7qs5BwAfQOQehB/GoVI3Dkd+49DXiWt/tG/B7w7eeEtP8QeOvDvh2/wDGenRarpema9rWkaJrMNlcxRTWs9/pGq3dtf2i3aTKbbfbsZTHPgbYmasjT/2nPhn4h1qLQPAo8T/EHWFkRdRs/C3hfUk/sW2lZlt9S1WfxCug28OmXZjmFnqFvJcwXPkyeX8q7qAPouimhgQCeMjODjjjJzgkcDvnHvyKUEHoc4/wB/kQaAFpAQSQCMjGR3Gc4z9cHH0pHGUYBtmQRu/u579R0+or8m/25v2lv2l/gb8UPgtH8N/DHh2P4aeJfij8OPh14l13xO6D+2n8UeIFieG3dQJIQi5hJiZG3GVlKbyoAP1mor4d/bu/afv/ANmP4ITeI/CVrp+r/FfxdqGmeD/hboV7Etx/aPjHXrlLSwZbV5EN1DZxS3V1Nb+ajTQQyJ5igua+lPhCPH7/AA18HS/FC+sr3x7daLZXXiafTbI6dZHU7iCKW6jgszJMbeOJy6RxrJhIyqMWYEsf52+fb18gPTs/4+/Pt+FJkeufpz/KvHvjx8XdF+BPws8ZfFTxCok0fwfoOoarLCJlikvby3WP7DpkBKuRNfyGSJZFjl8orkxvkKfI/wBiPxv8bfih8AfCfxK+O0Oh2Pibx3byeItI0bRNKk0pdH8N3k88uj2mpQy3l952oNavFJNOkiLNkSLFGpXJ/wAN8+wH17kAgev5fTJ6n2GaMjjnrjH49K8r+NfiPU/Bvws8c+L9DeOLWvDfhvUNX02WaETwpdWiK6maJwBLH6ozZIHyqcEH4Z/4Jj/tpah+2F8IvEmpeOL3Tl+KXgXxbqHh/wAWWOn2v9mWz6aipPomq2mnb5WhtJ4b5IPNe5lNzcW8rKFKFaV1rqtN/L1A/ToMDyDkdj6/T16UuR6ivx40j9v3xZ4z/wCClyfsr+D7jw9J8LdA8LawniGdLZp9VufE2nxLK7LfC6MdukL3YVkNsrNtUOWc5rjPA/xp/b8/aC+NH7Rngv4SfEf4N+B/DPwl+IjeG4F8TeANV16/lg1CCZrVEuLfxLp+Wgexm8wgM2XGVQnkheVKnV0tUUmkunJLll8k9L97ppBL3atSlZ3p8l30fOm0l5q35H7dUV+dX7Gn7QXxr8WePfif8Bf2iLXwnqPxP+Glno2qyeNPAYu4vC/iXSNWutTtLaW0tZnuYYGjl0+c7Uu/PXDi5hDFfL/RQkDrTAWioZp0hjeRioCKzHc2wYUEsSxGAAASSegBJrwLWf2pfgT4f8X6F4H1b4l+CbfXPEFs1zZMPGPhQacAhkV43u7jWrZ/MVoz8q25JVkbA3gUAfQeR6+34+lGR615nD8YfhJeCYWPxO8A6i9vG1zJDpni/QtRuVjUMS4tdPv7i5cAA7NkMhYjChmArzi1/as+D11puoeIE1nVovCOk70v/GN14e1a20CG6jZ430yJZ4V1u9vkkQIWsdGureQtmGeRdxUA+k8g9DmivEvDXx38BeJ11W+jutQ0PwtpyW8sXjLxZYp4P8Na2LhZm2aPc+ILnTtUne2jjR7iSbSrWAIYmhnmRyVzNN/af+A+qeINd8OW/wAWfAKXXhqHT59UvpvGPhaPR2Gpm7W1hsdRk1ZFu7gGzmWeOGN/JYBGYt1APoCiuR8OeN/CPjCI3HhLxT4Z8V2oXebnw14h0rW4Qhxh/M067uYyhJIyCR0HJOK8/uP2hfg/Z+JpvCN744sbDxBBejSJra+stasrK11SUjybG71i40xNCtp2bKqZLwh8MM4UBwD26jI9enX2poztHQnHGDn8QTgHjnsO2e9cZrnjvwt4ZsdQ1PXfEOmWemaXPp1nqV7NNuSwvtZ1C30zSbO5W1SR1kvry5jgT5cq/LDYxKAHa0U1GV0V0ZWR1VkZSCrKwBVlIyCpBBBBwQaUsAQCcFs4HrgZP6c0ALRTWYKGJ4Cgk8HoAScevAPAya8w8NfGX4b+LfFWreCNE8TW9x4p0aMy3ujXVnqOl3bwrI8UstgNTtbSPVord0xdyaY90toJIDcFFuIiwB6jSZHqPzFeTfEf4zfDv4VXvhPT/G/iXSdDvvG2s/2J4et9S1TSdMNxciJppXcapf2cYtYhBtkuVL7WcKoBO4/Nmq/8FB/gLpGp6vpTL4pu5NF1S50m6utOTwULWW6thG0jQQ33jK21FkxMjKXsUfJ+ZcckA+7cjpnn0oyM4yM+nevI3+OHwit9I0nWNY+IngvQItW0q01e0i8Q+KdC0S8+zXcYlQSQ39/aurqQY5FVSFdGBGBzyXg79qr9nrxzp76hpfxe+HlrGl9dacbLVfGvhWw1QzWcgjdxbDXpZfId8mKXgSrngbWyAfRNFU7i+t7Wwm1KR91rBaSXrvFiXdbxQNcM8ZU4kzEpZNp+fjB5rmPh3470T4n+BvC/xB8NpfR6D4v0e11zSF1KCO1v/sF6pe3a6t4p7lIJXTDmMTyFAwDEOGUAHZ5B6EGjIzjIz6d68U+If7Q3wY+GGleI9V8W/EbwjYt4VspL/V9Ih8S+HX8QLHEXV4YtGl1KK9muV2N/o+xJOOhwQNnRvjR8KfEccreH/iB4N1u4ishfmy0rxPo2o6gbNrdruKY2Vhe3V7HHLAvnIJYI38s5KBlZAAepUV8c6P8AtqfCjU9Rt7DUNN8YeHEvLW+ubfV9e07SItDngsLG21C5eS4svEF9NaILbUrW6jN1axGW1k3qMKdvq3h74/8Awu8ZeH7TX/B/ifSfFl5faXDqtv4U8N69oureKpoWJBih0Wy1KSaSZP3jSJIyAxRM46EAA9wor5juv2mobPzjc/A/49QJbq8k0s3hLw1BHDHGhklllE/jOOaJIoleWXfCHSNHbYcYO38Bf2j/AAP+0TbeL7vwRpfi2xt/BWtp4f1W68R6MmnWV1qbNeCa30i+gvL211J7H7GRqSwyA2T3Fqr7hPG5APoEkDk0UhAIweQa/Eu8/av/AG2/iH4Q+J37SHwZ074W2HwD+FmpeKXuPCHiK0u7vxX4q0TwUl43iK7g8QC4tl02a0gsTcYGnXisWeJXH2dzIAftoCCMjkGl61+Ln7XP7fvxu0X9mX4ffHj9mDw74XttF13w3Y+KvGHiTxrd2mq2fhmz1RLcW+l2+k+TbPrWo2cwu1uzBd2irsQYyRX7FeHtWXXdA0TWgFQavpOnamFXIVRfWkNyAoYlto835cknbjJPWgDW+frxwcdOoOPwHbn65ow/HI4bOfUc/L0z+NfnT+1x+0/8QfBvxj+CX7PPwLn0Q/Evx5r9tqnii71nTW1uw8OeCIy6z6hf6dHdWEzRuFkcmO6jbZsKsGU12/7Z37QnjL4N6Z8MfCHw207TL74rfGLxJdeFfBk2pwG903Try1isJLm9udO82J7iJvt0SqhuU2BTlmbBAB9xZ/D6/wAqP61+VHwi/aq+PHwz+PWp/s1/tZv4M8SeJNT+HsnxP8AeOPh9pF9omn6notrfaxYzade6Lf3eqyR3MlxYJBbXUmqRqJba4Lxt5hEf0RovxH+KOjXXw98eeLPEXh7UvBHxS8SWvhm08Lx6CLO98Ly3qardWl4uvw6pLHqEnkaTtuIzpscKFf3UkyqspAPs+ivAPg7408Q+OvEfxK166uEPg6DWbPw74Vg8nazXGjR3T6veRTBts0M73ttbHEYInsZVL/LtX3+gApDwCR6H+przf4pfFfwX8HPC934y8eataaRoNnG6+bNe2Nvd3t+WiW00vTLa+ubNL6/vA0vlQpcIymH5hsZnj5jWP2jfgzo9l4W1K5+IPhOTTPGN3cWGkajF4k0FbD7ZbWtnd3Fvd3s+pQ2trNbwX9q88DzG6iE0Z+zsGyAD27rgYwQRx2zjOMgdv5gcU0MSiuRhiFyueAWOP8a8V8a/HnwZ4Q0bw7rVnba149sfFOrQ6LobfDqLSvEi6hqEsvlCCC7fWNPsWaJuJwt0zxt8pBZSK8ks/wBszwrf3HiW1svhB8dZ18G2lleeIynhTwuF0y2v9Pi1KzllJ8cBtskMoBAHDo4G5cEgH2TRXl8Pxe8Ap4S8OeNtZ8T6J4W0HxdpWn6tok3ijWtH0N5oNQsYr+KN5b7Uo7Tz0gmj8yNLkhWyC20bq5LwL+0x8DPiHBczeG/in4DuZ7PV9X0Weyn8YaHBepeaNf3GnXCm0F+cgzQOQF3HBBOWGAAe+0UilWVWUhlYAqykFWUjIKkEggjkEEgjoaWgAooooAKKKKACiiigAooooAKKKKACiiigDD1b/W2f/XQf+hCtnsf9wfyasbVv9bZ/9dB/6EK2ex/3B/JqAKen/wCqf/rq/wDOrbf6yP8A4H/6CKqaf/qn/wCur/zq23+sj/4H/wCgigD5T/bRltLf9nTx3Nqtvb3eni88HLeRzRtIhtD460FZleNZYnuFMExiWLplpGw25c/Hlp4HF149T496J+zX8P8AUfgnB4X/AOEVl8OS+APDNl4tvLCSeS6l8bWGgy+G4P7Rjim2ILOaWDUlhYrHefY4lt3/AEx+IXw60L4meHLzwp4mjmn0jUptLnv47ebyg8ukarYavb7I2DkGSfToUky+FRR8shyaseMPBh8U+GbrwxY+KPFHgaGW2hgg1nwNeW+ka/p6xyK26y1G8sdTtVDIiRsj2Eny+ZuYrJ8gB+R3ivUrNv2Xtd0zwb8KfD2t2HiD4vr4QXWNa8OaEIPhl4f8b+I/CHhDVrrTNN1Kwka18Sy2uum30bTYrZGe7gmZZJGSM15D8bPAfgfwb4Z0Pwv8LvAXx10/xJ4r1SDwjoFveeAPgAvh7SEGk6hfy6haQXngjWNU1CWzjs7u8NleXls96zn9/G0hVf2KtP2efA1l8Mn+GDyeJ9Q0WfxHonie+1O+1WGfxJqWs6D4t0Pxna6lfX6wwwTSXOseHtPlvAlnEZ085Ps0Yl2x3db+CWleIviT4M+JGteJvHF03gie7uvDvg067p8XgnT9RuNPlsY9TuNJi0Zby7vo4ZHSNn1WSKGZkkCTANuAPge3stG+H/hP4VS6BqPjvQfHWi+C/FrbPFPg3wVodpr15oPhe9uX8U3fhfTcaVp0yaipu7O/0lFVWBMQRQFHxdZyeNbrwlYfEe6+Pl5N4lPhme92nT/EoJ8xze33+hL+y3/YuPtpzt+39MEX5PFfvN4m+EPhHxhr9z4i19dQur258Lax4NMHnwfY4dI1yA2+oG1iNvNJDdSIdyTtO5jIB8vg55fxX8AfDPiPwHoPw8s/FfjrwZ4f8PaVHowPgzWtM0y/1S0isoLNY9bu7/RdTW7PlxrKGjitMTSyHlHjiQn79erW29ry+7u48vN9rTmvf+VWt1voH4v/AB6tfG/ir4ufs++LZ7iz1mbVPAPgXUfEN39h8NXt9HcP4fsjdTeJbMfCvV7tneZndiutPtsjtNtBgQR+x+FvGPxmvf2ifF3iQX/xFu7fSfhd8PpfEP2DRPBnwnhawh1DxLFp8uoWOpT/ABNTU9HLCYJJGujXxP7wLaibyrf9W9G+CHgHQZfCE+n6dNFN4Mt7O206QzhpLsafYDTbJ9Tfy1+2NbWo2x52fdXIKjYeF+JP7MvhT4n+LLrxhL45+JfhG71XQNH8N6/YeAvFFjouk+K9G0e8vb2ytPEVrc6PqpvYITqEscBgltJEidgZZN42i09p/fr1q/p7VQXJpvy8nxaXvsraj15P7lGlS9fZ83veXNzba2tu7nr11cN4o+HxvtP15vDjaz4civLTxETZyPpBurNLj+0i8sdvaMYQzOZQkERQGVFiBG214MhNj4V0CC58TnxhNbadiTxMBbt/bTKfmvybN5bYZGYso7A8/MGyKtN4S0GXwnH4KnsRd+G10aDQnsLlpHE+mW1rHaRwTOrRyO7xRpvcFWdtzEgmp/Dvh/Q/DOh6b4e8P6cmm6Hp1u1rp+nReaYbODc0hh/evJIAHZ/9ZIxDHb9ADWZ96M2SqlMgnAIG5Sueo6E88j8K/Jn/AIK0+UPh9+zG8rhV/wCGuPgvzzgF9VcbQBnA9BjHU4+9X61fL8wxxmNeemDjv9P5fSvmL9p79mnQ/wBpzQPh54d17Xrzw/b+APi54K+K9vNY6fDqEmpT+DXvZ49ElE15Y/ZLe/lnjeS/iknmtzCoS1k3FlmdovCN7RxmEba7KUXJ6avS701fqTF3+7FLvvZJd9Nv8j8uPj78MfHf7ZX7eNr8N7D4pX3ww8Nfs3eDNK8X6Tf6fo1h4hvr3xTqguEsNRGnaqW05/ssKuFEsSktJIS21gq/X/8AwT4+L/xj8Z2nxn+F/wAZtbt/G3if4GfEKbwNB48t7RLKbxJbxIcy3cKKsIlCRwkmMsQpUsGVcjsvjv8AsPWfxN8daR8VPht8YvH3wE+KMOmHw/qvjPwSlrevr2ivFBHJYanplzc2YlM6wxx/aY7pZ4ATJA0UmJRteD/2NNN+FXwL8Q/Cr4O/FLxd4A8aeKL5dc8QfGVbS21vxjqniGeVZbvVLqzmubSBnknWYWtoLmMWiyvF5kxJdj3bcvKmnHmtbT6y8XrXa7uOnzWlyj4Q/wCCnHxw8B698afgh+y98QfGlh4I+Gt9rNr42+Kms3730NuNG0eSK7i0tp9Otbq5aLUVKxyL5UiBcho8MwHuf7In7deh/Hj9qH40fB/w34k8I6n8MfCmn6bJ8Im8OaVfWUmpadBBFHeo09wwWSKxFvIuGstP/es5VJDJtX9DJfhP4M1ey04eOfDvhrx5rdpZ2tnda/r3hrS5729kjCpLcMJobySIzvmVohcPGpPLYDOfnz4QfsVeBfg78fPip8dtCv7N734lRW9tbeHbTwzp+kWvhO1t5JpAumXtvdTvLLIJmheVLWx3RcMj7VUOK5VJbp1Z1F5Kaikr76cve2um7A9e/aR3N8BfisWTa58B+ICV4O0/ZMld2MEA49mxnBA4/mB+C/i7XP2GPhz8FP2nPB9jcXfgv47/AA68WfD74g6VEXEcHxA0Pxd4lXw5rTgBdsUmmvHHGY5uJba5ZYiUIr+r34heEE8e+C/FPg6S9GnR+JtBv9Ea++ym9+yC/j8trn7L9ptBcCP73k+fAZNuPOXPHhXwe/ZQ8A/Df4H+CvgZ4ntdI+JPh7wVPdXdhc694ds4BLqD6xqOpw3y2Lz6itvLEuoNCirdyEKjPljKwizjTcatarf+OqVKcejw65/bUvL214a/Z5NpX0D8LP2W/gvd/Cv/AIKAfssaxrrNN4y+LfwI8b/FDxpcSqySnWfEvi69WG2keaR5JDZ6dDp0ce/K7WYBQpAHsP7M/wADvit8VP2jv21b/wCGv7TfjL4Dmz+LcMN9B4X8LeGfEn9tARTSC6lHiENtaIvtPlqwB5BBYqP1m8V/spaL4m/ai+Hv7TaeJ7rStS+Hnw2ufh5p/hW30a2l026guNVu9SXUpNQF/FNDJAl0LRbJLCSAwxKxuR/ql+Vb7/gmz8SNF+InxS8ffBv9s/4k/Bc/FXxIniLWtI8OeCND1aKNkTatjJcarrvlXMCu8rrJDYWEv7wKxYRrWvWXaVHEUkuzrVp1VJb2cFLlTWq6ebbuo2ck41aFW+/8ChCjbppJw5vnZ3d2+O/YN0bU/gx+1f8AtOfA/wCIHiO8+J3xIurTQvHUvxh1q4gXXfEGhTT3Fna6XqlpBLeQ2k1o93autvHdRLJPcXEv2WM5Sv2P4VSWPABJJ4GO+e1fHf7L/wCx14a/ZwufE3ii98a+Jfir8TvGkdnbeKfiL4wSNdUv7HT5ru4s7O1tftF+dPiWa9nafy76UTr5aFUWMZ+wpVLIygAk9ATgH2P1GfWjpBfyUadL19mmubsua/wrZpu7uIxbvVtKXSNR1IzLd2FpaX73ZtyL8CO0if7XD5Nu02+RY0cNEEZvvBhyyt+QvgTTbPxhqnxj+L+ifsreEr3ULO9vvBHhvQJNK8GeHf8AhFfDmnAta61c6ddaXIj69e3EW/zldNmxjkZNfqd8N/AFl8PPCFp4QguP7Rt4Gup57ieFo3upr+Z2nkmSaaYtLciR0K7ivybcDcM+T+Jv2YtM1nVvEus6N8WPjb4DTxdqd3rGt6P4F8U6Jpml3d/qEYjunks9R8La0BE4AbYpO1i7Kx3nMppX31o217tLy27fmB8ufAptV1r9mzT/ABP4j+A3gzwfqT/A1tXj+JaQeCodQ1K9uvDLOL1V0/w1YPZG8QhsjjaC5AODXy3D4d/aKs/DPgvwlrGseOND8J+IfD/gSHwfc+OdT8G+M9Ok8YpqWpR3EmmaRo2g+E9TFu+kjSn/ALLn1C52wC123z5fP6VeFv2PvD3hPw7Y+Dx8Yvj9r/gvT9LtdDtPBmv+NfD994dh0q0h+zwWIs7TwbpsktqsCrE8U80iuiDKbss3uWqfDLwlqfiHwf4m1O3me48DpJH4bsmkP9m2sjx4W8+wrHhb2IYMcgYbfLRSmABVT9+vVrbe15fd3ty3+11vfsvmKC5KNKjv7Pm97bm5uX7Otrcvd/5/HnhsfHfxb4R+K8HjDxT8Mfif/wAI94m8R+E7bwzrHwxTTtLs5fD+5f8AhJ7qO88T+Jo7oFlkMWmNZOovFZVvGCtX5VfD7wBDH4e1a9f4g+DbbU7/AF3Xbm4htfAoiiF8NQlLW8aJ+y94qCW8Ds6RIfFephAoxKpHln+ijQfA2ieHNO17TNH86CLxNrGt61qS3DG6P23WVKX4iB2lLZtsPl2m8eUqlRIzEmuUPwW8PQ/DMfDLw74h8W+EtMRTEuv+Gr/T4PFcStK7sP7SvtHv497q4jd2sA+xFAKqGBVvg/uUKNHbf2Skuby5ub4dbW+J3GtOf+/Wq1fT2nL7vny8u+l77Kx4X+wrYrL8BtI1W4tNDXWLnVNX0+91PR/D+laCdQtdO1C4+xedbaR4e8OblVp3cG70ayn+ctLbRMEii8O/sj4n/E2X4+fB3w54H0lvD3ij4pob/wCJmo+IIDbeHRZT2N+X/wCEbexOom7Q2Kro7LkC8clgRs2/oL8LPhvofwq8KWvhLw7Pq17p1vNcXb3+v3P2zWr67upDJPc310ILVJZJDg4S2hVeSASxA6DSvCvh7w/cane6JoWnadeazff2lqk1rbiCTUL5sq11dSAkyy4YkuRnOTgnqwPg228f/FHR9ft/2dG8Uyy+NdW+JHhWLw54rQ2wvbP4UaTCPEfii4ZEcAlrDwy3hwCRWdf+EmBXDomPnH4t+Btd0z4b/tY3lv8AELxjrOpD4s/DLSbCy8SXuk6p4ft7n/hZWgGz1E2dlo2magxhcvtR9SfaJGKkP81foz4P+EfiMfGPxD8YfiBc+GLzU/7APhTwVZaDHeTSabo11d/atTutSu76w0stf3aW9ham3treSONIrmU3ObkRR9Z4g+Anwp8TanrGs6t4N0e61TxB/ZDazcyQ3KrfzaDfLqmlXM0EN1DGbqDUIbSaW4bdLcRW4t5G2yO1NO1/NQX/AIBXo1vx9jy+XNza2s01f2eukK9Ktbu6XNaPlfmevTs7nwz43+J3xT/Z/wDEfjTw1D4+8ReOY9Q+FmjeL7a68fWmkXVl4S17UdSs9G1W+hl0TT9Dmk0Gyt5Rdi0v5bhYBbSxLcCRpJH7H4h6h4++Dcoi0X41eNvHMfiz4d+LdWmTxhN4Y1Kfw/e6Tp0t7Z67oV1ouh6XbQxXCpcRKt0188S2sBikDCRpPuC+8AeCdS1qXXtR8OaVfapNoh8LzXl3A9zJJojSrOdKdJXe2ay89Ek8ownE6qd3mqoHn/hT9nP4KeA4NftPDngXT7SPxPZvYa8lzf61qH22wkhaB7cHVtSv3iha3aSBksvKJjZomwjMpQz5d+Fmu/FLwdr/AOzVqHiv4teKPHVt8ZPA/wBo8YaJrsehjQtL1dPDekakt/osdrpMGoWWbyW7Nyk+pXQdigjMQecS9bPD4gh/ai+GNx8QNL8KQRN4d8b6f8N5vA9008J04/Y2dPEdvdx2c+TE1mU+xD+z94UDaQ2PqST4W/Dy4j8NRzeGNJl/4RGxk0zw2vzrJo1lNbi1ltrCQTiSCJoF2CNW+VeBjaMc78O/2e/hB8K9Uvta8BeCrTQNUvw4mvTf6rqVygkP71IJdT1PUHt0l/5aJA0QYEhsgsCAfJn7cfhPxF4n8W/s9r4f8K+CpXh+JllE3jHxhp1lrKoz6b4h/wCKc+wMi3rWTAG+ZlukjZsrt3RuR+Zfi3wdFF4u0ESa74RTw78S9W+KIl1nTo9P1jT7PUvBZ8NjW7NTYfAHxn4ntBeHxIApN4TZLhSSoJP7rfFb4A+HvjBrXhnWPEniTx1p6+E5nm0zR/D2vWuneH7i8YvjVtT06TTrl7vUY1kMUc0dxatFAojTOPm8l1f9hf4N3Wv6H4o8Kan8Q/hZrmiaXqelJf8Aw28TWmly6lb67HpaalcasNa0PXIp7q7Gi2TSyW8NoxdJHlV98QiAPKPHHgvxj4l+GXgjU/Dvw4+Dlxb+FPDHhfXfEHinXPDVn4o1/wATeFfC99YLceGvDEfizwpphgSTwyl2Lq78UW8IG4QxwQvKbm14fwjq3h344+O08XfsvfDT4JeIfht4VtrOy8c6drngbwXpk2ua5fSQ291aaXq9rpEcVtqelQWdzIxdb7T7i4aPYbfO0fZdx+zB4V8QWsGl/ELxp8UfifoFqsXk+HvHPjFbnSJrq3OINUuIdA0vw9cvqNupPlS/ajAS8hlt5RJtq/qX7MvwyZjf+EbfWfhb4iVFtYvEnwv1VfDerR2Sbh9kaKe21LQ2jkU4lnk0d7zywAk6kyFwD4p+Jvwn8S6n8UPi1qeufs+eIvHHh1fDlm/hbUNI+MPiTwVp2jf6DfrdW2meHtI1+004IpKsvl2rEMoAjHIPzj+y98KPEg+DX7MfiHwX8B/FOjarBqfw/wBR13x7a/GXxlLZz6Wl+63k0/g+416PS4oFQ+UyRoI1UDCrmv3YOmKujf2S91cXCJYCza8vJfOvJ/LjEf2i7mVYxLPLt33DqsYeRnKogIUct8Nfh/4b+EngTwp8OvCUNxD4c8KadHoukxXTi4ukt1Z5lE0qomfmZtxCBQu0YIAat6Vb2SXu81q9Ctq7L9z7T3WrP4vab9LbO+mNWl7Xl97l5b9L3vbzXY/Jb9onwPrvxL8A/tWXF5rnw3lvPh5LdaPqBvv2f/DD+JdQDQ/bSR4nPjG7vjxki+x90bSFHX1vwh8PfEngHxN8J/DFrq/w4mv/AB34L1u5STwl+z14Z8J3/l6fo0f2uwHiWLxpeX0QvMFBcralI4wu1sNtX6w8bfsdfs4/EPX/ABB4m8XfDGw1XXPFIjfxDdpq/iLTItakgeVoH1K10rWLKxu5V80jNxbSrsC/LkZNDQP2Nvgb4R8SaN4s8F+H9b8FazoOnarpljPo3i7XbiIWerQwwzRta63d6zaxiBI3Nv8AZ4oPLkllZjKGXbgbH5K6N8JtZ+LXizxj4As9UuNB1DQNZ8LWPiazdRIukQaF8EPhzp+rWtwlzKiM8Ou6fqulal5L3Ys5YHa7smDV9qfsKaH4E8ceKvHvxk8PeEPCHh220TQPCPwV0iHQtF0G2b7d4PGpTeLdRgeytY7qCa91TVUsb+SWeVrlNPjztMRz9b/8MwfCJPCeleE4tIvbSx0m4ku21Sy1O6tNe1Se7ZbjVm1jWbdo9SvI9ckRX1dFuIZLolxvQuzNs+Ev2ffhz4B8VJ4r8BWN94NuXsEsNT0nw/dpZeHvECQIqWs+taYY5Tez2rtLMtz50VxLLPJJPNPlcnfz9n/5Jh6FD8fY83lzcutrsPEv23LWXxD4R+EXgi5vdQsvCvjz44+DvC3jOHSL6XTLrU/DlzpPiXUZNKfUYjmLTr6fS4YtSgETPPH5SxTQhH8z6u8I+EvDPgbQrXwz4I0PTvD+iaehjt7OwgWCMkDLSyFVLzzvnc087ySuerbVAPkutfs5aH4j+IHh74geJ/HvxL8Tjwl4gg8VeG/BWs65pdz4G0jxDb2F1pkOrW+jwaJa6gbu1try6NjI2rn7LPKZSJl3Rt755IBOA3PU7mUn6jdnP1pJcvtLfbqur6Xo0KXL5/wea+nxWtpdhajk/dg8uwHOAMt3yOg5HIGfbPev5ov2oPgt+0r+zHDb/sx/A/4s6DrHw5/au+JN74d0j4fS+FLq68beGdH8UvcDxXNBrUmoPZHTY7C/ujPu02RWglWBooxFuf8ApVVGQALlQDnr05yT1r5bf9lbRNR/agT9pzxF4m1DXtX0vwxdeGfCPhW7soRpPhmS8EFvPrNrMLp0nujYxTW0avYpPE80d1HeJNCwmGtelpJwqJq7nRlZ1KV7+6qnLG8rNrlVkH/tvv0/7leP8Kr5+zvP3NObm+JW1+Fv+CgHwo8NfAP/AIJc658MfDu2LTfBGleCtKilc8TSWOqWyyMSc7jLJIRjksANwLbif1o8CKkXgrwqqNGUg8N6LGjiIgeXFplqMgZHG1ONoJHUA4OfFP2sP2cdN/ap+CPij4L6p4jm8K2via40uVtbg0s6y9m2n38d4W/swaropufOEPlHGowbN5kIk27G6G9+Ffiybxp8MvEGk/FbxDoPhXwNpMWm6r4EsdMRtO8afZ7byUk1a9fUswxgRIyxLZTurbs3BDKEfWS/6i036PDKz8/TX0M4r/dUndxwrUvJ2puy1WiSS28z8I/AngD9oD9ozxn+1N+3Z4Q+O83wu8WeB/EPi3wj4F8MjwrZ6lBH4P8AAM9xFFpGvrfoj2H2iO2j857bzWZGJZiVYj2TXPjR4o+PkH/BKz4qeM7SLT/F3jDx94rTWVtUjtLM6tpU2n6Rf6jZwXfmJBb3d7pc721urStGH8sSvGERPrDx1/wTP8P614y8fav8O/jf8Qvg34E+LV7Lq/xY+GPhSG0u9J8Y6vdfaVv9Qj1W6u7e60lbuO6HmW0dndxxzoZY2USGMe8fEz9i34V+Pvgn4L+DOgtqXw7tPhlDaSfDHxL4UkhGr+DdWszCserQrLGtvf3d2ISdUN06PetcTytKkzJJGrpfUnzJrB/ULbK6wtljNnZ87+HbV6XtrovPXXG201/2y31NPv8AUrPyldbaM+M/jpE19/wV3/Z2sYVLj/hmW9kvgP8Any/4TjxgDyBnGQfwJJPXHu3x++HWreCNB8M6LB49v9dk1DxTHpfwZ+H8Ol/YbvS9av1uItX1nVtXXVLs+IItD8PXOoNaCXTbSPTry4in23BlCL2XwB/Yh0n4QfEDWvjH48+J3jD46/GTVNL0zQrfx545htoG0XQ9JgkS303SdKt7m7SCN57i6nml+2b5FeCMBGtzLN9I6j8JNP1v4vaH8Vtd1JtSfwl4WuvD3gzw+1osdnodzrNw8viXWrieS5uE1LUNWhg0e1tGSzsG0yLSyRNePdExEFyUY0t1Gtiqqe3+81pVuW2vwc3Le/vW5rRvYSVlbdvk1/wUKFD8fY8/lzcuvLd/N/gH4heNPh14J0u/s/Afh7/hTPhjVdO8JahqEeuzw+O57y+1WysLnxGulf2f/ZMsF1r2qxI9gdZaR1kmP2gptK/dyFSilTlSAykZ5DcgjOTyDXyncfs5aje6gNHufiFOnwjbxKfFk3w3t/D5hv5NShmgu7G1HjKPX1lTSLXVIY9QfSn0OQXFzaxjzEZWkb6sVVVVVRhVUKo6YUAADB9AKYz4Y/bH0nVNc8S/s36RpHhXwZ4tvL34pawBpnj60a68LSRx+AvE0+3UrddG1vzg00ELk+RFgxR/MSF2/OXwM+FKWOu+NvFPiv4PeD/iL5nxT8QeGfEfhHSoNMv/AAj4Cgu9QCS3fg7wlruh2SRRr5apdBIlYwIFBTYCv6F/GT4DfDz45jwdB8Q9OudYsPBuvnxBp+lrezWun3l1NB9jmTU47dop7iEWrSpGsdxA0ZldstnYeR0v9mHwX4V8JTeD/hz4r+Jnws0e41nUvEMjeBfFKW2rNfao0TXcMl9r+neIWe2DQoLeDygYvn/etnIAPz5voNM0jwp4E0Tw9L4/0iG7/ao+J76RD8K9P8P2nibQ9G0/xJqYji8O6fqek3OiWEUNpFDBFssyvlxLGigKMedxXlzF4v8A2oVXxZ+3JEZY/CySJEfhVHd3gh+HmjR3UfjALoC7I4gRHCNCDhNMLBQpwtfrH8P/ANnP4efDqbwZd6J/bV3e+CdN1OzsbzVdRa8k1HUNZcvrfiTVw0SLeeINSJYTX6eSHErN5bHLGHxp+z3oPjG68d30fjD4j+DLz4jvo83im98Ea7pml3lyNE0G08OWsFtcXeiar9mhfTbG082COI7pxPKJv321D+f+/RqUvT2nL73nbl20vfdWA+Iz4b13xpB+x1o+geHvh34w1DSPgcuq3ek/E7T5dR0D7De6BplhZSvbJpGsgzJ/Zrp5vkIfkjaNwVGPQ/FHwE+Lms6UbOx+Bf7JmkobuK5kvtA057PWl33SzXM9o/8Awr6FFuHYyTM6yRPNNlzIGO6vsXwV8G/BngLVpNd0Oyun1QeGfDHg6zvNRu1uptM8M+EdMj0vR9HsCIYkhtUhR55yVeaa7ubqZpsShF9VXIfnqeDznoCRR/8Ab/8Ak9etW/D2vL58vNpeybd1TX/PuhSo+vs+f3vK/Nbl1tbd9G2sQgtreEDAhghiA9BHGqY/DGKnoooEFFFFABRRRQAUUUUAFFFFABRRRQAUUUUAYerf62z/AOug/wDQhWz2P+4P5NWNq3+ts/8AroP/AEIVs9j/ALg/k1AFPT/9U/8A11f+dW2/1kf/AAP/ANBFVNP/ANU//XV/51bb/WR/8D/9BFAElFFFABRRRQAUUUUAFFFFACYHPv1oAA4HalooAMDrjn1ooooAbsX0/U/40oUDoP6/zpaKACkAAzgAZ64AGfrS0UAFFFFABRRRQAUUUUAFFFFABTWVWxuAOOmfw/wFOooAqhFXG0YxkjHYkEEj0yCQad0YsOGbG4jgnAwM49BRRQBYooooAKKKKAE2rjGBjOcYGM53Zx67uc+vPWmLFGhYqigvyxAHzYz19ep/OpKKAIvJiPVAenc9s479snHpk0CGIdEA6DgkcDgDr2HA9KlooAKMD09vw9KKKACkKgkHHI6f5/z39TS0UAFN2rjGMgnPPPPrzmnUUAFFFFACYHoPypaKKADAHQAUmB6D8qWigBMD0H5ClwOOBx09sdMUUUAGB6UUUUAJtUnJAJ9cDP50YAzgAZ68Dn60tFACYHoPyFG1ePlHHTgcfSlooATA9B+Q9/8AE/mfWloooAKKKKADA9BRRRQAUUUUAFFFFABRRRQAUUUUAFFFFABRRRQAUUUUAFFFFAH/2Q==)"
      ]
    },
    {
      "cell_type": "markdown",
      "metadata": {
        "id": "TJePfj1pbR9E"
      },
      "source": [
        "s2 mine"
      ]
    },
    {
      "cell_type": "markdown",
      "metadata": {
        "id": "oUdblLwlbR9M"
      },
      "source": [
        "class Solution:\n",
        "    \n",
        "    def singleNumber(self, nums: List[int]) -> int:\n",
        "        a=list(set(nums))\n",
        "        for i in range(len(a)):\n",
        "            if nums.count(a[i])==1:\n",
        "                return a[i]"
      ]
    },
    {
      "cell_type": "markdown",
      "metadata": {
        "id": "YlX7tCd0bR9O"
      },
      "source": [
        "![微信图片_20210425213036.jpg](data:image/jpeg;base64,/9j/4AAQSkZJRgABAQAAAQABAAD/2wBDAAEBAQEBAQEBAQEBAQEBAQEBAQEBAQEBAQEBAQEBAQEBAQEBAQEBAQEBAQEBAQEBAQEBAQEBAQEBAQEBAQEBAQH/2wBDAQEBAQEBAQEBAQEBAQEBAQEBAQEBAQEBAQEBAQEBAQEBAQEBAQEBAQEBAQEBAQEBAQEBAQEBAQEBAQEBAQEBAQH/wAARCAB9AosDASIAAhEBAxEB/8QAHwAAAQUBAQEBAQEAAAAAAAAAAAECAwQFBgcICQoL/8QAtRAAAgEDAwIEAwUFBAQAAAF9AQIDAAQRBRIhMUEGE1FhByJxFDKBkaEII0KxwRVS0fAkM2JyggkKFhcYGRolJicoKSo0NTY3ODk6Q0RFRkdISUpTVFVWV1hZWmNkZWZnaGlqc3R1dnd4eXqDhIWGh4iJipKTlJWWl5iZmqKjpKWmp6ipqrKztLW2t7i5usLDxMXGx8jJytLT1NXW19jZ2uHi4+Tl5ufo6erx8vP09fb3+Pn6/8QAHwEAAwEBAQEBAQEBAQAAAAAAAAECAwQFBgcICQoL/8QAtREAAgECBAQDBAcFBAQAAQJ3AAECAxEEBSExBhJBUQdhcRMiMoEIFEKRobHBCSMzUvAVYnLRChYkNOEl8RcYGRomJygpKjU2Nzg5OkNERUZHSElKU1RVVldYWVpjZGVmZ2hpanN0dXZ3eHl6goOEhYaHiImKkpOUlZaXmJmaoqOkpaanqKmqsrO0tba3uLm6wsPExcbHyMnK0tPU1dbX2Nna4uPk5ebn6Onq8vP09fb3+Pn6/9oADAMBAAIRAxEAPwD+/iiiigAooooAKK4X4i/ETw18L/DcvirxXdGz0mK8s7FpQAT9ovZfLhQZwMnDMckHapxmuLT4++Am+I0Pw5l1CC2vZvA9p47XVLm6hhsF06+1CysLWCVnwIpZXv4HWR5RGPnRwpGSAe3UV5d8Rfiz4Z+HNhYS6hPFfaxr0k1t4W0G2uFW88RXkCwvLbWcvlyxIUjuIXZ3DDEi7Vcnjmta+Knj+wu0i0j4KeJNespbW3uI9Qt9asraNmnTe0JiexlYNFwGO/nIOFOQAD26ivEdX+N2l+G7vQ9I8Q+HtbtPEGqeG5PEV9omnJHq11oyRKWks7lohAJZlUZ3oqKR1UYOPLZv2zfAtt4pu/C114D+LlvcWkUMrXzeCbs2brPu2mORJmJACk7ueOccGgD7AyM4zz0x3z6YpcEdQR+FfFfxr/bY8BfBjxDo/h/U9C1O+1HWPCGneL7dLmd9IkjsdUa4W3gmim066CX2LZ0kUOwjkLxnJRt3E/CX/god8N/i54h8E+H9M8NX1jJ43CHR5pdcgu5Ruklik+0W4sbUjyyqHKSybt/RSgDAH6E0UrDBP1/z+VJQAUZxz6c/lSlSOo/lTHYBWJOOCf09OtAGdNqGcgDOPY47Z6E5PDcDjleuDhI9R2jlfw5A7985HVevHD8jIz5D8QPido3w5vfC8euaVrtzYeK9b/4R+31jTLFrvT9M1edYzplvq8qEGzj1KRpIbadtymSJwVI3Y/Nbxr/wVp8E+CviFrHwwu/gp4y1PxtpdzDDbeGdH8T6BqPiDXI55JESXSdHtLea7mYrGzyRSeSVVSFd9orjeNjGylKMebZSk1fbZO19194H7Ffbxz+5yewzjg8Z34B4xx0zgjIzyx73KlDBgnAI68EZyXG08kqcfxAkdM184X/7RXhDws+gz+P7W88HaJrfhQeKm1q6lF7pelW/lJK9vqlxBDFLC8Ksd7RecN0ZVlC7nHhviv8A4KUfse+Gde8M6FF8ZvCesL4ivrmyNxY312YNMjt1gdrq9k/s0/u2E4VV85BuRhn5QRaaezT9HcOifSV+V9JWtez2drq9tro/QGE5dTjGcnHXHBraT7o/H+ZrmdJv7LVLWy1HTbhLuwv7eK7srmI5juLa5iE0Eyd9skbqwB5GcHBBFdMv3R+P8zXSApOCB6/5zS1zPjDxPZeDvDup+I7+N5rXTIDPJHGQHYBguFJBxyeuDggDjOR8jyftk+E5JY/s2mXTB1L4a4GSMDoREBjByMqRnpjJoA+3qK8F8A/HO1+JngF/HPgzw1f60sVzJayaTFdiO53xPtYpPJZiOU4ySsaMRtOcDBoPxT8asnmH4NeIyShby21aAcEE8j+zc4xz93pzjtQB7xkHdwTj2PORnK8c9cZHfIzxSFVyDsBOevHQdz7+368V5ncfEWDTF8M/2/oGr6LL4gWQJtgW+h0x0GWgvZo2iZWYAfct2KhlJTkZ8m1P9sD4NWAu4E11pdVhvLqwttHKCK7vbm2k8uQxcSYjBIbIV3OceWSDQB9TEE9Gxx6Z/GgcAZIOOM9OnH+fyrxPXPjx4E8P3Xg6GXUX1CLxrp1zqWlT2jxSA29qsDOxT5QzkzmEx+YrRzQyQviRWA4qP9q/4bS+J/8AhFksvF0t15Am83+wWEWdwTG0sp2995wR0KqBgAH0+5IPBI49fc0zJ9T+ZqCOeOWKKZN3lzRpLHlDu2Oisu5VX5ThhkcYOR2qUEMAQcgjP6kd+Qcggg8gjmgCzRRRQAUUUUAFFFFABRRRQAUUUUAFFFFABRRRQAUUUUAFFFFABRRRQAUUUUAFFFFABRRRQAUUUUAFFFFABRRRQAUUUUAFFFFABRRRQAUUUUAFFFFABRRRQAUUUUAFFFFABRRRQAUUUUAFFFFAHwx+374PTxd8E4oX8E/D3xabPxVoUi3fxA0LTtft/DjXWqWVkl/pdpqVpdIlzM7olxLGARDHgpICrR/B8Pwr8H6j8U/ioniX4A/B/wAXeH9A+DWm+EtM8Z+Cvg/4eOhaH43m0u/1RftNjfwarbadq0MVmbYapZ3JvrWW8ZxKwCx1+yPxG+FPgv4r2ek6b44sdS1LTNF1SHWrOy0/xR4t8NRtqlpJFLZ3F4PC+vaKmqRWzxl0s9Xj1C03uWWJN0olteGvhv4I8G+HtQ8MeHvD9npehakbyTU7WNpGN618jLeT3dzLK9zJJIjMrSNMWB+dSrEtR28uf/yehWo/gq3N58vK9G7B+Zvinxpqfif4d/BXwh8PbLSo/D954r8AfCn4neM5dKjt/EdpoHi3xXpUOseBPDE5O7T7fV7aKWy1e7iE7eXHCsaxXceG9O/am0r4z/B/wd4c8R+B/wBpz4kaNHrnxa+DHw6ttFuPB3wKvNO0jRvG/wAQfDXg+/hsLmf4QSa1NLBoup6jFZS3WrSzRzvDOHaSElvr7SvgH8J9F8N2HhPS/CcVtoOmeLtN8d2NmNW12RovFOkX8Wo6dqBu5tTlvJIbe5hjUaXJO2kG0X7A2nmxJt6q+Of2ePhP8SvEuleK/G+h63rupaLqOkatY2Enjzx/ZeFDqeg3lrqOjXt/4F03xRZ+CdXuNN1Gytb+1k1bw9emO9gjuhmcGQppt3urfXZYy1l9rltTv5KLXNs73cNA/k/uUaVL19nze95c3N8PS27ufnv8R/hxZ6N+014N1TxtqmoeNVS20WPUPE/jb4leJfDK+KdY+02Js1Hw28DjSPASXfhvm90e9XwxZBbznBK8+GWmmeGL34dWf7SkPg/X1ZfDr6zuf9vn9pR/Gn2EP5X2IEfGAX2Sq/8AHiDnb1+Uc/t7F4Q8I2WuP4itvDGiQeILlSkurwabYQ6jIpXaVe6VElcsoIJLknnJJNeJL+yF+zCvhkeEv+FD/DVdJ8sxCMeH7IasWBLCQeJREPEH2k4J+1f2qLkDK7wBimB8I/tPeH2174n313p/hrUvGHiqTwT/AMI1o3h3wF+0N8UPA2rR6BZr5i3Xim0+H/ijw9PcNGC2Zdel1BpDukctu3t4v+yp4IureX4F6zq3hPVPCWt+HdP0TWtGf4gftJ/GjxHoWq6bP4f025k1HTPC3jTxjrfhSH7TG9mwS10LTnsYDFEGkjZ1l/cC08J+FbObVZbXQtLtrnXiqa7PZafHbSatIiLEkl9LGPNnMaqUDySuyjq5ADHNi+HHgSDw3o/hF/Cmi3/h3w9b2llo2k61Zxa3b2dtZLHFaw2x1tdQkKxQwxwwo7kokSovyxxlQBvxCtdOvvBWs2Ou+LdQ8F6Vc2QjvfFGhao+jarp8bOHW503WAGNlOPLAMvlzFlcqFXILbHhOPT18NaFBpOs3XiLTrXSLK1sdbvNRbVbzVYLW3jt47+91R2aS/v7hUEt7dTfvbi5eSWU7nNaOoaTp2sae2najZWt/pksSxy6beW0dzbyqoG1JInDK20gfKQVGA2ARmrNhZW2m2lvYWFnbWVnbQrHa2lpGlvb26A/6qKFFCIq5LZVRklvlz1ALzdD9D/KsyQkyhM/Kcnt1BYg5x2IB9OOQRmtNuh+h/lWXMsgk3qMYBwcB8ElsHbuUnr0yPf0oA/Of9rOTSPD3xo/ZT1qx8XeL9D1nWfiN4k8LalpFj8RfFuj+E9X0DUvhv41aGPxD4Es9ej8H+Jf+JxDp81re67oF9e6dcRqul6haO24/wA1T/slePLaX4e+MPF/hj4T6bofijwX4x1Wz1nxJ8Iv2XdevHEd7J9lk1htf/Z88SX2qaju+aG78V3mva00U2I9RURZb+vv4ifAX4SfF1766+IvhDSfFF1faFc6BJPqEWo2uoaXp+oeQXufD+owajDqPh/WbaSGC503W9DvNN1jTLuCC+068tLuGCdfnKf/AIJw/so3scdpNoPxcuLG3zHFBJ+13+1lFsTADCK2PxsiW3RuQsaKwwBw2BXzuOwNTESpKLlT9i5bKpLnUuR62cbW5f717306zOPPCUb25oyjftdNX3W177r1PjD9nbQbDw9q/wCxl4T1Txh410LxD4t/ZjttL8Q+Gf8AhZfi+w0j7QnhVfsSQ+BYfEcXg/TddBUlNc0rQbfW40VY4rmGJECe66xqOpJ8T/2cvhV4l8cWvxP+JXw98e3beIdQt9IgtdTbw2lu58NeI/Er2emHSP7Qv7BFOuGzWztDf5JsizYH07c/safs2SaAvhq5+HU+oQxW4t7XxFq/j74i678Q9NTzIJkfRvipqHi67+JGizwvbQNb3OkeKrO6tih8iaMO4bzaP/gnT+yjFqTa1HonxjXWHVEfVB+1j+1sNRkSP7iSXv8Awuz7Q6J/CrTEL2xXqSrzqVq1WUGvbVqtW3M3y+1rVKrV3FX5fact7K/LzWV7LiweC+qYTB4X2vtJYTCYbCyq8nK631alCkpyjzyceblb5XOfLzNKT3f3ZCi25EMJRI4yVRYAscSgDpGkR8tV6kBMLzxxXRWjMU+ZieO5J/iI71xOg6RY6BpOl6JpguV07SLC102xW91C/wBVvBaWNultALrVNVubzVNRufKiXz77Uby6vrqTdPdXE07ySv2Nqy7AMkZOOAe5J9OmCM+x9a1Tuk+6udyVkl2VjhvizYHVPh94ksQ0m24sZQ0kWPNiQAs0kfGMpgKBtJI9WJr4X0/xn4j8O6dqENj8YfiOLTwhc/D7wvA8vh74WI4sfEjCMBFf4agg26DzAxwGJ5LEiv0F8S+EdI8Y2Labq1xrqWRcuw0LxP4i8Mzs+ACsl54b1PS7xhjH7tp9g6hQxYnxGT9kv4HySzJN4c8WzR3UlvcXUrfFn4uN9onsyDaNOn/CbBWa3P8AqGBJi6R7Bux0jPJ5fDXh/R/he73urfE/xD4kvvGWoWXg+SDxZ42+G2s+J/EutsmDNafDTV/D1jfadaFZL4rJZtblbB1YBhEa5i9+EiD4sHwjZ6z8TVul+DF94ls9IPx/+O409PFR1Cyj5f8A4Wf9sVWdchjqAQ8MThcj7L8K/CPwD4Ll83RtN1S5nPmtBP4m8VeLvG13YGaGWG5/se68Y69rs2kS3kEzRX8mmS2suoQLHFeNcRQQCGx4Z+FHgnwfruqeJtCsdUTXNYtYbG/vtU8TeJ/ERazt5vPjtbKDxDrGqW+kQbyfMh0eKwjuF8tblZlgtxEAfHM2r+G/Cdt8J/HlhrPxD0Sa28X3+j+L9C174rfFTxPa2Jg0rUb660qbTfGXjLX9NWFRpqJ82nsrNIgLnaVXi/Etz8WL74ufD2/S6+KTNJoeqXNhI1j8K2lXz5HmD2jL8O0AZkbcXvluz1b+EAffXib4Z+AvFS2y+JvCGganBbakdZjiutNhmtZNVdQkl3eWHNleXEsYMUkt7Fe+ajOrEBsHpZvC+gXesaZ4gm02F9V0e2mttNvDuD20FypSWONd2zBX5TkEYwOQBgA/N/4qfDFtR8a+F/Evjpb7UNRuPB2ubV1LT9Bk1qGXw1YkPe7U04aCrcC/lWPTY0ZflK7enzDa2mihtL8bL4dso7i4t9OBh/4QT4AG2Bd1UZtV+GkelG9Ukf6eLQS5BcMJQDX7IeOvhho3jq9srzVbi9i+y6bqelOLR4lZrLUwqzAmZHQkANwY3XBwUYZ3eR+JP2Svhl4is/Cen25bw1ZeGrXTraaPw54Z+G9tc+Il0o4iOt6tdeCb3Wg7EhW/sS/0gBslh5nDAHqvizTdNm+F13YaxpN94mtF8MQJ/Zscdul9fTLbIII0XS/sFlHMkzxqBYrEi4JSMxqu/nv2btF8f6F8KdBtPiNdpLrUpmu7HT9rtdaBodywl0rQtQvHkZ9Rv7CBsXN0Y7fDv9nEIEAd/a4IUt7eG1jGIYIY4ETGFEcSLGq7egAVQMY46VMST1oAnooooAKKKKACiiigAooooAKKKKACiiigAooooAKKKKACiiigAooooAKKKKACiiigAooooAKKKKACiiigAooooAKKKKACiiigAooooAKKKKACiiigAooooAKKKKACiiigAooooAKKKKACiiigAoIB/Ij8D1oyB1IFFABRRRQA3Yu7dgbh0P6/r39aNi7t2OR0PpnGT+OBn1wKdRketABjp7UjKGBVhkHgg96WigBAoHQYz196WiigApCqnqKWigCIwRN95A3+8AcdOnHHSoWsrZuTGP8APHTGP0q1uGSueQASO4B6H8f6H0paVk90vuQFP7BbD+D9fw9KPsFt/c/l/hVzpSBgeQc84/H0pckP5Y/+Ar/ICp9htv7n6j/CpFtok+7uHTv6dO3H4VPkeo/MUtOy7L7kAgAAwKWiimAYHpRRRQAEA9QD9eaQAAAAAAdAAAB9AOlLRQAUmB+XP8/8aWigAoooyPUUAFFFFABRSZHqPzpaACiiigAooooAKKbvUHG4Z+tOyOuePWgAooyD0INBIHUgfWgAoopMjrkY9c0ALRRRQAUUZA6migAooooAKKKKACiiigAopMgkjPIAJHcA5AP44P5UpIHXucfjQAUUgYEkA5I4Pt/nFL1oAKKKKACiiigAooyPUdcfj6fWigAooyPUUUAFFFFABRRRQAUUUUAFFFFABRRRQAUUUUAFFFFABRRRQAUUUHoc+lAHJeKvFuh+DNEvPEfiW9jsNKsXQPcNFLKFeZvIt1ISNpN8rOu35cLuYkleRTj8deGZ/Gn/AAgFvqPmeJn8NHxT9iW2vWQaGL6zsGumv1tH0+B2nvrVIbSe5iu7qN3mtIJ4rO9e2+P/APgoJoGo+Ivg5p0OleFfEviC5t/FGjzJfaJ4g0PQbDQxNqNhZR3evLqOqWmpX1nO10kMa6Hp2r3UbI/nQwhkZviO90rS0+PnjPSvGUfiLwZ4g8P/ALPdjaeGPEHhjXdd8V+F9T8SzQXGtW2mXviS00mPSNC1VodCkSw07X761vNYuRNHotvqEtpdwxylpfVavbTbC3v66b7666hs/ua30/2pRa18urV35H7U+LfGmgeCrKLUvEGoWtlZyu0a+ZMftk74XalhZJG8t84LL5qRFWiQq+H3Ba8j8RftO/DfwprT6Lr2n/Eu1dYLe4S8tfgz8YdVspVuFLoIrvSvAV5aTYULloLiZCW+ViOT8O/E7x/Pq3hf9n7QvCmlXPjHxPPqfgvwf4n+JtzqNqLH4a2vijWtOsrzJkbF942vUhEVnywsrAXl6Sfl2+u/H3xJ+0z8DvDWga7oXxO8F61pOqfET4VfDbTdMvfh6y6jYRfEHx34b8BRareahJqtwt1Jp0mui8u4/LRpoopAHjYllp9bbrGywaT6tcv7xtc1l7yvFJtdw/k/v0adX09pze7525d9L32VtfpzxT+0J8NvBkPh+fXLjxaB4ltheaZaab8NfiPrmrG2YlVku9E0PwnqOsae5dXj8i/sbWdZI3jeNWU484X9tb4AGz1TVJNX+IFrpeizSxazqN18EPjdaWem3MEkkNxBqF1P8P4IrM2rIyyG6aNflBBwAB85/HLxDr3hX4ufB2w8eeOviauu2vhDxJHqfiP4EfCfxx4w1O5N0vnQwXPhr4faF4v1O304vbkRzy26RyvJKsShopcfDV5490jUvhN8frK2+Jn7U8n2/wAZeMs2N5+zp8bYfDGpq2oXhA8UeJrj4cronhVm/wCY2NdvdO+xsAb/ABzQB+6N98bvhDo3ixfAepfEjwZpvi8PaQHwxea5Z22qpc38SXFpG9vNIjo1xFMjxo6Ix3AnByo6nXfHPhnw1rfhPw7rWpQ2Wr+Nry9sPDdqdzf2hd6fFBNcwxsFGCiXEPJAGXA4GSPyF+L3h3xF4h+KXxkLeKfCtn4aj+Nfwmtbzw0fDaf8JNfGDwT4QtgujeJmAv7PZswxBHJ28jBPZD4KWNz46+Ddl4w03x1pHi3T/iL4m0bUpbjXLq50fW7LSksm0bxB4SvpIkS50q+0e8s7u/kgUeVqE02kTF5dIaKI7+Xs/nz4ehX/AA9tyefLzaXsg/XPcBuYZPO07VZiCvHIXkgHOQB+I5p+eBnvjtjn6HkfTrXD+LfD+q6p4WvND8PeJ5/Ct/PEsUHiCS1OrT2p+Vd5he7sfObA2gm5i5I2svFdLo8N1b6XYwXuoJql1DaW8M2pLEsIvJY4ESS6MSvIsRndWkMYkkC7gN7HJIBqV84ftYftD6J+y98DfGnxb1aGC/vtIsfsXhPQp5HT/hJPGOpMLXw/oaCIpLILm6c3F0scsMn2C0uzHLHIFYfRxIUZJwK/CH9sL4o/DH46/tx/CX4B/En4meCvAXwj/Z/iuPjD8Qj4u8R6V4Xt/Fvi63hay8MeGrX+3b2wg1F7WWaS/ms2kkSK1F1PIdsyoVG8q2HpJaVq0YVJ3/g0X/Erctv3ns9PcvHmuveQH3BqPxk/aY8Ofsj6H8TE+GemeP8A4+eI7bRn03wRosdxounaS2sTW7SS6tdXMl5G0Gg6IbrV7qV5ES8ERgQoSTXyJD+3t+0Lqv7DPhP462Fl8N4vjB4h+J1l8N/Ku7W6k8G2d9d+Jx4fLzGC4kbG+QK7RzLhF3DDHNfQv7Hn7X0f7TGj/tCaZc674Gv4Php4n1HRPDCeFryxuRL4OignTSr68t7a8cSx3KQRqtzEGjlMgVGZNhr4+/Zc/Z4s/wBpH9gPTfhx/wALCf4ZPb/GPWfEsHia2tLfUHgv/DnjS81FbeOxnubQFnaONZJGvIfs4VWEc5Zgg1pi9EnD6ljVfeOD+ucujdrXi3e26stg3VmtG8XhLemEupaW1UtV0TSlfqfeXwq0v/gpGPG2l3Xxa8V/skXfw9KmbWrPwBF8Sl8TO0kDNB/Zs2ueFbewjV2KM7T3M2EyqgsAD434y/af/a9+InxG+MemfstfDf4fHwF+z/fato3irVPihc6xpWqfEDWNFgMmp6V4Ig07TpYrdoJElMF7qdxBDKZGSBpWV8+f6v4U+JP7HP7SH7POh6R8bvHfxI8IfGzWNT8MeKPD/ju9muktntLWzlGpaSxnY2kUUt+WW1hiLbbeJDOfm8v2v9uv9obxD4bsfD37NXwKtpNW+PHxpuBpmnR2chSPwf4auGkOreLvEF2Q8djbW0ZJtTcIiXjGUebEAWo3WiXS2n/MXpp+dtlrrsHr6/8Acp3/AC/vab9vqD9kb9ofRP2pfgZ4N+MmjaRLoTa9HqOnaxozTNcnSvEnhzVL7Q9e08ztDEXSG/sZZIWcFjBPGrs7I0jfSM13bQEm4nhgKZwJZkTORwSCRweMenJz0r5x/ZK/Z40P9lj4F+CPgvodxPqI0G0uL7W9ZlZgup+J9Wl+2a/qCq7uUF5qLSzeV5khQsQWbJI+Cv8Agpz4euPGfxR/Yw8Bya9qmlaZ4r+JXjGz1VtLvZ9Pa9gi07wqY4biSB181IzNJtViwG9um40wP1pi8WeGpkd18S+HZI0LBng1vTmVSpbh2E7BSq8sCwwQc9Pm0bPWdLv032OoWV6nZ7W8t7lSM8nfDI64Geua/ns+KP7H/grwX+3z8HPgT4R8VePtE+EPxf8AAOq+KPFvgy08X6gI9U1Pw5e3cU8kl5Kk1xDJexyb3cM6EbQUyMn1/wCB/hzxL8DP2w/2jv2VPhPrt/b+CNQ/Z+X4h+C9H1S6n1P+wfGf9pTaVCbG6nkW5igujegTESGJTBaMRG9uNypP23sJU7OjiKGPrUql/iWBdRTXKr/H7O6d9HK1pWu1N8lWdNp2hVwdLmel/raoPmtrb2ft9Vd83LvHmsv2sn13Ro70afca1o0F3wPsUmqW0N9uIyMQGVZTkYOAnI7kddwdB9B/nnH8hX8tegWXws+FMtu37WvwA/a+8J/Ebwv41T/hKP2lNG0+/vfhsWHilWsyviixe+QWN4u7T9pGS2FJUqQf6cfC2qaXqnhrQtT0S5a+0fUNK0+70q7aU3ElxZXFtFJBJLMSTJKVbEsjElnDM5yTTGdJWHrviPRfDdqb3W9V0zSbUBibjVL6KxhO0ZIWSUFWbAJ2jnj0yRtkgZyRxyfb61+cv7b994T8W6l8NvgfN4Tl8SeLfinr1v4b/tyOznZPB2iarsgvZjqahbHSr7ULZJo7B57iWWGRjOlu6SBgAfYvgv40fC3x/wCF9K8X+GPHXhy/0DXYpLjR9Rl1E6at/bxyvAZ4rTWf7Nv0jM0UkamWCNXZCY3dSGqPxh8cfhL4GOnx+JPiB4bsrzVRPJpOlWuoQ6trmr/ZvLE6aVoWkNe6xqhiMsYk/s+xufLLr5hQFS35iDRR4f8Ai94K8CWn7Aniez0BfC2otB4Th8bfA77TKtuHi/tlLs/GEadhGRiV+0qW2sCqu2a3f2gPDXxC074peE7r4I/DLxzZa/oHwOt9Su/DfgnVvh42oeEJ7jXrt7W01pdd8Tww6ubae4uLd4/CUurySiJZLQGERXE5/wDb9vsUatbv19ly+XNfVpRkH6BXn7SXwX0+4+wXXjnTpdcDwI/hjSbbWdd8XWzXdnaX9tDfeENI0y88SWF59kvrWS6s7rSY5rJ5RHc7drMOy8Q/FX4e+FdHl1vxH4u0fQdPigSaR9VuBY3sayqGjD6XcKmppLggtFJYrJHz5iqVYD8pvhbN8c4fEHxH+I3hLxH4R0m2+IHx08J+Hro+K/AcPiLWv7btvhj4F0rxFcJrR1C2SOCx12w1DTpo4IwI76wupBI28Y5T9tb4a6pqPxS+Elv42m+B3wy0nxJf+PtQvfEnjTxTJ4Nh8Zav4LtPCUlv4g1nULNdVtLa31M63dDSfDDSXstuBPJetB58wJdPkad+ahhKz8nisHh8W4efs/b+z5tObk5uWPNyRP8AOf8A5JWrUfx9lzeXNa7td/sppnjzwdqccc1h4v8ADl+lwqmFLXWNPmbLYAGBcFz8xx0ySDgAAgSeK/Hvg/wFp0ereN/EmjeF9Omcxw3ur30NpbyuqqWVHkbDbdyngn5WUttLYr8OvhB4I8PaF+0H8EfDcXxM+APxR0PxTquvQ6r4f+HXxhufiLfWK6dZi4tLy703+z9LeytfNnmhhunluEmnLxNCAqO36H/to3T6VpXwEvLDwjf+Oru2+P3huHT/AAfpd54e0q61m5Hg3x1NBZQXXizVNF8PgBrfe0Wo31tDME2hgcmsqtX2Xs/d5vaVqFHe3L7avTo8z0d+X2nNbS/Ly3V7pdJvmpR5KNer+8m4J+xpTq8qahL4uXlcn8F1K0tj7A8M+L/CfjCxj1Twp4h0jxDYSqrpeaVqNtfRESFtufIldoy21sLIiEhSQMZNdIWAHYegPHcDpjPcdvSvzK1WD42/CT+1vjw/hL/hBPD2s/Fj4fHxh8JE1TQNUn03wPrFxP4P1nXr3UvDV9f6LHJoL+JNP8RX6aRfzYsPD8xBhjthLLzvxKvfHnxh8SfDLxRZ/EvX/DHhTVv2gLHw34K/4RUxqXsrSx1pf7ScrsDsDlfMc5Zg2W4YjXv5cn/k9ejR09Pbc3pFrS90/wD7f/ySjWrfj7Ll8ua+trP9PtL8Q6RrF3qVjp2p6ZfXWktbrqFvY30d3cWTXX2gQrewooa1aU204iWT5nMUvAMZFbWRkDPJzj8Ov5V+OniJvif4FP7aPxa8M/EzUNJk+FniWz8RR6I4H2fxWfDPhszm18RyAZNnqJ8y1bfkMd4PPB+kr3xP8RPi34l+M1zoHxBvPhvafCK302LQbGzuINmoyT6K2rve+KFaVl+xOVcqrbzs6FhGCQD76yMkenX8a4vxd8RfAvgM6WvjTxZofhf+27qSy0ltbv4bBL+6hWN5oLd7hkR5I0miZxuAUSJk/MM/nnZfEX4x/GDxJ4EOm/EG4+G9h4k/ZN8M/Fu+sbGzT7YfFGpZvHZA20LZtvOeAPKO0FztVvWrXxD4w+Mf7Lngrx7YeFfCXijWfFXw9EviqfxTKNP1OCGC3uINQufDtu9neaedQeWO8vENzq+kQjETrLI5jjhU7wo1K1rqndWva79tXorW2ifsJSvZ2uo20uB9preWEtnHqUM0UtrNGssNxHNugmikGY5Y3UsjpJGwkVlDEr05GK8B8RftX/Abwp4c8OeKdW8cmfQvFOr6noWh3Og+G/FfieW71PR1kbULd7Hw1ousahELcqieZNaRRuzgxs4Eoji+Hc2j6z+zX4VHh/w9qfinSf8AhArezs/DmpSWkd/qHk2j2LWtw17cmzykschXN+yoioscjEKB+QKfCDxTrHwl+GETaT8NPDRvvE/xL8YeGvD3/CS+M7TxLa3/AIYuLmPW7W9vvDPhrxLo961vZAob439jZYUAMGPBJ8tetR/59cvvX+Lmctba2Xu3XvO9+ltQ/aH4ZftE/CX4t/8ACRjwJ4juL1vCZ03/AISFNa8N+KvB8ti2sf2ibAmDxdoehzTee2mXpY20U3k+UfP8oyQ+brap8b/hRo/ibwz4O1Pxz4etde8ZJq3/AAj9lcXbmK/m0ON7i/t0u/KOmW1xDEkrm21C/sbh/J8uCOaQFF/Mr9jLwtYDT/itNpbfBf4tTeOfC+k3es+APDXxhj8R+OBc+E7y6h0Sy1vTNS0rR7DS7Ca81W5lutSu9UhNlNFHEtvdyzBYpNe0z4a+AtH8f+BfjH8NvhtY/H/V3hPwM8OWKNdL4hvfFanw54atfBRDm6vU8NX14p8SNh20izN1e3oGnbmDA/XKz1zRtVYDTNV03UtxJP2LVLK6Cr2bFtPNkEHjjn61kDx14XHjBfAC6pGfFT6VNrMelC3uwV023MCm5N0bdrLawuItqrKW4f5S2BX5zfED4d/FXwt+z6ulWXwfuIfHc3xG+D8erWvwJv3F1478Nr4y8Of8JQYlvbyzPhsLo32+O91DxG1pptiYxd3d2ttG+758PgbX0/adsoV/ZZ+PCXq/DCVP7HHxw+Bh8SKjXZVrz+0F+Jo0MKwADRjUReOF3bWUgAWvP/crVaXr7Pk97/t7m26W3d9A/bm41mwtBm7vbK0wQD9pu7eLgkDJZpQB1PUducDmvPtM+OHwo1jxLrPhDTvHXh648Q6Db21xqOnnUIYJEW7aZIVgedooriQvBIGSCRyAUZSylmT88NJ0r4jv8O9E8J+LtG1fwHa+KPjtr/hfSfCPxN0XTPiFq2mxX+uTPoks+q6P4kj0m7tzAhjhl8P395pcwgJs3mkE0cPlln+zV4k0n42ftCfbPEfwxSPwr4M8OeIpZh8LDLbNZRaH9tP2SxHid5UI5ISSaQITt8xyQ7AH6leP/j/8LvhjPptt4t1nVo21O0/tKzHh3wb408bhrBwwW4uD4P8AD2vPBDO2+WGS4WMTxozRFjzTPD37Q3wb8T6no2h6R490k6prvhPSfHGlWuoQX2jS3fhrV7u+tdMvRBrVnpjWsk9xpd9GthdpbapCls81xYQxNDK/5n/HW+8Sz/D74J+JdV1Kxl0vxf4G0R9H1aw05/DWnp/wkd1qmpaP4faFruS0F7Y6Pd6dBdWzXazzykqkQwobxmH4Jt4WbwbofxK0K88U+M/2h/CHg3TfBhu9OnsT4avvDfijxM2r+G4gZUk02xTwzd+G5Vurh1tnNwXjY79xP/l9u76dXft/mB+zni/48+AvAuoDTdWi8d6jK9vbXEd34X+F3xM8aaRJHPEXjWHXPBvg7XdGlmCgeZbx3zzwswE8cPfyvU/24/2c9A1Pw7oOueIvGmg614p1W00HQdP1/wCD3xm0WXUNRumAW3gkvvAMEJZAdztuRVDoAQpJH07omjW3h7w7p2j2yrDb6bptvZIgOI4xbQCIhTGjEgYbru6YUr1Hw9+yF8PvDni2bxd8c/F5l8X/ABJvfHvibRdL1vXm+3W2gaTpE8a2sXhuzljih02aUTqLm8Tzbplt4Vgkt0eZZgD79jkMqLJHu2Oiuu5SjbWUEFlkVXViDkq6qynhlBBFea/Gf4t+FPgZ8MPGfxW8aXK23h3wXoN9rV4S5ja6lgi22GmwuI5Qtxqt+9rpls5R0S5u4TIPL3Eeo9Olfi9/wUv8P+PP2mvih+z/APsQ+DdetvCem/Ei/wBZ8eeNfEF1ay3dva6Z4B099atLVoba7s57hjMiFLdZFie4EUkqy+TFhN2dNP7dWFO/8vPf3vO1ttL90B9z/sYfFb4s/G74G+H/AIq/F3QdG8Na14zmvdU0PQdItLi1TT/C73En9lNdyz3V4bq6uETdLLGIk43hAGwv0h4q8UaL4K8Oa54q8SX9ro3h/QNMu9X1jVL24S3tbKwskkuLm5mkkVljVYgWyQMsVRcuVWvzK/ZC8dfHP4Y/tD+M/wBkL40eMdK+Imn+F/Adh4o8CeKdO0hNEuf7KjultF068tftl0WitbRreNXCQHdKjMvG2ov+Cp+seNfFPgj4Y/sz/D++ttC1j9ojxpa+DtT1++uWtbfT9GiKvKm4MhkS7kfbcqHB8hAowJCwrGW/5g0n9cbeD87v3bX3Wjvtezs72QYNXxSWKskmtenLdNpWa0tF23fSz2PXf2K/2mvi1+0D8KfiF8dvH/g620TwRd+KPEDfCLQNH0+5n8TX/g3SZ7iK0m1F/tDLqM1yqJ5E0dtA8kv2lmLARRr8wa/+1v8A8FAfDvhC7/aV8T/A/wCHPhf4Daf4gnjvPhbr13rtj8bLLwraXa21v4kmiuIItEEl0wMot2vRII3QqqIy50f2eNQ+Nn7Hv7RXw2/Y88Z+OtL+Jfwo8QfD7zPBOoDS4fDt94Yg0FZoTEUE06LAXOXhjlG/ABCkIy9b/wAFQPhz8UPF3wtm8eeEfigYPhh4UsbO68b/AAsESf2b4zsob1p5bt9bjllCgJIiMkkexhERuJpAfU8vxi8X/EvUdDs/g9feH9Cs3+EfhL4wavqni7S7nVoLzTPGV7qVvo3hKOyhutOkhv2j0LU/7R1L7XJFatNbotvuJD2tT+PHiDW4PghoPg7TrQeM/infatdavayJHe2vh/wx4QEtt4r1ea0lngkezXV2s9NtZEuot004C3E2xiOO8MeBIfF/wy+GPxk+F/iOH4X2eq/AbwRol9DLo661bz+B7awm1y20/wApNT0xLO404alcSwal5k8jDCtANzg+OfB+TX/D/jFvFngzw3Z+KvHHxI0zWdD+GNh4t1N9J0Hw58IPhhd2gudcutRtLHUJLG98XeLvE+uXySR20d5qFsbeK6jkNikcK/5i+mi6+S6+nUD9ShnA3YB74JIH4kAnjqSBn0FIWVcljgAAknoASQM/lXnHw1+IMPxE8MNrX2D+yr+yvLrStY0z7Ul6LHU7ERC5jiuUjiFxbOzlrafyo/NjAYLW3448xfB3i0wnbL/wj2piJh1En2KcR5ODwrEHocAk4pgc/ofxe+G/iJ/E66V4o0y4j8HT3EHiK4aYxWeny2wE14zXMgS3kjtflM1xC0kKSEqspYMa2PBvxC8HeP8AS7XV/CfiPStbtLqB7mA2F0Xle3FzNZiaS0uI7a/jjaaIqrz2kMbOV8p5UZJG/GXwP8Edf8YXfwD0TUfCvgXwxoPjvQfiPe3epeAfFfiUa942/s60v9Tk0DxjDeaXY6fY2mvLaC1vZLSedl0+e7jRVuDHPD9ReA7bwT4f+OPw+1zRvhjJ8GptH+F/j6PxN4W1Mtp3kQ6OhA+dMWN9psOwN9vsh9kHOAxAJAPdv+G1f2fBBpl4ms/EO5stduFTQ7uz+BXx4u7LWXaQxRyaffQ/Dma0vFeeCWOF7a5kikWJmUspU16r8Pvjn8PPiVqGs6N4cv8AxFFrHh+2hv8AV9M8UeBfG/gW/s7K4nMMFx9l8Y+H9DeeCSTCK9uJ2Knc4VSXH4haT8RtJtPhj+yxpV78R/2qbc2Wp+HBf6ba/s7/AByu9J06NLVbcp4R1WH4fnTfEhtpN62I0W91SVrQtMzrEPNP0Ha+KbfxBpv7WV/p/ib4m+JC/wAGdM0i01b4s+BfHHwz8WC7jmZraKPRfGXh/wAPa8LMyXciNcJYhY9qbPllAoA/Ua/+Mnws07xPa+Dr3x/4Vh8Q6rFJNZ6U+sQM8iRMYmWS5j8y0t5EKSM1vNcxTglcR7TG7+k2V/Y6hD9osby1vbY/Is1pcQXEDMMqQksMjrkYPG/PPPQY/Ofw3+zl43Tw/wCH5bj9n39laa8sdOs0huZPGHxN+2IZI0LSMrfDYzLIVcO6ic/NnBUFlP0J+y18OPGnw18J+MtK8c+H/DnhW71H4h6/rOlaH4R8QXviPw1baNe22mLbT6XealpulaiEuZIZ2db7T7C6BjAlsoQMygH1COg+gpaB0GPSigAooooAKKKKACiiigAooooAKKKKACiiigAooooAKKKKAPLvin8L7b4p6bpWj32v6xolhYapFqF5HpDrHLqUcRR0tZJGbbEEmijlSUxzhSGHlEtkVfBPwa8JeCND1vQrZJ9Xi8R6heanrepa15d3rN9cXaIgjbUESJ1tLNY/9AtghS0Z5HiKvI7N63RQB8w+Ev2WPA3hPwZY+DrW+v7uCy+Ivh34jfb5zJ58+oeGtct9XsbCVTdyMbQxR3Fi374jbcmZo3Eawts/E74B2nxU8R+GdR8SeMvEjeGfDfijwx4ti8EQusejXuseEtdsvEWkPeTRzQStaJqOm28sluY5GYpGfMyimvoXAHQYowPT2/D0oA83g+HmiQ+Pb/4hyCWTW73TINKjM26aK0tEjiiuFgO8MpuFMSgqEMYicnzA+F8l8Rfsw+HfEWmeJPDa+KfEOi+FPGWua5r/AIr0TRJFshrt3rmoTXssV3e+bJKLK2iMEFtbrGCjRSzeYPP8qL6aPPXn68+n+A/IUUAeH6h+zf8ABXWPFcnjjUvAOi3viubULDUz4hkWQ6i15pkUCWj7srHhFtkzgYY7skFjhX+CiXXxL034h6t418S6rBoryyaB4Unl26LpEl2gS42BZZBNFIREyIY4wjRJ88gBx7aUUqEI+UdBzxwRx6cEjj1NKqqpBAI5BPJycY688nA70AYPi3wppHjbw/q3hfXEuH0zVoBBdLaXD2txs3bw0VxGC0T7lB3AHHTBrX0zT4dM06z0yDf9nsba3tIPMcySeTbQpDCZJCd0kgSNd8jfM75c4LYq6CC3H93+tPoAbj5SrAMOmMdR6EHg/wAv514J4w/Zm/Z58darPrPjD4L/AA98Q6zdcXOr6n4R0O71C4yoUi4vp7R7qYFVRT5ruNqIq9AK96fb/ExA9AcfyGcZ9e9IqpjK5b8Sf5nFAHwf+y1+xD4Q/Zdj+Mz+G/7KB+KXia81qE6boVrp1xpOnzy+bBpBeCUi7itny0YRIVXOI14AXl/CH/BP3wvpn7LV7+zT4h8X6ve20viDX/E+neJ9IL6TqunazqusXurWd1E0MozJZz3SqwEkQkwSskfUfo3jp1498fyxSFF445HIPU9c989+c9alJ3TbvalSpf8AbtNNK7erve7v17B/m383o36taNn5xfDL9hjxNp/xN8M/E742/G7XfjHefDqQH4bWN7ZfY7Pw6gUKbl4mmlEl+y5JuAXLAgFXBBHjGtf8E6PjfH+0L8SP2jfB37Tt14e8V+NtXur22+1eGYtUl0LQXv7q6g8PafLcvLFbW9rAYreMW6RxqiICFGc/sIEUKVA46YwOnp0xx2pcDnPORg5x0544A9TVf53+ff189w/yt8u3p5bHi3wI8GfEjwD8P7Pw/wDFH4jt8VfFNtcXss/ix7IWL3kcku+JGgUEqy5YFVDKhBCE81538ev2dIvjX8QvgZ42m1yXR2+Cni7UfFcVnHp63R1xdSttPt5dPMxmT7KR9gRxcCOcgMyrEyqzV9VpGsYwgwOuBgDJJJPA7kkmnbR17+vQ/pigD5M8d/syQ+NP2ofhD+0f/wAJJLYXPwq8M+IfDUfhtbSOWDVofEcnmXE810XEkBtdsZhEassr7g4jCLv5bVv2P7W+/aa8dftD2/jfU9Iu/HHwbPwiOl6dG8N9pEc+sWupy65a6gZ2DyobYWsECRQmMXLSNcOsQif7cwM5wM+uOfzowM5wM4xnAzjOcZ64yAceozS95W5XayqK3S1SlUpP00qN+qDv52v522v6dOx+T2v/APBPb4w+PNHk+G3xI/a78beLfgxe6jpV9qHgm60a3Oq6jbabqtvqsVjdatNdtKkQmtY5PPAk+ZNpgKnI/UDwpoFh4V8N6J4Y0yJotM8PabZ6PpqOS7LYadCltZhnIyzi3ijDsfmLAlgCcVvmOM4BjQgZwCqnGTk447nk+ppwAAwBgeg/OmB51rXgeDWPHnhrxxc6jOT4QsdXt9N0qOINavdaxDHBPfTnzQXkhjEYijCKM/vfOUqBVP4k/DTSviRp2kafqWpanpE+i65ZeIdN1DR5haXlvqdizvZv5gIYIjvI3lI2JDwzZAY+ldsdvTt+X4D8qQgHk8n17/n1oA+Pbr9lHxBd+K9N8ZS/tCfFEaxpthJYQ3Bmt3mWGQnfGk5nMixuHcOgbnOTnc1exeE/hHbeGp/E2s3nijWfEvi3xNpEGh3PiPW9st5b2FrbtDBFb28U6kAs7XUmLhd7eWUEIVi/sPr78nnqfWm7Ezu2jd/e5z0x169OPpxQB414f+Bngjw54Q8HeB7KO6/szwfq8viK1nLsl/e67dXN5qF9qd3dKQ0s19f31zd3GfMn+coJgq7h0Pij4VeG/F/jnwN4612KK/vvANt4uttGsbu1hubJl8ZWmj2epNPFMXjd44tFtfIYxMVOSCp5PooAHTjnOe+cY6/QY+nFOyfU/maAPndf2dvDp+LOgfFF9bvdvhc6g/h7wxa2lvZ6Tp1ze2cNncSPNbyR+fHGtu/lQNar5ZmbLMCxr13xZ4K0HxjN4auNbshfSeEvEth4r0QkKRaaxp9tfWcdwQ7KkiyWOp39s6EEYnV+sYDdVgeg4zj8ev596cucgZOOeMn0NAHjPx18P+O/GXgLV/BHgdPDCyeL7S/8OeItU8SXN1GNE8M6zaPYavquk2tojNe6tZWdzI1nDPJawC4eCfzflCVUX4CfD1vhh4U+FFzYM3h3wj/Zh0t7Fzp19bahpakR3lncqxa3mkZnYN5rOsTIoaQhWHu9N2KM/KOTnp3559jyeRzQB4/N8Evh/d6D468My6ZPJonxKgFt4tt2uWk/tOD7G1nseRhlEMTSqwPnLKX+fMWErG8W/s5/C/xn4jk8R6xo17FfXFpb2OoHTNSnsLXWrW1gW3gt9ctoiP7Ujit4o4UScyKFQHHPHvQAHQAfQYpaAPPofhh4Mg8RQ+J4NGtIdUt/CS+CbeWKJI/I8OJN5qaXCERTFaIPkW3RlgUciINzXm19+zT8LLrw54T8LxWuuadoHgrS20fRtP0rW7qxtk0trqWd7W7giRY54jJNIflSJmU4BO1SfoqjAPUUAcc/hm0tvDc/hrRDH4ctGsVtLefT7cK1moG0tHG23zWKgBmkkUvk5bLHHy7J+xF8MNR0SLStc1XxDrkunadcWPhjUr27Y3HhX+0p7u71u60lDJKgn1x7tV1AyPiRIIvmLIDX2ngHqM0YHoP8jH8uPpQB8leAP2X5/hxpd9pfhr4s+NEiuLH7DbM6WYks4xJvLRsCTv5IBOCDhgc5q9/wyJ8FbnUJ9a17Q5/FPjKWNWtfGfiC6fUfEuizh3d59BvpEkGllpHVlWONivlRgs4XFfU2B6D8qWgDzjwN4Gu/BsF3azeMvEvii1mkh+xx6/MlydLSLcwSCQje6txkybsEhiucMsI+Gnh//hZh+KDGRvETeH/+Ef8ALGPs3kgDLDOMnZuTYfm6tnAK16bgc8devv25/Dim7VznaM7t2cD72MZ+uOM0AeafEr4W+Evizo1noniuG9ki0zUItTspdPvpLK9tL2EDDRXYV8A7lDHYWIUYOcg+D3v7D3wVvJ9Xu5bj4gm71uFYNSuh481kT3kC9ILudmaWeFT92OZpUXsvHP2JgAkgAE9Tjk/U0tAHztafs5+Bha/DrStVF14g8N/DTwbpfhPw54b1ImTTY5dMtYrFNfkQyK39otAiJ0Aj8tCDtjVBzL/si/C68ubjU/EMeteI/EcTE+HPEt7e51PwYu7FsnhZ+f7P8pAiO53CVVbIRsY+r/8AP+fyFGBjGOOmO2PSgDyXxN8ONZ1/wJb+ELL4h+KtEv7eKKI+KbVom1i6VECZuTJt3My53kMpznKscGrfwp+HGlfCnwbpfg/RZrq9htJZ7nUNRv8A/j91XVL12k1HVLks7ys91cEFBK0jxRKkAkaONdvp/XrRQAV8dftN/ssj466l4L8a+FPGl78Mvil8O7m5uvB/jrSbOS6v7L7YqJeWkwhvLORrW5gQwsmZgCyN5ZCFZPsWigD4P+Bn7Hl/8JtR8ffEjXviXqvj745+PtEn0S/+I+sWo36YimWTT20nT2LR28UDuhuI08kyxDZI6iBGB8S/2P8AW/jL8H/CPhP4l/FPWdU+KvgXVLfxD4Y+LWjWy6Pf2Gv2t4Lm2ujpsEsQurVIgYWtftduZA7GWeTau37wwPSigD8+/g9+xJqPhnx7q/xU+OPxY1r47ePLvRLnwrp2p6vpv9l2mmeHLlLhby3s7IXt28V3eRSrDJKs48swkx7/ADnZfFZf+CaHiBLV/hla/tFeOG/Z1Pid/EX/AAqi7gWZwbi+N6dOfXG3tLaoRkEqGJI+VSQD+t1ZzRruPX727hmHzHnPB4PuKAPPPEvw1s9T+Fs3wt0C4HhvTZfD0HhqxmsYWRdN063ghtCLaOGS28qRLRHS3KsBFcNHKY3ERWuI8V/BS7kPgDVPAGuWXhHxJ8PNDvPDGj6vNpp1C3bSNTTRkvIJdNSSOK4mln0eGfzJHUyzTyxyZD7q+gx8uNvGBgfT0qDJ9TxgjnoQcg/gQCPQigDjvht4Kg8B+D9L8Poyy3gjN3q92u4m71K6Pm3s+5x5jKZGMUIcZWJVACgba6+9tlvbO5tnJ8q6srm2K43DDqyZOMMcqcFedwyMDnNn+tHofTOPbOQf50AfKXw8/ZJ+HXwv8ReDfE3h3WvFZ1fwlpXiHSdNXXNZfVbQv4ige3vLqC1kCi1fzZHmjjjkJbMUJcMpZrsn7MdvqjeMLnxX8RfGviq+8V+Fdf8ABlreahdRpceH9C8S7m1O203LsRv3OCvmKNpbivqDAJyRk+vep9qglsDccZPfgED8gT09T60AeVat8KPDN5Y+BNNtDNo9p8PbyxuPD0VmcLbiySGKOE7gyZZEjLPyXYyHADNjzC2/Zg8OS6pqGveKvFuv+Mtf1q60c61qGsHKX+l6Ksq2uj/ZILgJFbZnlyzvP8rbPLYKDX1GyK2Nyg4BA+h6j6HAyOhxzSCNBnCgZ5OOMn1OKACJEjjjjiULHGixxqowqogCqoAAACgAAAAADin0UUAFFFFABRRRQAUUUUAFFFFABRRRQAUUUUAFFFFABRRRQAUUUUAJkeo/OlrkPGnjrwl8PtJOueMddsPD+mB/KF5f+YYzJjdsURKzk4B7AAkZI7+DWH7Zf7PN94p1vw1F8QtGDaLouja1PqR+3tbyw63c6lbQQogsPMRom02QsxbY24/KuzLAH1RRXhfiv9pb4GeC/D0PirxD8SfDNnolzZ6je2l2L5ZftMWlwwTXaJHGGeGRVuYABeC2QmRfnChmXgPBP7bP7OfjLwtofiZviNoeiLrdp9si0/UJb4XEMLSyxxFnSwRHEix7wcKACePlyQD6rwfT1/Tr+Xf0oyOTngYyfTPTP17V4RL+0F4Plu4bXQEm8SQ6hoOqaroF3pkiFPEF9pFpLeyaLaK8YKXNzFG7RzOGTCuBHuINc3dftXfDtYLx9O0/xLq91B4c03xBFpVlpLPqdydVuoLS0sobYyMTOk86i4cAxpyU8wAFwD6bPHXj68Ud8d+Bjvk9Bj37V84+J/2rvgr4Q8d6X8Otb8YWNt4o1K2vLt9OlkeK80+S3VHjs7q3kiyJZd7Kmx2AaF9ykEGk8H/tHaN8QPFF14V8I+EPFl1c6JqUGleLLrWrM+HpPDl3c6fY6pYmW1uEuXvIZ7S/t3SdHhhkJOwuDQB9H04sx7n+X8qjVtwBzkkAnkHr644/Lj0JHNOoARgG+9zxjknpSqdoAXgDgDsPoDRX4+/tZ/H/APay+Fn7Wn7O3h/SNV0jwf8AAD4g/E7RfBE9jYaJoes614vjvrSa5u2u7/VbO+m0o2v2d5Y00pdOuESYrNNKCjAXvVaFLROvWhQUm7JSnfl6at2dorV2dtgleNLEVUr+woTruPWUYWvrZ2WqvJqyv5pH7FZ/SjI6f544/nX5v/t8/tMfED4V6d4A+EXwI1KOz+Pfxm8YaD4Z8HXsml6drkfh3TZNTtpNf8T3ularHcabc2Gn6akySi6tfLYTmRJYjC4f738IWmsWHhbw9ba/q39u69b6VYRazrJgitf7S1JYIRqV4bW2221u1xdrLIYYESKAv5UKLGgWlB80XLtVqUrecOX83K1t7poNt9NL66O3ezOoyPUfmKNw4689ODz9OOa/J743t+274y/an1n4efCf4yP8Fvg/ovgPT9VtPE0/w68G+LdNudZ+9c2U9xrmjXkyShG+R5JGjRnxI6R42Tf8EyvjN+0H8cbH4z658WfiinxQ8F+HfH2r+E/h74iHg3w14U/tix0nUJLVtagi0LStObyLlLOVVtriW6EJb5ZHYFia+9a3u0p1NevI4LlX95890uyYm1FRb2dSFN9bKfM7+i5dXrvsz9W8j1H48fzpCyjGTjPTII/mK/PT/gpp8dfiV+zp+zF4g+J3wp1i20XxTpOtaTFDd3elaZrEBinnjEqPZ6nbXVuwKqdx8sMc4DdQfSv2d/2pvCnxk/ZW8L/tF3V/Fa2o8J3N14vhZ4PN03xN4ding8S2FwLaKK3hm+2WjXAgijEEMVzCgGFoneFGrW0tSSbT3d03+CV2/Nd0mRblWpUUm3VckvVctl21cvuT6Xa+wd6+vTOeDxjr27d6XI9R+dfgv+xd+3x8aP2kPDf7dfjTUfEcD+H/AIa21hf/AAntU8P+HbRvDtnqP/CVbjPNbaZDPrMkltotsVk1Z77YUyoBlk8zofgKn/BQz4xfAbSfjzaftm6HozXOla9qzeHL74N/DaS13abc3ha1u9QHh0swLWrbZCo7Bsmm7pxTVubD0MRr0jXUnG/b4Wl36NgmpKo001TxFbDuzv79Hk5l904v57aH7kUV8YfsOftA+LP2jvgdZeM/HGl6fZeKtL1jVfC2tXmjQT2ek6vfaPcNC2o2lq11dtZi7hWC4uIophbie5b7Hb29sUtl+z6BhSZHqPzFcz4t8Z+GPAmjT+IfFus2eiaPbECa+vGYRKzHCqAiu7MfRVJA5OACa+ctI/bb/Z11jxL4n8NRePLK2n8LSww3l7d22oRWM8koPywTfYiCVIH3sZBydtAH1pSZHqPzFfP2qftPfBaw0CbxJaeLYvEFja3dlYyxeHYbjU7xJ9Rdktd9uojwkhikw7vnajhQ3zCuYuf2qfDOlJYw+IfBfjfTNZ125vP+EZ0O20xNRv8AXdMhMRtdVhCm2+zwX0cvmRI4kKqrDzHNAH1TRXgeqftEeAPB+hWut/FG+Pwua7WaWLTfFQkS8WziAZLyYRQFYxKpI2fMVf5WyBuPIeBv2zf2fPG/h1PEMXxA0XSo3u720NpeT3bTBbS/Ngs+VsowyXDFHXCZTeQdwQsQD6o8yPO3cM5xj39M9M45x6c9KfkeorlLHxd4Z1TwrH4z0nUrXVPDU1hJq0Gp2T+fBcWkSu7yRMvJYOhVg+3awYPtIOPI/Av7Svw08e+IbPw5pU2uaXqGsxXb+Hn8TaNNolj4ik05oxfw6DezytDqM1urrI8ClJ9qStCswVlUA+h6KhnuIbaCW5ncRwQRSTSyNwEiiRpJHbOMBI1Z274B4zxXDH4leD/7Z8HaHDq0V3feO4NXuvDS2xMqX1voVpLe6lNuz8q28cZRi2f3gwAArbQDv6KBnAyMHHI64PpmmsSFO3G7B259cemRn1xntQA6iue8Qa/ZeGNFvdb1ZLh7SwjSWRLG1kurlwWRFSG2XJZ97IMAhQTu3A5xyvw1+LHhH4p2msS+G7qVdQ8Oak+j+JNDv4xa6xoWpKGZbfULMuzxLPGpltZv9XcRAsuGSREAPS6K+R/Gf7Z/wf8ABPjbxh8O9S1EyeL/AAd4LsvF17pCTxxyzS3Mutxz6IGdCsd7ZDR1knlHnRlLyMqn7smTyzwd/wAFEPhv4s8U+EfCzeF9Y0q78Z67baDpc02p206m6uNOvdRLNElpFuEUOnurKHXO8NkDcKAP0Lor5h8cfte/A3wPZ6xLc+L7bU9R0Vd17o+nW+oSXiYLhvm+xFMBkZAcZZsDAGSNbwJ+1V8CviF/YFvoXj7R/wC1/EQKWGiXEkkd+1yiQtLbEeUYt6GdAGMihxk4VgVAB9EUV4b8V/2gPAfwm0FNd1TUbHVgfEPhbw5JYaVqdrNeW914r8UaL4UspbhIxM0MMd/rdsW3qDIR5S4JZ4/TdO8XeHdXjmk0vWdJ1EW0MM92ljqNtdS2Uc8TTRtexRMZLQPGjtEJlV5FRyq/KQADpaK+Q/Ff7cH7OvhPWPDmlXXxA0+9XxHqs2j/AGqxiu3i0i6hEAP2sNZh3BecZCIWjCNw5+Udfrn7S3w2svBeqeM/COpf8LDt9JutMtbyw8O3K/aYn1aSaO1YtNDGm1jbzYKq/wBw5K5XIB9G0V8LWn7d/wAObOC8n8c6HqngQpqWgabpv9q3kE0OpnxBLOlpNHKIIfLEPlK8vySZWQHK459qHx/8J+KPDd7rvwjjHxkaw1KGwv7DwjfR7rJ5g5/0q6mg8qFU2Mm0oxkCS7Q5X5wD3+ivhv4jftg618J/D1z4m8c/A7xhoOm25CWyXOsW73Gp3BBDQadAmnmW68hdrziOM7UkjZULNkfT/wAK/iHH8UfAvh7xxF4d17wvF4gsY7+LRfEdqbTVbaKUnymlhIGYpkAkglwnmRsG2KCCQD0WivnP9rTxr4x+G/7Onxd+IHgHUotJ8X+EfBOr6xoV/PY2OpQW99brD5Ty2WoW9xbzqAWIR1KkgblYY2/D3wA8Jftv/Enw58OPHmpft56Fc2fiC30LxPq3gSD4NfCU3cujiSCfUNHmubDRoNSgNzaho5NQilSVDMgIxkuAfrbRXmnxUufHmn/DrxZf/DTTdO1vx/Dol8vhXTtTDQabPq06osJu4xMpmhR18wxCUGbGwOwbDfit4N/aR/bw1j9mr9rW5HiODxh8fvhF8To/Bfh7/hF/BXhUrZLZtnUUtdHPhc6beEDaP+JgL5kzuUZZjQtW/Lkfn79ejR/B1lJ+UbbtCbS9ne/v16VHTo6vPaW6uly6rrffTX99Kr1+Cnjzxn/wUI+EnxW/Zl8A6p+1rB4913416tpOoan4PX4MfC/QptL8P24t5dbjkubfQUuS8ayeVcSRSvJm2eOAwmWUzfoJYfEf4rX+gT/GmbxpJpnhyD4ieKfB8fwxOheHJtD/ALM8NeNta8Fx3l1q39jr4vOr6gNFfV7lItehtoXvIobe1WOKZpUnfn29yvVo73v7NQfN5KXPotbW3H/J/fo06vp7Tm93bW3Lv1vsj7n/AMcficn+hp21j2P48fzr5k+HPxH8UfEz4z/EeXSr2FfhD8PxZ+CLDyre3dPEfj6OOHUPFd9BdmLznt9Ae7h0CWMSBUvLW8lXPmEV9QDoPoO+f1PX696YDSg9x/n/AD3o2KOp/M4H+fxrhPiR8SPDHwr8Hat448WXi2eiaQqm4kyNzySOESJM/LuOWZixAVUY8nAPg1z+2l8EF8DeGvHVpr732m+KPFOleErK3s4/Pu4dR1EvNO8yRk4isdMt7zUpMEGWK2ZAY8s6AH1fgjqMcZ/AdT9PerFfOviD9pHwFZ/Dy5+IPg64b4iwQeIfCfhUWHh2RvMOteLfFWjeFLK0nnktpVtvJv8AWoWkJhl3iNooyXbcvn9n+1P4qvfFmoeBj8A/GsXibTtOj1WTTzqdu8j2E4DRTAHTYdqupB+YjOCBjPAB9lZHrRkHoc187+Ev2lfhprfw80j4keJtVi+H2navf3mkR6f4ruTa3UGpWDhLi0KeUjSSIJIWkbyFEZcAsVKM/J6D+2n+z1rWo+J7Cfx/pekL4bvWsnvr83tvp2pjkreafM1nG8kLpsdXC7GEuI3lMbNQB9aUVXtLq3vrW2vbSVZ7W8t4bq2mQ7kmt7iNZYZUPdZI3V1PcEGrFABRRRQAUUUUAFFFFABRRRQAUUUUAFFFFABRRRQAUUUUAFFFFAHxx+2pqMel/C3wzqElo+orB8VfBg+zQRrcmRZJ7/KsjZyvyDerYjJwrAqDjxnT/D3xd8N+MPHX7REvw68P3/gP4iaboOg6t8MU0TZ468O+FvD1tqR0vxdp80dymmz3xfUri41fRjo6TSQCzmtby1FvdSXH6CeKvCGi+MYNLs9es0vbPTNasdehgcKUOo6YxazkcnOUQu+9APnBwSOtU/HHw/8ADHxF0j+wfFVtqdxpQYv5GleJPEvheYvt2Ate+FtY0a+ZVUYVGuCi7jhQScqK5Yyj3qzqenPGEeX5cm/W+y1uH5ReNtT8YS/AT4ReFvC/hiKbwN46+LmjeH/iRqV/aRy6vdeFNc8baPPe+DtKZ0P9nf8ACU2kS6dqjmGXzdMe8tokiZlli4P43fC+y1PUvCPw8+GnwD+Pnw81bx3c6zbzeKLH45fGOe70fStAsjq2oXHgnw3bfFFfCg1wW0S/2Q+s6Hd6PpbzPI+kTCYJX6/R/CLwBH4V0LwadFaTw14a1fRte0Wxmv8AVbqW21fRL2K/07UJr26vZ72+uIr2CK4M15NNJI4Z5GZ3ZzFafBn4fWnxAf4pppGoXHjcQXFtb6pe+J/Fmo29pDdQvb3QsNE1PW7rQdOkubaR7aabT9MtpJLeR4i3lsVprRTX89aVX05qOHo8vnb2HNfT47W928jrf/H/AOT1q1b8Pa8vny30vZfmZ8f0i8HfDfxvf+ELX4l+APiV4W/ZQ+ItzPe3XjS6a7jTQ/C1xbaPPr7qPm8UxH7JNbeJLE2eoAW8qvsij+X5Z8Y+BdS8O+A9c8c6bq+r2Xi228IS38viy0uf2wbTUjJaKktqZNRvv2sL3RmZpcsTe6Pe2Jcl/sIODX7qeLfgz8O/G58Wv4o8NLqbePfCk/gzxeZL++B1Lw5JtJ01cXaraISAQ+n/AGV8jJZjurP+IfwI+G3xT0i00bxpY67qmiWVpFZxaRZeO/HPh3R5beJFi8q+0zw74i0uy1CIRoi+RfxXEWFyFVmZiBD3MPRob+y5/e25ubl+z0ty93e/Q/IX46eHPGet/ti+GvEOgw2Wo2OlaEzXmoeG5/jDfahpt8sKTR2g0tfi1pvgO41O1t/s3mRf8IvbaNcGYJrekaktqVk6b4Z6f8QfDPx4+N/j/wCIWm/E3xgvhXWfA93e698RPirF8NdXsLX/AIRDQzaz3HhH4N6J4D8I+Kra5Rx5aeJvD+rSGKGJXkaQSTTfsLF8O/B1v4gsPFFvodvBrWmrepa3sLSK8R1FVS6JXedzSISWY4xlmwSwrzzxX+zf8JPHPjG48e+JvD+qXniO9TT1vzb+M/GmlaXqC6Tbm105dR0LSddsNG1CO1t2Kp9sspomfDNGWZqAOn8eR6Nr/wAO76XVfFet+BdM1TTrW7n8T+G70abrmmR3KQTxyaXqP2a4FrNmZUEgtZcjJ2g7yOs8ILZx+GtHh07WbjxHZxafaR2+tX15HfahqkUcKRC+v7pI4xLfz7fMu5SgEk29gsZYxx6GoaFpWrafPo+q6dZX+jzQx27afcQLLbvAiBBE8bZUoqgIFAA2cHOSBes7SzsLe30+wt4rO0s4Ehtra2iWG3ggjUJHDGiKI41RQoVFAIUAjjqAP6df8a/JP/gotI7/ABn/AOCfUbMSjftJqxXoC39hXZycYPXnrX65kZGD39K+cfjL+zb4G+N/ij4NeKvF97rlvqfwS8cS/EHwfDpUmmiwm8RJYS2Ns2t2epaZqceoWdssplit4vspMhbfIwYBcMQnbDTTtGnj8HUqa2vSVRxmn3XvJta3S2KpNKtUvqp5fj6UFuvbTjS9l3tK8ZJSt7t27rr+QviD9ni9/bV/bl/aB1vxb8bfiR8Jp/2f9ItdI+G1z8NdctfDeq6e2oWN3ZyarLfXFtfXVvbpHYvLe3Gm3GmXN27ILi4KRwpF9xf8EzPiZ8Q/H3wb8RaV8SvFt1481nwH401rwbaeM74lr7XrDRL6e1tru/mJb7VeyoI5p7skyXDSl5Dkg13/AMav2BPgx8cPF7+PJ/EHxT+Gfiu+to7PxDrXwj8Y2/hG48WWMMrsth4lS60XWI76BElaCNoktZikaGWWSQGR+5P7I/w40z4QaB8FPAOuePfhN4T0C9tL1NR+HPiRNF8Y3t3bXHmmW98R3OnapNKdRlZpNTdYV80M64VWJXppuMaVRX0c201a0lKXMsQ3e15Raco3aTbTk9G+eo+arCWt+VRaaV/dioyw6uldKSfK95Wvy8p5Z/wUk+NN18GP2Y/F7aE5XxX47sbv4f8AhVINz3v9r+II0sYZbWNHSZpokLFZEbfG4VlWRwqH1f8AYs+BNn+zd+zX8LfhHFEVv/DfhvTpPEFywUTXniXUYVvNbuJ3TmWWS/mlZ3cktuywHWtb40/sw/D/AOPfiX4X+JPHl94rkb4Q67F4p8M6Np2p2Vroepa/azRTWV/r9rNp1zPqDW0lqjQpbXumtEs0oaTE52/SSIqKqqMBVVQPZQFX8gMdqn/hvl2Nv+H+fc/LP/gr+A/7IuoJjcj+M/Cm4YJBH9pRHB7evB6e1flV428MfF/4DeN/FP7CvgLRdTl+G/7XGueCPiR4N1m2laO18N6N4m0uO2+JdgsCOsRDX1gu8FFAVRtVjtFf0VftDfs++Dv2kfAjfD3xzqninS9DkvYb2SXwnq1vpGpNLbuskZF3c6ffooR0XB8gna0i/wAQK+j2vgPwtbt4cnl0bTL/AFPwtpcGk6LreoWVrdaxZWkUMcDLbXskJntxcLGrTJbyRRuxOEA4rLkcZOcWrudZzTjfno1cPQg6N20or2+Fw9fmaduRxsubmVQfLOEntCSqRVvhrQadKr5+zTn7tve5vI/nt/ZI8B6d8LdS/wCCpXw/0O3jtdF8OaN4H0Sxt4Y8RJHYeFvEkRbaoX/WMZZOeAzvjuK0v2V/+Cf1j8Wv2QNF8dS/tW/tVeC21vRfEEt54X8M/FKKy+HNkLW9vEe1j8OpoBuVsrhCBcRSahMuxI1IG07v138Kfsa/C7wj4g/aK8R6dq/jq5u/2lTaHx3a3uraP9l0/wCx2mp2SJ4WFp4ftLjTg8OpzI76jcavIBDbMjRskpm+YtO/4JPfCbR7CPQNK/aF/bC0rwwibU8Kad8YNDs/D8cO4ubVNOtfAUUKw7yWwqhiSSMk1eJqOUY0oQSTwOXYeUr2anhKLpSmk4r+KrN+8lGyVnYnD01GnXjKWs8disTF2v7lZUEqdk2/cdN2et+a/r3n/BMPxKuqfs0W/hc2WjW9x8OvE+u+DrnUtIsDp8HiM2WoXEkeuTRtPM0k96kvkmWSaSVvJBkZvlUfoZqeq6domn3Op6pdQ2NhZwtNc3M7bY4o0GSWJ79AB1YkAAk1598IvhH4E+B/gLRPh38P9LTS/DeiQssUcmx7y+vGYtd6pqd1sj+16hdyDzbi5ZFDMcqFXaq7njbwppXxA8M6l4T1o3P9k6zBbRagLd0Vmt/taSS2m8qx2XSxva3I24NuzAlMlqoDgvj5401PwR8J/FPifwz4Qf4ga/a6Xd3nhvQXWL+y7rVEhaSym1W7uIWhs9KikIlupWVne2WSOJ0DmWP82ry0+LXgf9nb4Q674I+G3g7UW8XeJvhh4n8VeNLjxdHo/ifxL4m8TeJ9IvdXtLuy/sVVNhf3jmwNgoax+xIM2XFfsDNotjdaKdCu4EmsJLAafLCfutb+T5BUEYKnZwGUhlPKsCAa+bNQ/Yy/Z61OytdP1Dwt4nlsbKazntLP/hbXxegsra40+RXsZ7WzTx1HbW8tu6RyRPBGjRuqNGzsoNYwpctadXmvz1cNV5bWt9X9r7t768/td7Ll5dpX0DxL9ozRfHHjf4Y+GvCHi/wJ4T0XxNqHxS8JHRvC/hX4h+I/Dq635TSfMnjPwqfDXiHw2F3BWksHLNhAzAKGPynpPwv+MmneM76wvPij8Q/g/wCJPhlZ/EnxHaf8I34w074xX2meGvFN0x8L2E/in44+HPiPeTWpJILzW0N0wIBnVizH9TfC37O3wn8G6naa3o2ja5cajYXLXmn3PiDxv458XLbXDLLskt7bxN4l1a3j2ieXCwRJvBQyMzRxsvcW/wAN/Blvd+LNSTRYPt/jsIviq6la4eXVUjtFs0iKvIxt4jEi/ubfygSN5VnAxstOf+/Rq0fT2nL73nbl2633VgPzO/aB8I/FqH9kKxuta+NPifx7Y+I7Pwz4j8SeI/Fei+FZ/E5fxIInfwv4e/4Vv4X+HotvDKmZAygp4mUHEfiVDuNfJevfD+48I+FPO0jVNUto7E+G8R29h+2LAmeAzbPEf7VniPwqC/f7Z4YvrE5GLHPT97tW8B+Etb8M23hHU9Hhn8N2wtEtdKWe6iijFmQbdAYpY5ZBGQSFkd8/MWznjB8f/CPwP8S20f8A4TXTtZ1ePQ5JZdMs7LxX4p8PWBkmMLOb+w8Na1o1jqi5giATWLe+ihVSsEab3DkverVa23teT3f5VDmtr1+LsrfMIe7QpUd/Zc/vbc3Py306W5e738tce5jC/AS6ZIfKdfhZ5vlgY2yJ4ULqADxuDcE4BLAk5NfDHgv4LfFv49/Df4Ly+LptP+HOhfC6TxR4s8K6t4Q8VXF34k8S+INa8P8AijwlpD3GoWiaafDtnpMHiG+vpo42uHubr7IkNwLSCSK5/UJLSCK0SwSFPskVulolucvH5EcYiSHDliyCNQnzFiQOSTzWVcaZPbaBPpXhI6XoN7DbNHo732ky6npVhNuLJJLptrqGlPcx5LMY4tRt8O29mcBo3UverVKv/Pzlut7cvN163UrbK1vMVNclGnR39nze8la/Mora7t8N93ufnf4T1zxD8ddN1vwv4u1jxBL4f+E3w18U+GvHdpp+ueItGPinx1d2lrFbC/1DRrzT7ye40m1ilkmia4d1N4Jl5mYDwz4b/DLwdrt/+xb4Z0XxD4rh0m80nx5N4wOnePfF91rlx5GjeIZk0228WX/iW+8XeGfPuRAzHwjregSGOGNLSR4kgjg/Tr4M/B+D4VeH76C/1mPxR4n8Rahe634x8Rtpq6VHretajM0t1NDpn2zUvsFqsXlWsNo19eFIYEBmIIC9nonw58B+Hri1utA8IeHdJm0+a5ls5tO0q2glt3vhIl75LRxq0IlMj5VGKKuVRVBYFjPzU0HXNZOo6X8F/EPxD8YWXwji+MnjTw3q+v3virX4PFl5puiF73SvC+q/E436+KLa3JitobXV7XxFZ+I5iJGm1qZYoFhpeNP7b8OaV4s+HPw/+L/xDTwNpfxq+F1p4R8T6b4s1PxRrGgw6+LT/hIvCth4w1278R+ItetA0khWHxDq3iPyG3MwGSG/T2/+HngfVrG90vVPCXh2+stSuHvdTs7nSLO4tb66kcyPPPHLC3mSGXD72w+5QQ2RkRaR8OvAmh6XFoOj+FNF0/SYLw39tYw6dElpHeqFZbmNEQDcOAHZskDYCQeAD5F8AXEnwl+MXxt+F2ieOrrTPDEfhrwX4o8Lf8LT8U+JfiBp/hzxJrNktpfKL7xT4mHiV9O1O8H26TTn8UKr3jYsxZplG6f9na+vH+LHx4ttdk0zxJ40vb3wRq3iHxv4XWSDwVqK2/g/TNK0bRNGtDJfPp66Xp1vDJPbzavrdx9ruby4kvA84to/pXXPh14F8Sm+XXvCGgaoNUt0g1OW6063e5vY49vlR3M6xpcyLGFwhaQkA7V2qSDoeGvB/hnwXp66R4S0HTPDmmxiMJb6XZw28LeWrKnmqi+ZKy5I3u5cg8SZJoA/Jv8AaJ03xnN+078Z9d1nW/Bvg3w5o/7PHw2T7J/wjV54o/4TTwy3j74t4HiZrC/8PeJbG8Ui9j2eGNb0i7XFkFvdv3vGfg74csLX4rrY6c/hJx8PfEvhe+8N32mW/wC1f4v8Nv8A8JHopveLLxJ+1F4l8M2N7aC9Nkd+j35JwAcba/W7Vv2Yvg9rnjDX/HeseFpdY8S+Jk0xNWudZ8R+KNW02ZNEl1CfS7VNFu9ZbSbXT7SbVNQlGmW9lHYyfaZojHHlWOBZfsc/s/6b4i1XxNpXhLXtE1TWb+PUrt/DPxF+I3hXTTdQmQxPFo3hjxbo+jwtF5jeW8emrLyRJNJ1oDv58j/8AoUaL/8AAvY8/lzcuvLd+A/GjxF4p+BvxG8PfHP4o6/4SvfhbpEd/wCFpvhV4UsWi1eKPxKpifxsthcrPe+Kb4X9mtumlK/k2Flf743DrIV2P2ebb4keM77VvixomueFdb+GXxI+2/YPB17BEnibwTZS2DR6Rf2OsJiSP7YeL/w9qACEOt5Z/ZARj6j0j4A/CLSNSXVm8HW+uaxG5eHVvF95q/jXUbckAEWmoeLb3Wbm1iwxBht5khyx+XO41PZ/Az4Y6f4jsvFmj+Hp9D1uxd5Y5dD1vXtEsZpZCGL6no2k6rZ6PrGCqhF1OyvkRVAjCZYsAfjJ8e/gb4z8KfAfw+viv9mD4GDXI/jr8GYn8XtqGmjxPrDan8b/AAgtvZXyjw5u/wCKjINjqDfbcfYb3n7wz9haF8FfHeleN77xHF8NPCH7OGjt8LvEumSeI/gYfBl9exX6ws23+z9a8HX3hpW2EeUb3wzebtoILMhev0E8a+AfCfxG0mDQ/GGj2ut6Xa6zoPiC3tbsyiOPV/DOsWevaJdjyXhc/Y9V0+1uvKL+XL5XlyAozA9iYojEYWjRoTH5TRFQyGPbsKFSCGUr8pBBBXgjFC6+fJ/5JQo0fO9/Y83lzcq0imw/B2Xw+nxJ0L9k7xz/AMNe/EKD/hZmraFqTWV3F+y79t8GjUfDf23dmw+BmieYW3HP/CQ2ZUfd+xhiwX3vWNI15rX44eGrf44+OfippHwqvfBF1eXXiC1+Cmn6YyNp1l4i1S5sG+G3wq8G3rXmmwa0ljINR1bVHYLByN1x9o+8f+GZ/wBniOO0t0+DfgGOHTyDp8MPhizii08hdqmxRIEjs9qnav2cRBV+UYXii3/Zn+B1oNaW0+H2nWcPiLUbHWNasbW71OCw1K/0xEitHvdPh1BLG6ijjjhjNpcRS2bRxxxtDsRQAD8aPCnhaPQvDlp+0xqV5czp8MvCXw/k07wZqgFr9tv1e+F3Ivhdi16L0f6F9iKjKhhwASR+uP7ImlWFl8CPB+p2D2//ABW1x4g8fXggiEEsd5428Qar4ma2l4yJtPg1GHTnjAQQi2eNRwuPVdT+Enw41vXLfXtV8JaRqWqafa2tpardwmSxht7WMx2gGmDGmZgjysJa0doVCeXtCoKTwp8JvAXgY+I4/CWiPoEHimSG41e0sNa15LRrmOOWH7Tp1lLqclloU8gmb7Q+iRWL3cqwTXLvLBC6AHyp4r8OeGPHH7dukWPjDSrHxJD4N/Z8svEHhPTtbguNQ0rQ9d1Txxr8F5rsGlzP/ZUurPHpFgEvTCNRsksomsrm2YSbvuWNFijSGFFijjRY4oYlVY40UYWOONQiKijAVQEUDgACvL/AHwG+Gfw08Qa/4q8L6PqJ8S+J7a2sta17xD4o8VeL9WurO0utQvLeyhvfFetazJp9lFNqVyVs9M+xW20ojRNHFCkXrAUrIDnIB5PA9e2aI+7So0t/ZfWPe/m+sY3E4vbW3J9Y9na75uTn93m5Ypq9WpUVl7RUlypfD7KhTo7/AGnL2fM3ZW5ra2u/H/j/AOE/BXjn4NfEfwj8R9bvPDngjXPDN5Z+JfEGn3Ntb3ml6c7AyXVu9zZ6hBFLGY0VSbKcsuYyAW3L+Hn7VX7Onwf/AGNfhN8B/wBoP9lbxl440v4g2nxW+GXh2y8ZD4i+KfEzfE/QPEOvR6XqOi6lo+q6zcaPLYXdvPcx3EWk6bp0YgmkdxKywCP+gjxV4T0Pxn4e1rwt4jsYtV0TX7KfT9TsLhVeK4tp1YMpVhjcjv50bZBWRUwQo218IfD/AP4Jk/s5+AfF+i+KV1T4seLdK8Lagur+Dfhn468enxF8MfBepLJPPZ3Ph3w1/ZVnNE9jcTvNaC81W/VZAm8SKoWh6+z7Qr0a9tPe9k5Pl7q6k1fpreMtLPbn/vUatL09py+958vLt1vurH3xo8s9xpGi3UxY3E2lWs05ckk3E9rBI+4sGORKSSxyxIzySc/l1/wTgd5fHf7dUrsXJ/ai8Ux7ic/MjysyZ9VMmT7tX6A2PwmttP8AixrXxXi8bfEC6n1jQbXQ5PBF14hSf4d6fHbsX/tGw8NLYpJFqsy7FknGoFSmSIyWArj/AIWfs1+Bvg83xnfwXrPi6yuPjf4x1nx14luZ9Q0qWbRNf12xNlc3Phwx6NBBa+VxPbC+i1aWGaOESSSxpJ5yt8f9+hUo+ntJU5c3nb2draXvurapq6gv5a1Or6+z5vd8r82+trbO5+ff7N8kf7UH7ffxx/aCYLq3gH4Fo/wn+HV95bNYT65bKlprV7p+9jiaR0ubgzrgyQm0VlBQF/pT9oL4T6F4I03XvFum+LvGJt/E2vTXOg/B9NQ0iTwTefEPxTdTHVPFeJdCuvFC6heXt3Jqs9jDrjeH11Ka4nl0a4F48ae3/sz/ALMnw8/ZW+Hh+G/w4u/Et9pcmq6jrV9qvi3VbXWfEOoalqF3PeTzX9/a2WnxzgzXcwgQ2bPDA0UBlfyY2b0jxX8M/Dni/wATeFfFPiB7y4m8HNdTaTpfmxroct3dtARe6nYyW8v265tkt/LsWaWOO0E858uWSRHVxvGjQpN39hSjSUtubl+01ra7bdru212OSUq1SqlZVORKH8qgmrX0ve/ZWt5nxl8PtX+LHw58Ia5ofgC3+H0HgX4IXsPh/wAaHXbPUL7xJ498X3ejaV4s8X6xDrlh4h0qx0a6k1fxPJ5q3OlapLc3mJUmeGaPH6B6LqEeraPpeqQqFi1HT7O9jUHIRLq3jmVQQT90Pt6kjGDzmvEfEv7Pnh7xB4r1vxPB4r8ceGbXxa9tP438I+GdR0Sz8IeNr+wt7fTrfU/EFrqXh3VtYh1BtJsrCwuZ/D+saELu3sYnufNnJuK94srSCws7Wxto1it7S3htoY0XaiRQosaKq5OAFUYGT7k9aAPjv9uN7+P4M6aum3mi6bfN8SPh59jvvEdlJqOh28//AAkFsoGqWiXdl9otZYjPHPE15GsiMQWIJB+d/hR4L8RXfxI+M/xGFh8LPip8R/DPi7RrZItAj8Rad4RvfCV5Yzf21a+ENKk8aeKNN0bxMEFt5Or38epSpHZNYjJvWz+jPj/4a+DPihoH/CL+OdGh13QRdWV8NOuJJ44/tNhcLcQSFoZEkbY6R4BbjbldrEMOCsP2dPg9oeh674a8N+CofCej+Jr+DVdbtPCGr+JvCX23UrEziwujeeGdc0u9skiW4uN9taTwRTtOjPloiSorli1e96k6l/8AGoK3Xbkvfre1lbUPzu+NKWlx4P8AiXoq6FqDzeOP2n/gnp6eENE1e70bVLkad4w8PeJtbs9I8Q+HDZaxpF/aWPh/UVa5sLmyntwfNkbC7K5DTPht4ej+Pnimwi+A37UCbvA+jTNpMX7SvxrXVjGCE+1NrK/Fc6o0W8FWjM20ORHgZAr9TfDfwB+FHhG40C40HwpFHe+GNRutb0W9v9V13Vb6LV7uym0+fULu91PVLyTULsWV3cW1vNffaZLSKadbWSITThtjxX8H/Afje71i812y1v7Vr1jaabqVzovizxV4VvGtbJZPJSPUPC2t6LfR5WQpJ5N06MUQlR+88x9/Pk7fYoUaHbr7Hm8ua2trs/8At/8AyevWrfh7Xl/7dvomor8yPhppOs678Mf2bPC/w4Phvw5420n4m+NfEVvZfEeDxL4006HT7R9Usp4tZS18SWOpaveJaxwQT3V1rszzTQPO8kksrsfrPxT8Kf2pfE/hrW9DuPG37NZj17TzbTx2nwX8bWcoRkYBk1Fvi1KwYEqis1mWVAACNzge+eCvgf8ADT4eS6NceEvDaaZNoOnXWl6c8upaxqMkVndOryq02rahfTSyMQ26ednmcyPI7F9pHqADhvmBG0kcnIxyBjnoRg45x0NAGZ4U0q40Lwx4e0W6e0kutJ0TStNuHsIZLexaexsobaU2UE0ks0NoXjb7NDLLJJFDsR5HYFjv0i9B9B/KloAKKKKACiiigAooooAKKKKACiiigAooooAKKKKACiiigAooooAKKKKACiiigApAqqAFAAHTA6UtFABR/n/P5miigApMD0H5UtFADX+6fw/mKjdQCpHGM/jnFSP90/h/MUxyckenT8hWdVXg13cfwkn96Sdn06alQXvJ9Unr1Sas/v6gd33gMDr278H8/pTxhuSMenPXB9PYgdfQelMwdmc8emPf1pVYgf7vUeuT+mP1pqSb30tZrVLVrpt5fNatbLlST/xt37P7l8n+XWSio/M9v1/+tR5nt+v/ANarESEZ9fwP+c/jSYPqf0/wpnme36//AFqPM9v1/wDrUASAY/X8zyfzNFR+Z7fr/wDWo8z2/X/61ADyqsCCAQQQfcHgj8Rx9KNq5JwMt9734A59eAB9KWigAoIB6gH60UUAFH+f8/kKKKAGsqsMMMj8f59acAAAB0AwPoKKKACjA6459aKKAEKgjBAIPP4+tIqKgwoCj0HSnUUAFJgZzjnGM+1LRQAUUUUAGB6UUUUAFGB+dFFABRRRQAUUUUAFFFFABRgegoooAKKKKAEIB7e/p0+lIEQYwo4OR9adRQAUEA9QD9aKKACiiigAooooAKTA44HHTjp9PSlooAKTAznHPrS0UAFFFFABRRRQAUUUUAFFFFABRRRQAUUUUAFFFFABRRRQB//Z)"
      ]
    },
    {
      "cell_type": "markdown",
      "metadata": {
        "id": "XUfrEmcsbR9T"
      },
      "source": [
        "we can see the big difference between time complexity of sol1 and sol2"
      ]
    },
    {
      "cell_type": "markdown",
      "metadata": {
        "id": "YIkZCofzbR9U"
      },
      "source": [
        "summary我的复杂度分析（不知道对不对..）:\n",
        "\n",
        "solution1: time O(nlogn) , O(1) space (btw,比大小有没有time complexity啊？python sort是nlogn，但是comparison呢，不同语言，或者是不是base10有区别吗)\n",
        "\n",
        "solution2: time O(n^2), O(n) space\n",
        "\n",
        "other sol:\n",
        "\n",
        "4.建立一个集合或数组，因为数组中的数字要么出现一次，要么出现两次，所以遍历数组，num not in set,add num, num in set, remove num,类似于处理奇偶性\n",
        "\n",
        "5.用哈希表存储每个数字和它出现的次数，然后遍历哈希表返回出现次数为1的数字（这是不是用字典也行？）\n",
        "\n",
        "6.一个集合存储数字，因为这题要么出现1次要么出现两次，所以集合元素和*2-数组元素和=出现次数为1的那个数\n",
        "\n",
        "sol4-6都需要space O(n),此题有个follow up requirement: linear time complexity+no extra using space (i.e. O(1))\n",
        "\n",
        "final_sol:\n",
        "神奇的亦或运算：（ 链接中有此题亦或运算的性质）"
      ]
    },
    {
      "cell_type": "markdown",
      "metadata": {
        "id": "wm9TmVlpbR9V"
      },
      "source": [
        "class Solution:\n",
        "    \n",
        "    def singleNumber(self, nums: List[int]) -> int:\n",
        "        return reduce(lambda x, y: x ^ y, nums)\n",
        "\n",
        "作者：LeetCode-Solution\n",
        "链接：https://leetcode-cn.com/problems/single-number/solution/zhi-chu-xian-yi-ci-de-shu-zi-by-leetcode-solution/\n",
        "来源：力扣（LeetCode）\n",
        "\n",
        "复杂度分析\n",
        "\n",
        "时间复杂度：O(n)，其中 n 是数组长度。只需要对数组遍历一次。\n",
        "\n",
        "空间复杂度：O(1)\n"
      ]
    },
    {
      "cell_type": "markdown",
      "metadata": {
        "id": "Ks3pA_gEbR9W"
      },
      "source": [
        "![微信图片_20210425221823.jpg](data:image/jpeg;base64,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)"
      ]
    },
    {
      "cell_type": "markdown",
      "metadata": {
        "id": "vnwm7WVmbR9b"
      },
      "source": [
        "还有神奇的reduce函数与lambda"
      ]
    },
    {
      "cell_type": "markdown",
      "metadata": {
        "id": "jN2SjV92iPwF"
      },
      "source": [
        "## LC 189 Rotate array"
      ]
    },
    {
      "cell_type": "markdown",
      "metadata": {
        "id": "j9ChGixjiZwH"
      },
      "source": [
        "s1 mine"
      ]
    },
    {
      "cell_type": "markdown",
      "metadata": {
        "id": "Ill-OjeFibAu"
      },
      "source": [
        "class Solution:\n",
        "    \n",
        "    def rotate(self, nums: List[int], k: int) -> None:\n",
        "        \"\"\"\n",
        "        Do not return anything, modify nums in-place instead.\n",
        "        \"\"\"\n",
        "        k=k%len(nums)\n",
        "        p=[]\n",
        "        for i in range(len(nums)):\n",
        "            p.append(nums[i-k])\n",
        "        for i in range(len(nums)):\n",
        "            nums[i]=p[i]"
      ]
    },
    {
      "cell_type": "markdown",
      "metadata": {
        "id": "Xoli8lS1l8pH"
      },
      "source": [
        "s2 一个神奇的方法：\n",
        "该方法为数组的翻转：我们可以先将所有元素翻转，这样尾部的 k mod n个元素就被移至数组头部，然后我们再翻转 [0, k mod n-1]区间的元素和 [k mod n, n-1]区间的元素即能得到最后的答案。\n"
      ]
    },
    {
      "cell_type": "markdown",
      "metadata": {
        "id": "koccL3P9mhir"
      },
      "source": [
        "class Solution:\n",
        "    \n",
        "    def rotate(self, nums: List[int], k: int) -> None:\n",
        "        \"\"\"\n",
        "        Do not return anything, modify nums in-place instead.\n",
        "        \"\"\"\n",
        "        k%=len(nums)\n",
        "\n",
        "        def swap(nums,start,end):\n",
        "            while start<end:\n",
        "                temp=nums[start]\n",
        "                nums[start]=nums[end]\n",
        "                nums[end]=temp\n",
        "                start+=1\n",
        "                end-=1\n",
        "        \n",
        "        swap(nums,0,len(nums)-1)\n",
        "        swap(nums,0,k-1)\n",
        "        swap(nums,k,len(nums)-1)"
      ]
    },
    {
      "cell_type": "markdown",
      "metadata": {
        "id": "b5R3lsSJn_2B"
      },
      "source": [
        "note:\n",
        "\n",
        "此方法只需O(1) extra space\n",
        "\n",
        "python里不能像C++，java那样i--,只有i=i-1或者i-=1\n",
        "\n",
        "python里self-define函数的引用必须出现在定义之后，local variable referenced before assignment not allowed "
      ]
    },
    {
      "cell_type": "markdown",
      "metadata": {
        "id": "FOvFwoedqfHm"
      },
      "source": [
        "\n",
        "\n",
        "## LC 217 contains duplicates"
      ]
    },
    {
      "cell_type": "markdown",
      "metadata": {
        "id": "kT-2zikrqnfY"
      },
      "source": [
        "s1 mine"
      ]
    },
    {
      "cell_type": "markdown",
      "metadata": {
        "id": "dF2yrmTmqorj"
      },
      "source": [
        "class Solution:\n",
        "    \n",
        "    def containsDuplicate(self, nums: List[int]) -> bool:\n",
        "        a=sorted(list(set(nums)))\n",
        "        if a==sorted(nums):\n",
        "            return False\n",
        "        else:\n",
        "            return True"
      ]
    },
    {
      "cell_type": "markdown",
      "metadata": {
        "id": "YEnKYZp2qrHc"
      },
      "source": [
        "note:\n",
        "注意列表转集合的排序问题(看起来排序乱七八糟的，改天再看下set到底什么原理)"
      ]
    },
    {
      "cell_type": "code",
      "metadata": {
        "colab": {
          "base_uri": "https://localhost:8080/"
        },
        "id": "SRRaFbCoq30a",
        "outputId": "0442b683-28f0-45f1-c681-074c4af8bc93"
      },
      "source": [
        "a=[3,5,5,1,0,0]\n",
        "print(set(a))"
      ],
      "execution_count": null,
      "outputs": [
        {
          "output_type": "stream",
          "text": [
            "{0, 1, 3, 5}\n"
          ],
          "name": "stdout"
        }
      ]
    },
    {
      "cell_type": "code",
      "metadata": {
        "colab": {
          "base_uri": "https://localhost:8080/"
        },
        "id": "LBhOi-36rHbU",
        "outputId": "260c0c3d-5af6-4066-b9cc-f92d77bb4fd4"
      },
      "source": [
        "a=[1,5,-2,-4,-2,5,0]\n",
        "print(set(a))"
      ],
      "execution_count": null,
      "outputs": [
        {
          "output_type": "stream",
          "text": [
            "{0, 1, 5, -4, -2}\n"
          ],
          "name": "stdout"
        }
      ]
    },
    {
      "cell_type": "code",
      "metadata": {
        "colab": {
          "base_uri": "https://localhost:8080/"
        },
        "id": "01RWVEpTra8B",
        "outputId": "832520f0-11ac-4f1f-de41-1850c1fbb7aa"
      },
      "source": [
        "a=[1,5,-2,-4,-2,0.1,-0.1,5,0]\n",
        "print(set(a))\n",
        "print(sorted(set(a)))"
      ],
      "execution_count": null,
      "outputs": [
        {
          "output_type": "stream",
          "text": [
            "{0.1, 1, -0.1, 0, 5, -4, -2}\n",
            "[-4, -2, -0.1, 0, 0.1, 1, 5]\n"
          ],
          "name": "stdout"
        }
      ]
    },
    {
      "cell_type": "markdown",
      "metadata": {
        "id": "_bGfZC7_xSvT"
      },
      "source": [
        "Here is a solution with C++ 先排序，然后只需遍历相邻元素比较即可"
      ]
    },
    {
      "cell_type": "markdown",
      "metadata": {
        "id": "BfLwrkDIxXMF"
      },
      "source": [
        "class Solution {\n",
        "\n",
        "public:\n",
        "    \n",
        "    bool containsDuplicate(vector<int>& nums) {\n",
        "        sort(nums.begin(), nums.end());\n",
        "        int n = nums.size();\n",
        "        for (int i = 0; i < n - 1; i++) {\n",
        "            if (nums[i] == nums[i + 1]) {\n",
        "                return true;\n",
        "            }\n",
        "        }\n",
        "        return false;\n",
        "    }\n",
        "};\n",
        "\n",
        "作者：LeetCode-Solution\n",
        "链接：https://leetcode-cn.com/problems/contains-duplicate/solution/cun-zai-zhong-fu-yuan-su-by-leetcode-sol-iedd/\n",
        "来源：力扣（LeetCode）\n",
        "著作权归作者所有。商业转载请联系作者获得授权，非商业转载请注明出处。\n",
        "\n",
        "复杂度分析\n",
        "\n",
        "时间复杂度：O(NlogN)，其中 N 为数组的长度。需要对数组进行排序。\n",
        "\n",
        "空间复杂度：O(logN)，其中 N 为数组的长度。注意我们在这里应当考虑递归调用栈的深度。\n"
      ]
    },
    {
      "cell_type": "markdown",
      "metadata": {
        "id": "wjkT7Id2x4nZ"
      },
      "source": [
        "note:\n",
        "\n",
        "可以看出，有关built-in sort的复杂需要结合该语言该版本在内置排序中涉及的sort algorithm是什么。\n",
        "\n",
        "可以google得知python list sort() has been using Timsort algorithm since version2.3, and on average the runtime complexity  of Timsort are O(nlogn)"
      ]
    },
    {
      "cell_type": "markdown",
      "metadata": {
        "id": "kWlspwtl3KMn"
      },
      "source": [
        "another sol with java, 一样是用set集合不能有重复元素的特性"
      ]
    },
    {
      "cell_type": "markdown",
      "metadata": {
        "id": "435iGM_B3XTi"
      },
      "source": [
        "class Solution {\n",
        "    \n",
        "    public boolean containsDuplicate(int[] nums) {\n",
        "        Set<Integer> set = new HashSet<Integer>();\n",
        "        for (int x : nums) {\n",
        "            //因为集合set中不能有重复的元素，如果有重复的\n",
        "            //元素添加，就会添加失败\n",
        "            if (!set.add(x)) {\n",
        "                return true;\n",
        "            }\n",
        "        }\n",
        "        return false;\n",
        "    }\n",
        "}\n",
        "\n",
        "作者：LeetCode-Solution\n",
        "链接：https://leetcode-cn.com/problems/contains-duplicate/solution/cun-zai-zhong-fu-yuan-su-by-leetcode-sol-iedd/\n",
        "来源：力扣（LeetCode）\n",
        "著作权归作者所有。商业转载请联系作者获得授权，非商业转载请注明出处。\n",
        "\n",
        "复杂度分析\n",
        "\n",
        "时间复杂度：O(N)，其中 N 为数组的长度。\n",
        "\n",
        "空间复杂度：O(N)，其中 N 为数组的长度"
      ]
    },
    {
      "cell_type": "markdown",
      "metadata": {
        "id": "APs6IByF4TlG"
      },
      "source": [
        "PS:一个不知道好不好的东西：\n",
        "\n",
        "我（someone）把部分算法题整理成了PDF文档，截止目前总共有900多页，大家可以下载阅读\n",
        "链接：https://pan.baidu.com/s/1hjwK0ZeRxYGB8lIkbKuQgQ\n",
        "提取码：6666"
      ]
    },
    {
      "cell_type": "markdown",
      "metadata": {
        "id": "bjOtw9WU2Elp"
      },
      "source": [
        "##LC 283 Move Zeroes"
      ]
    },
    {
      "cell_type": "markdown",
      "metadata": {
        "id": "WFSGzlfK2Kgo"
      },
      "source": [
        "s1 mine"
      ]
    },
    {
      "cell_type": "markdown",
      "metadata": {
        "id": "zhoiszDZ2gpz"
      },
      "source": [
        "class Solution:\n",
        "    \n",
        "    def moveZeroes(self, nums: List[int]) -> None:\n",
        "        \"\"\"\n",
        "        Do not return anything, modify nums in-place instead.\n",
        "        \"\"\"\n",
        "        n=len(nums)\n",
        "        i=0\n",
        "        while n>0:\n",
        "            if nums[i]==0:\n",
        "                del nums[i]\n",
        "                nums.append(0)\n",
        "                i=i-1\n",
        "            n=n-1\n",
        "            i=i+1\n",
        "        return nums"
      ]
    },
    {
      "cell_type": "markdown",
      "metadata": {
        "id": "kR7wrDdz20Oc"
      },
      "source": [
        "s2 mine(双指针)"
      ]
    },
    {
      "cell_type": "markdown",
      "metadata": {
        "id": "4C7BlpvN23vk"
      },
      "source": [
        "class Solution:\n",
        "    \n",
        "    def moveZeroes(self, nums: List[int]) -> None:\n",
        "        \"\"\"\n",
        "        Do not return anything, modify nums in-place instead.\n",
        "        \"\"\"\n",
        "        n=len(nums)\n",
        "        fast,slow=0,0\n",
        "        while fast<n:\n",
        "            if nums[fast]!=0:\n",
        "                nums[slow]=nums[fast]\n",
        "                slow+=1\n",
        "            fast+=1\n",
        "        for i in range(slow,n):\n",
        "            nums[i]=0\n",
        "        return nums"
      ]
    },
    {
      "cell_type": "markdown",
      "metadata": {
        "id": "CsWDdyIfVP9D"
      },
      "source": [
        "## LC 350 intersection of two arrays II"
      ]
    },
    {
      "cell_type": "markdown",
      "metadata": {
        "id": "48nZYvq6VYlz"
      },
      "source": [
        "My sols(comparision):"
      ]
    },
    {
      "cell_type": "markdown",
      "metadata": {
        "id": "VJPU7i9qVfS-"
      },
      "source": [
        "class Solution:\n",
        "    \n",
        "    def intersect(self, nums1: List[int], nums2: List[int]) -> List[int]:\n",
        "        a=list(set(nums1)&set(nums2))\n",
        "        n=len(a)\n",
        "\n",
        "        def addmore(a,k,obj):\n",
        "            while k>0:\n",
        "                a.append(obj)\n",
        "                k-=1\n",
        "\n",
        "        for i in range(n):\n",
        "            addmore(a,min(nums1.count(a[i]),nums2.count(a[i]))-1,a[i])\n",
        "        return a\n",
        "        \n"
      ]
    },
    {
      "cell_type": "markdown",
      "metadata": {
        "id": "j0DnTY2yVsIx"
      },
      "source": [
        "class Solution:\n",
        "    \n",
        "    def intersect(self, nums1: List[int], nums2: List[int]) -> List[int]:\n",
        "        a=[]\n",
        "        for i in range(len(nums1)):\n",
        "            if nums1[i] in nums2:\n",
        "                a.append(nums2.pop(nums2.index(nums1[i])))\n",
        "        return a\n",
        "\n",
        "        \n"
      ]
    },
    {
      "cell_type": "markdown",
      "metadata": {
        "id": "Joh-3WqCV42O"
      },
      "source": [
        "class Solution:\n",
        "    \n",
        "    def intersect(self, nums1: List[int], nums2: List[int]) -> List[int]:\n",
        "        if len(nums1)>len(nums2):\n",
        "            temp=nums1\n",
        "            nums1=nums2\n",
        "            nums2=temp\n",
        "        \n",
        "        j=0\n",
        "        for i in range(len(nums1)):\n",
        "            if nums1[i] in nums2:\n",
        "                nums1[j]=nums2.pop(nums2.index(nums1[i]))\n",
        "                j+=1\n",
        "        return nums1[0:j]\n",
        "\n",
        "        \n"
      ]
    },
    {
      "cell_type": "markdown",
      "metadata": {
        "id": "r1fAVc_DWAnW"
      },
      "source": [
        "class Solution:\n",
        "    \n",
        "    def intersect(self, nums1: List[int], nums2: List[int]) -> List[int]:\n",
        "        if len(nums1)<=len(nums2):\n",
        "            j=0\n",
        "            for i in range(len(nums1)):\n",
        "                if nums1[i] in nums2:\n",
        "                    nums1[j]=nums2.pop(nums2.index(nums1[i]))\n",
        "                    j+=1\n",
        "            return nums1[0:j]\n",
        "        else:\n",
        "            j=0\n",
        "            for i in range(len(nums2)):\n",
        "                if nums2[i] in nums1:\n",
        "                    nums2[j]=nums1.pop(nums1.index(nums2[i]))\n",
        "                    j+=1\n",
        "            return nums2[0:j]\n",
        "\n",
        "\n",
        "        \n"
      ]
    },
    {
      "cell_type": "markdown",
      "metadata": {
        "id": "cK9ZpBw1YQ3b"
      },
      "source": [
        "![QQ截图20210426165108.png](data:image/png;base64,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)"
      ]
    },
    {
      "cell_type": "markdown",
      "metadata": {
        "id": "rw4-WCy2YfOz"
      },
      "source": [
        "The last line is the time and space for the first submission"
      ]
    },
    {
      "cell_type": "markdown",
      "metadata": {
        "id": "eQsDgyzIb0Zf"
      },
      "source": [
        "Official Solutions："
      ]
    },
    {
      "cell_type": "markdown",
      "metadata": {
        "id": "dqmlzpNVb4YA"
      },
      "source": [
        "##LC"
      ]
    },
    {
      "cell_type": "markdown",
      "metadata": {
        "id": "RPHqFnA4HPi2"
      },
      "source": [
        "#PartD: Note for written exam & interview\n"
      ]
    },
    {
      "cell_type": "markdown",
      "metadata": {
        "id": "7oZ63Fc9Hf6N"
      },
      "source": [
        "2020.4.11 Microsoft coding test through codility\n",
        "          6 easy questions\n",
        "\n",
        "2020.5.30 Byte camp coding test through nowcoder\n",
        "          3 difficult questions"
      ]
    },
    {
      "cell_type": "markdown",
      "metadata": {
        "id": "0c4QXP2gH1k4"
      },
      "source": [
        "1.ACM 模式是什么鬼，多做一些这种单行或多行输入输出处理的题\n",
        "\n",
        "还有好像输出是用print表示的？不是return..."
      ]
    },
    {
      "cell_type": "code",
      "metadata": {
        "id": "HG43UKXuISUN"
      },
      "source": [
        "import sys\n",
        "n=sys.stdin\n",
        "n=sys.stdin.readline().strip()\n",
        "for line in sys.stdin.readine().strip():\n",
        "  ...."
      ],
      "execution_count": null,
      "outputs": []
    },
    {
      "cell_type": "markdown",
      "metadata": {
        "id": "dAztDt9mIgtx"
      },
      "source": [
        "2.大致记录一下这三道题\n",
        "\n",
        "Q1：\n",
        "\n",
        "input是一个只包含小写字母的字符串，比如abbbaaccb\n",
        "\n",
        "找到包含所有字母的最短连续子字符串，当不唯一时，用左边那个。\n",
        "\n",
        "输出该子串的index和长度，如baac,即(3,4)\n",
        "\n",
        "当时def window(k,string),用初始长度为len(set(list(string)))的窗口遍历，然后不行了在递增window size, time complexity直逼n立方，超时了\n",
        "\n",
        "Q2：\n",
        "小A与小B象棋残局，都只剩马和将，假设小A不再移动，输出小B用马去吃掉对方将的路径数（小B马从原点走，输入为四个数，表示小A马和将在第一象限的位置，马走日，考虑绊腿，且不能走到能被小A的马吃掉的位置）\n",
        "\n",
        "Q3：公司员工发D,E,F三种服装，多行输入，第一行给出员工总数N（包括领导），\n",
        "2——N+1（第i）行分别给出第i-2号员工穿D，E，F的快乐值，0号是大领导，第N+2——2N行表示领导关系，每个员工只有一个直系领导，员工不能和直系领导撞衫。输出所有人的总快乐值的最大值。\n",
        "\n",
        "\n",
        "\n"
      ]
    },
    {
      "cell_type": "markdown",
      "metadata": {
        "id": "9yL041ONb26C"
      },
      "source": [
        "#PartE: Java (from 2021 summer)"
      ]
    },
    {
      "cell_type": "markdown",
      "metadata": {
        "id": "Xm5NfxKwcAbR"
      },
      "source": [
        "慢慢寻找自己的兴趣和反感的东西，了解一下前端、后端、产品、人工智能深度学习、AI算法，UI设计、各种编程语言等方向的前景与能力需求。"
      ]
    },
    {
      "cell_type": "markdown",
      "metadata": {
        "id": "MMgLAltucxLN"
      },
      "source": [
        "      tentative learning plan实习:\n",
        "\n",
        "      1.基础\n",
        "\n",
        "      2.多线程\n",
        "\n",
        "      3.JVM\n",
        "\n",
        "      4.设计\n",
        "\n",
        "      5.spring-TOC,AOP\n",
        "\n",
        "      6.springboot\n",
        "\n",
        "      7.springcloud"
      ]
    },
    {
      "cell_type": "markdown",
      "metadata": {
        "id": "PgB45oYZ3qoi"
      },
      "source": [
        "学习资料：Core Java Volume I (java核心技术卷I)+[Github资料java部分](https://github.com/CyC2018/CS-Notes)\n",
        "\n",
        "以下笔记结合此资料及相关知识，作为对学习过程中思考的简要记录和学习进程的体现。\n",
        "\n",
        "\n",
        "\n"
      ]
    },
    {
      "cell_type": "markdown",
      "metadata": {
        "id": "aM7Ave1Jd1-4"
      },
      "source": [
        "##java基础"
      ]
    }
  ]
}